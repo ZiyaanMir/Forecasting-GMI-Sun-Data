{
 "cells": [
  {
   "cell_type": "code",
   "execution_count": 2,
   "metadata": {},
   "outputs": [],
   "source": [
    "import os\n",
    "import numpy as np\n",
    "\n",
    "from sunpy.net import Fido, attrs as a\n",
    "import astropy.units as u\n",
    "\n",
    "import sunpy.map\n",
    "from astropy.io import fits\n",
    "\n",
    "from aiapy.calibrate import register, update_pointing, correct_degradation\n",
    "from aiapy.calibrate.util import get_pointing_table, get_correction_table\n",
    "import aiapy.psf\n",
    "\n",
    "import matplotlib.pyplot as plt\n",
    "\n",
    "from tqdm.notebook import tqdm\n",
    "\n",
    "import cv2\n",
    "from PIL import Image\n",
    "\n",
    "import shutil\n",
    "\n",
    "import time\n",
    "import datetime\n",
    "from dateutil.relativedelta import relativedelta\n",
    "\n",
    "from concurrent.futures import ThreadPoolExecutor\n",
    "\n"
   ]
  },
  {
   "cell_type": "markdown",
   "metadata": {},
   "source": [
    "### Downloading the Data"
   ]
  },
  {
   "cell_type": "markdown",
   "metadata": {},
   "source": [
    "#### Set time range"
   ]
  },
  {
   "cell_type": "code",
   "execution_count": 3,
   "metadata": {},
   "outputs": [],
   "source": [
    "start_date = '2012/01/01 00:00:00'\n",
    "end_date = '2024/01/01 00:00:00'\n",
    "\n",
    "# Set Time Range\n",
    "time_range = a.Time(start_date, end_date)"
   ]
  },
  {
   "cell_type": "markdown",
   "metadata": {},
   "source": [
    "#### Download Directory"
   ]
  },
  {
   "cell_type": "code",
   "execution_count": 4,
   "metadata": {},
   "outputs": [],
   "source": [
    "# Specify the directory where you want to download the files\n",
    "download_directory = 'C:\\Sun Data'\n",
    "os.makedirs(download_directory, exist_ok=True)"
   ]
  },
  {
   "cell_type": "markdown",
   "metadata": {},
   "source": [
    "#### Search for fits on VSO"
   ]
  },
  {
   "cell_type": "code",
   "execution_count": null,
   "metadata": {},
   "outputs": [],
   "source": [
    "\n",
    "\n",
    "all_results = []\n",
    "\n",
    "start_date_dt = datetime.datetime.strptime(start_date, '%Y/%m/%d %H:%M:%S')\n",
    "end_date_dt = datetime.datetime.strptime(end_date, '%Y/%m/%d %H:%M:%S')\n",
    "\n",
    "current_date = start_date_dt\n",
    "\n",
    "while current_date < end_date_dt:\n",
    "    next_date = current_date + relativedelta(months=1)\n",
    "    if next_date > end_date_dt:\n",
    "        next_date = end_date_dt\n",
    "    try:\n",
    "        time_range = a.Time(current_date.strftime('%Y/%m/%d %H:%M:%S'), next_date.strftime('%Y/%m/%d %H:%M:%S'))\n",
    "        print(\"Searching for: \", time_range)\n",
    "        results = Fido.search(\n",
    "            time_range,\n",
    "            a.Instrument.aia,\n",
    "            a.Wavelength(193 * u.angstrom),\n",
    "            a.Sample(60 * u.minute)\n",
    "        )\n",
    "        print(\"Found\", results.file_num, \"results\")\n",
    "        all_results.extend(results)\n",
    "        current_date = next_date\n",
    "    except Exception as e:\n",
    "        print(\"Trying again!\")\n",
    "        continue\n",
    "\n",
    "\n",
    "print(len(all_results))\n"
   ]
  },
  {
   "cell_type": "markdown",
   "metadata": {},
   "source": [
    "#### Download files with error checking"
   ]
  },
  {
   "cell_type": "code",
   "execution_count": null,
   "metadata": {},
   "outputs": [],
   "source": [
    "for results in all_results:\n",
    "    downloaded_files = []\n",
    "    # First Download attempt\n",
    "    try:\n",
    "        downloaded_files = Fido.fetch(\n",
    "            results, path=download_directory)\n",
    "    except Exception as e:\n",
    "        print(\n",
    "            f\"Failed to download files. Retrying...\")\n",
    "    # Retrying the files that didnt download 10 times\n",
    "    for i in range (20):\n",
    "        time.sleep(5)\n",
    "        if len(downloaded_files) == len(results):\n",
    "            break\n",
    "        try:\n",
    "            downloaded_files = Fido.fetch(\n",
    "                downloaded_files, path=download_directory)\n",
    "        except Exception as e:\n",
    "            print(\n",
    "                f\"Failed to download files. Retrying...\")\n",
    "        \n",
    "\n",
    "# Output the list of downloaded files\n",
    "print(f\"Downloaded {len(downloaded_files)} files.\")"
   ]
  },
  {
   "cell_type": "markdown",
   "metadata": {},
   "source": [
    "### Quality checking and Re-downloading"
   ]
  },
  {
   "cell_type": "markdown",
   "metadata": {},
   "source": [
    "#### First we check quality of all files, if the quality is less than 0 we delete the file and save the date and time in an array.\n",
    "#### Then we redownload files 5 minutes after those files \n",
    "#### Then we re-check the quality of those newly downloaded files\n",
    "#### Then we delete all the bad quality files"
   ]
  },
  {
   "cell_type": "code",
   "execution_count": null,
   "metadata": {},
   "outputs": [
    {
     "name": "stdout",
     "output_type": "stream",
     "text": [
      "Number of missing files: 48\n",
      "Search for missing files\n"
     ]
    },
    {
     "data": {
      "application/vnd.jupyter.widget-view+json": {
       "model_id": "dba9cd2e91b84aa2b7cda76ba9eb9ea6",
       "version_major": 2,
       "version_minor": 0
      },
      "text/plain": [
       "Fetching files:   0%|          | 0/48 [00:00<?, ?it/s]"
      ]
     },
     "metadata": {},
     "output_type": "display_data"
    },
    {
     "name": "stdout",
     "output_type": "stream",
     "text": [
      "Downloading missing Files\n"
     ]
    },
    {
     "data": {
      "application/vnd.jupyter.widget-view+json": {
       "model_id": "3f6a11f82f74408b81f77895f213fefb",
       "version_major": 2,
       "version_minor": 0
      },
      "text/plain": [
       "Downloading files:   0%|          | 0/48 [00:00<?, ?it/s]"
      ]
     },
     "metadata": {},
     "output_type": "display_data"
    },
    {
     "data": {
      "application/vnd.jupyter.widget-view+json": {
       "model_id": "c4fb35d2d01545d3bb2dd38ac5f438f1",
       "version_major": 2,
       "version_minor": 0
      },
      "text/plain": [
       "Files Downloaded:   0%|          | 0/1 [00:00<?, ?file/s]"
      ]
     },
     "metadata": {},
     "output_type": "display_data"
    },
    {
     "data": {
      "application/vnd.jupyter.widget-view+json": {
       "model_id": "5b4fe7350d57421dbfbe14c34044a644",
       "version_major": 2,
       "version_minor": 0
      },
      "text/plain": [
       "Files Downloaded:   0%|          | 0/1 [00:00<?, ?file/s]"
      ]
     },
     "metadata": {},
     "output_type": "display_data"
    },
    {
     "data": {
      "application/vnd.jupyter.widget-view+json": {
       "model_id": "838e75d05db14ac5af3be855af8440c6",
       "version_major": 2,
       "version_minor": 0
      },
      "text/plain": [
       "Files Downloaded:   0%|          | 0/1 [00:00<?, ?file/s]"
      ]
     },
     "metadata": {},
     "output_type": "display_data"
    },
    {
     "data": {
      "application/vnd.jupyter.widget-view+json": {
       "model_id": "600470c4a54146cd929989e6f9cb5745",
       "version_major": 2,
       "version_minor": 0
      },
      "text/plain": [
       "Files Downloaded:   0%|          | 0/1 [00:00<?, ?file/s]"
      ]
     },
     "metadata": {},
     "output_type": "display_data"
    },
    {
     "data": {
      "application/vnd.jupyter.widget-view+json": {
       "model_id": "02ba52198d954481bd066949ae8e8e75",
       "version_major": 2,
       "version_minor": 0
      },
      "text/plain": [
       "Files Downloaded:   0%|          | 0/1 [00:00<?, ?file/s]"
      ]
     },
     "metadata": {},
     "output_type": "display_data"
    },
    {
     "data": {
      "application/vnd.jupyter.widget-view+json": {
       "model_id": "70153d8e79874a638d44524c3e0444b0",
       "version_major": 2,
       "version_minor": 0
      },
      "text/plain": [
       "aia.lev1.193A_2013_01_01T04_05_06.84Z.image_lev1.fits:   0%|          | 0.00/12.6M [00:00<?, ?B/s]"
      ]
     },
     "metadata": {},
     "output_type": "display_data"
    },
    {
     "data": {
      "application/vnd.jupyter.widget-view+json": {
       "model_id": "1768b19ea78a44f99ecd15122c07e2f2",
       "version_major": 2,
       "version_minor": 0
      },
      "text/plain": [
       "aia.lev1.193A_2013_01_01T03_05_06.84Z.image_lev1.fits:   0%|          | 0.00/12.6M [00:00<?, ?B/s]"
      ]
     },
     "metadata": {},
     "output_type": "display_data"
    },
    {
     "data": {
      "application/vnd.jupyter.widget-view+json": {
       "model_id": "eb71b29a9ca248deb31cac240d7e32ce",
       "version_major": 2,
       "version_minor": 0
      },
      "text/plain": [
       "aia.lev1.193A_2013_01_01T05_05_06.84Z.image_lev1.fits:   0%|          | 0.00/12.6M [00:00<?, ?B/s]"
      ]
     },
     "metadata": {},
     "output_type": "display_data"
    },
    {
     "data": {
      "application/vnd.jupyter.widget-view+json": {
       "model_id": "df2a28618e5142258e57bd332817af45",
       "version_major": 2,
       "version_minor": 0
      },
      "text/plain": [
       "aia.lev1.193A_2013_01_01T02_05_06.84Z.image_lev1.fits:   0%|          | 0.00/12.6M [00:00<?, ?B/s]"
      ]
     },
     "metadata": {},
     "output_type": "display_data"
    },
    {
     "data": {
      "application/vnd.jupyter.widget-view+json": {
       "model_id": "994b1d81455743b5bae003aabf2bf327",
       "version_major": 2,
       "version_minor": 0
      },
      "text/plain": [
       "aia.lev1.193A_2013_01_01T01_05_06.84Z.image_lev1.fits:   0%|          | 0.00/12.6M [00:00<?, ?B/s]"
      ]
     },
     "metadata": {},
     "output_type": "display_data"
    },
    {
     "data": {
      "application/vnd.jupyter.widget-view+json": {
       "model_id": "43d14b6829e1422ebf70572a41756821",
       "version_major": 2,
       "version_minor": 0
      },
      "text/plain": [
       "Files Downloaded:   0%|          | 0/1 [00:00<?, ?file/s]"
      ]
     },
     "metadata": {},
     "output_type": "display_data"
    },
    {
     "data": {
      "application/vnd.jupyter.widget-view+json": {
       "model_id": "e6f08e72eed14d0ea5213c675db77ba5",
       "version_major": 2,
       "version_minor": 0
      },
      "text/plain": [
       "Files Downloaded:   0%|          | 0/1 [00:00<?, ?file/s]"
      ]
     },
     "metadata": {},
     "output_type": "display_data"
    },
    {
     "data": {
      "application/vnd.jupyter.widget-view+json": {
       "model_id": "4a3adce7c58e48db9f52a48ccb130020",
       "version_major": 2,
       "version_minor": 0
      },
      "text/plain": [
       "Files Downloaded:   0%|          | 0/1 [00:00<?, ?file/s]"
      ]
     },
     "metadata": {},
     "output_type": "display_data"
    },
    {
     "data": {
      "application/vnd.jupyter.widget-view+json": {
       "model_id": "41f10d291cf9499fabf45286b4efff7f",
       "version_major": 2,
       "version_minor": 0
      },
      "text/plain": [
       "aia.lev1.193A_2013_01_01T06_05_06.84Z.image_lev1.fits:   0%|          | 0.00/12.6M [00:00<?, ?B/s]"
      ]
     },
     "metadata": {},
     "output_type": "display_data"
    },
    {
     "data": {
      "application/vnd.jupyter.widget-view+json": {
       "model_id": "3bc8de8357484b208fc7a1144f54d4c3",
       "version_major": 2,
       "version_minor": 0
      },
      "text/plain": [
       "Files Downloaded:   0%|          | 0/1 [00:00<?, ?file/s]"
      ]
     },
     "metadata": {},
     "output_type": "display_data"
    },
    {
     "data": {
      "application/vnd.jupyter.widget-view+json": {
       "model_id": "ff4ee06048974a9088d64d6f7108936e",
       "version_major": 2,
       "version_minor": 0
      },
      "text/plain": [
       "aia.lev1.193A_2013_01_01T07_05_06.84Z.image_lev1.fits:   0%|          | 0.00/12.6M [00:00<?, ?B/s]"
      ]
     },
     "metadata": {},
     "output_type": "display_data"
    },
    {
     "data": {
      "application/vnd.jupyter.widget-view+json": {
       "model_id": "ce510bc5229c494aa3499904a8a805cb",
       "version_major": 2,
       "version_minor": 0
      },
      "text/plain": [
       "aia.lev1.193A_2013_01_01T08_05_06.84Z.image_lev1.fits:   0%|          | 0.00/12.6M [00:00<?, ?B/s]"
      ]
     },
     "metadata": {},
     "output_type": "display_data"
    },
    {
     "data": {
      "application/vnd.jupyter.widget-view+json": {
       "model_id": "a015ef6318dd416287cddd9a65cee62f",
       "version_major": 2,
       "version_minor": 0
      },
      "text/plain": [
       "Files Downloaded:   0%|          | 0/1 [00:00<?, ?file/s]"
      ]
     },
     "metadata": {},
     "output_type": "display_data"
    },
    {
     "data": {
      "application/vnd.jupyter.widget-view+json": {
       "model_id": "b5785ef6e2884317b950cfc11c7bce00",
       "version_major": 2,
       "version_minor": 0
      },
      "text/plain": [
       "aia.lev1.193A_2013_01_01T09_05_06.84Z.image_lev1.fits:   0%|          | 0.00/12.6M [00:00<?, ?B/s]"
      ]
     },
     "metadata": {},
     "output_type": "display_data"
    },
    {
     "data": {
      "application/vnd.jupyter.widget-view+json": {
       "model_id": "ca556329e1944fdcbd0685903d3425d1",
       "version_major": 2,
       "version_minor": 0
      },
      "text/plain": [
       "aia.lev1.193A_2013_01_01T10_05_06.84Z.image_lev1.fits:   0%|          | 0.00/12.6M [00:00<?, ?B/s]"
      ]
     },
     "metadata": {},
     "output_type": "display_data"
    },
    {
     "data": {
      "application/vnd.jupyter.widget-view+json": {
       "model_id": "413e9fe614234dcd828952cb98e1501a",
       "version_major": 2,
       "version_minor": 0
      },
      "text/plain": [
       "Files Downloaded:   0%|          | 0/1 [00:00<?, ?file/s]"
      ]
     },
     "metadata": {},
     "output_type": "display_data"
    },
    {
     "data": {
      "application/vnd.jupyter.widget-view+json": {
       "model_id": "878c28cf4ea342cd9fb82c57cd8c4438",
       "version_major": 2,
       "version_minor": 0
      },
      "text/plain": [
       "Files Downloaded:   0%|          | 0/1 [00:00<?, ?file/s]"
      ]
     },
     "metadata": {},
     "output_type": "display_data"
    },
    {
     "data": {
      "application/vnd.jupyter.widget-view+json": {
       "model_id": "38495d1744ee46109932674af98b81c3",
       "version_major": 2,
       "version_minor": 0
      },
      "text/plain": [
       "Files Downloaded:   0%|          | 0/1 [00:00<?, ?file/s]"
      ]
     },
     "metadata": {},
     "output_type": "display_data"
    },
    {
     "data": {
      "application/vnd.jupyter.widget-view+json": {
       "model_id": "8f60d0e261a1434c99a5d88b1c81d556",
       "version_major": 2,
       "version_minor": 0
      },
      "text/plain": [
       "aia.lev1.193A_2013_01_01T11_05_06.84Z.image_lev1.fits:   0%|          | 0.00/12.6M [00:00<?, ?B/s]"
      ]
     },
     "metadata": {},
     "output_type": "display_data"
    },
    {
     "data": {
      "application/vnd.jupyter.widget-view+json": {
       "model_id": "92fd558ad39d4f60b2a8f69d289fe4f8",
       "version_major": 2,
       "version_minor": 0
      },
      "text/plain": [
       "aia.lev1.193A_2013_01_01T12_05_06.84Z.image_lev1.fits:   0%|          | 0.00/12.6M [00:00<?, ?B/s]"
      ]
     },
     "metadata": {},
     "output_type": "display_data"
    },
    {
     "data": {
      "application/vnd.jupyter.widget-view+json": {
       "model_id": "5df15b1bf5f34b92908ac92589935c6e",
       "version_major": 2,
       "version_minor": 0
      },
      "text/plain": [
       "Files Downloaded:   0%|          | 0/1 [00:00<?, ?file/s]"
      ]
     },
     "metadata": {},
     "output_type": "display_data"
    },
    {
     "data": {
      "application/vnd.jupyter.widget-view+json": {
       "model_id": "3bed2fca12ac46e49f910b67ff122d58",
       "version_major": 2,
       "version_minor": 0
      },
      "text/plain": [
       "aia.lev1.193A_2013_01_01T14_05_06.84Z.image_lev1.fits:   0%|          | 0.00/12.6M [00:00<?, ?B/s]"
      ]
     },
     "metadata": {},
     "output_type": "display_data"
    },
    {
     "data": {
      "application/vnd.jupyter.widget-view+json": {
       "model_id": "06b74137636140b58a58d464ef688db2",
       "version_major": 2,
       "version_minor": 0
      },
      "text/plain": [
       "aia.lev1.193A_2013_01_01T13_05_06.84Z.image_lev1.fits:   0%|          | 0.00/12.6M [00:00<?, ?B/s]"
      ]
     },
     "metadata": {},
     "output_type": "display_data"
    },
    {
     "data": {
      "application/vnd.jupyter.widget-view+json": {
       "model_id": "62a4bde6f78c414b8adf820483d545d0",
       "version_major": 2,
       "version_minor": 0
      },
      "text/plain": [
       "Files Downloaded:   0%|          | 0/1 [00:00<?, ?file/s]"
      ]
     },
     "metadata": {},
     "output_type": "display_data"
    },
    {
     "data": {
      "application/vnd.jupyter.widget-view+json": {
       "model_id": "5947728d16724651b2b06a3832cb5c15",
       "version_major": 2,
       "version_minor": 0
      },
      "text/plain": [
       "aia.lev1.193A_2013_01_01T15_05_06.84Z.image_lev1.fits:   0%|          | 0.00/12.7M [00:00<?, ?B/s]"
      ]
     },
     "metadata": {},
     "output_type": "display_data"
    },
    {
     "data": {
      "application/vnd.jupyter.widget-view+json": {
       "model_id": "571e80a7e5be4cc2b46ea2461fcf7529",
       "version_major": 2,
       "version_minor": 0
      },
      "text/plain": [
       "Files Downloaded:   0%|          | 0/1 [00:00<?, ?file/s]"
      ]
     },
     "metadata": {},
     "output_type": "display_data"
    },
    {
     "data": {
      "application/vnd.jupyter.widget-view+json": {
       "model_id": "0f50152c67db487ab21b7a018bbdd4ed",
       "version_major": 2,
       "version_minor": 0
      },
      "text/plain": [
       "Files Downloaded:   0%|          | 0/1 [00:00<?, ?file/s]"
      ]
     },
     "metadata": {},
     "output_type": "display_data"
    },
    {
     "data": {
      "application/vnd.jupyter.widget-view+json": {
       "model_id": "2f0524459dac4455979edda7c3675824",
       "version_major": 2,
       "version_minor": 0
      },
      "text/plain": [
       "aia.lev1.193A_2013_01_01T16_05_06.84Z.image_lev1.fits:   0%|          | 0.00/12.7M [00:00<?, ?B/s]"
      ]
     },
     "metadata": {},
     "output_type": "display_data"
    },
    {
     "data": {
      "application/vnd.jupyter.widget-view+json": {
       "model_id": "6bc9c52381194925b0453660c6a11ea5",
       "version_major": 2,
       "version_minor": 0
      },
      "text/plain": [
       "Files Downloaded:   0%|          | 0/1 [00:00<?, ?file/s]"
      ]
     },
     "metadata": {},
     "output_type": "display_data"
    },
    {
     "data": {
      "application/vnd.jupyter.widget-view+json": {
       "model_id": "264646f795524d4393fc81e6cdfaf37b",
       "version_major": 2,
       "version_minor": 0
      },
      "text/plain": [
       "Files Downloaded:   0%|          | 0/1 [00:00<?, ?file/s]"
      ]
     },
     "metadata": {},
     "output_type": "display_data"
    },
    {
     "data": {
      "application/vnd.jupyter.widget-view+json": {
       "model_id": "f76ae96e387541e3b35e90e4ddddfee3",
       "version_major": 2,
       "version_minor": 0
      },
      "text/plain": [
       "aia.lev1.193A_2013_01_01T17_05_06.84Z.image_lev1.fits:   0%|          | 0.00/12.7M [00:00<?, ?B/s]"
      ]
     },
     "metadata": {},
     "output_type": "display_data"
    },
    {
     "data": {
      "application/vnd.jupyter.widget-view+json": {
       "model_id": "bb0c10dafe8e45c5807d95de2857cd3d",
       "version_major": 2,
       "version_minor": 0
      },
      "text/plain": [
       "aia.lev1.193A_2013_01_01T18_05_06.84Z.image_lev1.fits:   0%|          | 0.00/12.7M [00:00<?, ?B/s]"
      ]
     },
     "metadata": {},
     "output_type": "display_data"
    },
    {
     "data": {
      "application/vnd.jupyter.widget-view+json": {
       "model_id": "c49b16694ea34e43a4f7c12d760eedf3",
       "version_major": 2,
       "version_minor": 0
      },
      "text/plain": [
       "aia.lev1.193A_2013_01_01T19_05_06.84Z.image_lev1.fits:   0%|          | 0.00/12.7M [00:00<?, ?B/s]"
      ]
     },
     "metadata": {},
     "output_type": "display_data"
    },
    {
     "data": {
      "application/vnd.jupyter.widget-view+json": {
       "model_id": "0e6a8a3279f54d7591638824105cc0ec",
       "version_major": 2,
       "version_minor": 0
      },
      "text/plain": [
       "Files Downloaded:   0%|          | 0/1 [00:00<?, ?file/s]"
      ]
     },
     "metadata": {},
     "output_type": "display_data"
    },
    {
     "data": {
      "application/vnd.jupyter.widget-view+json": {
       "model_id": "c653a962585343cca5a27a8e460f2592",
       "version_major": 2,
       "version_minor": 0
      },
      "text/plain": [
       "aia.lev1.193A_2013_01_01T20_05_06.84Z.image_lev1.fits:   0%|          | 0.00/12.7M [00:00<?, ?B/s]"
      ]
     },
     "metadata": {},
     "output_type": "display_data"
    },
    {
     "data": {
      "application/vnd.jupyter.widget-view+json": {
       "model_id": "5eefa6587d294468a95868a731777bfb",
       "version_major": 2,
       "version_minor": 0
      },
      "text/plain": [
       "Files Downloaded:   0%|          | 0/1 [00:00<?, ?file/s]"
      ]
     },
     "metadata": {},
     "output_type": "display_data"
    },
    {
     "data": {
      "application/vnd.jupyter.widget-view+json": {
       "model_id": "c195f7c9cc354d919c331b8e1bb118db",
       "version_major": 2,
       "version_minor": 0
      },
      "text/plain": [
       "Files Downloaded:   0%|          | 0/1 [00:00<?, ?file/s]"
      ]
     },
     "metadata": {},
     "output_type": "display_data"
    },
    {
     "data": {
      "application/vnd.jupyter.widget-view+json": {
       "model_id": "42103de9e82d49ec951e2be99007f654",
       "version_major": 2,
       "version_minor": 0
      },
      "text/plain": [
       "aia.lev1.193A_2013_01_01T21_05_06.84Z.image_lev1.fits:   0%|          | 0.00/12.7M [00:00<?, ?B/s]"
      ]
     },
     "metadata": {},
     "output_type": "display_data"
    },
    {
     "data": {
      "application/vnd.jupyter.widget-view+json": {
       "model_id": "65d189869126464bb243c24bec6d6222",
       "version_major": 2,
       "version_minor": 0
      },
      "text/plain": [
       "Files Downloaded:   0%|          | 0/1 [00:00<?, ?file/s]"
      ]
     },
     "metadata": {},
     "output_type": "display_data"
    },
    {
     "data": {
      "application/vnd.jupyter.widget-view+json": {
       "model_id": "b6e3d24c086444768929dd23c2dc2d07",
       "version_major": 2,
       "version_minor": 0
      },
      "text/plain": [
       "aia.lev1.193A_2013_01_01T23_05_06.84Z.image_lev1.fits:   0%|          | 0.00/12.7M [00:00<?, ?B/s]"
      ]
     },
     "metadata": {},
     "output_type": "display_data"
    },
    {
     "data": {
      "application/vnd.jupyter.widget-view+json": {
       "model_id": "5466523ca2aa426f88786d5df79a2b8a",
       "version_major": 2,
       "version_minor": 0
      },
      "text/plain": [
       "aia.lev1.193A_2013_01_01T22_05_06.84Z.image_lev1.fits:   0%|          | 0.00/12.7M [00:00<?, ?B/s]"
      ]
     },
     "metadata": {},
     "output_type": "display_data"
    },
    {
     "data": {
      "application/vnd.jupyter.widget-view+json": {
       "model_id": "a4660e93257e4136bb8f4883ab716069",
       "version_major": 2,
       "version_minor": 0
      },
      "text/plain": [
       "Files Downloaded:   0%|          | 0/1 [00:00<?, ?file/s]"
      ]
     },
     "metadata": {},
     "output_type": "display_data"
    },
    {
     "data": {
      "application/vnd.jupyter.widget-view+json": {
       "model_id": "8064926664e54a5d9c13d5b5f450c827",
       "version_major": 2,
       "version_minor": 0
      },
      "text/plain": [
       "aia.lev1.193A_2013_01_02T00_05_06.84Z.image_lev1.fits:   0%|          | 0.00/12.7M [00:00<?, ?B/s]"
      ]
     },
     "metadata": {},
     "output_type": "display_data"
    },
    {
     "data": {
      "application/vnd.jupyter.widget-view+json": {
       "model_id": "7a3a0d5ce4a84f86919ee495721a4c10",
       "version_major": 2,
       "version_minor": 0
      },
      "text/plain": [
       "Files Downloaded:   0%|          | 0/1 [00:00<?, ?file/s]"
      ]
     },
     "metadata": {},
     "output_type": "display_data"
    },
    {
     "data": {
      "application/vnd.jupyter.widget-view+json": {
       "model_id": "68483ecb02fd42f99e70e2db82a7e746",
       "version_major": 2,
       "version_minor": 0
      },
      "text/plain": [
       "aia.lev1.193A_2013_01_02T01_05_06.84Z.image_lev1.fits:   0%|          | 0.00/12.7M [00:00<?, ?B/s]"
      ]
     },
     "metadata": {},
     "output_type": "display_data"
    },
    {
     "data": {
      "application/vnd.jupyter.widget-view+json": {
       "model_id": "d2fecc473c504cf3ae854da59582254c",
       "version_major": 2,
       "version_minor": 0
      },
      "text/plain": [
       "Files Downloaded:   0%|          | 0/1 [00:00<?, ?file/s]"
      ]
     },
     "metadata": {},
     "output_type": "display_data"
    },
    {
     "data": {
      "application/vnd.jupyter.widget-view+json": {
       "model_id": "12a6eae61641479caf35a0ab39f54beb",
       "version_major": 2,
       "version_minor": 0
      },
      "text/plain": [
       "Files Downloaded:   0%|          | 0/1 [00:00<?, ?file/s]"
      ]
     },
     "metadata": {},
     "output_type": "display_data"
    },
    {
     "data": {
      "application/vnd.jupyter.widget-view+json": {
       "model_id": "d34628d772794f89920e855c3aba71f4",
       "version_major": 2,
       "version_minor": 0
      },
      "text/plain": [
       "aia.lev1.193A_2013_01_02T02_05_06.84Z.image_lev1.fits:   0%|          | 0.00/12.7M [00:00<?, ?B/s]"
      ]
     },
     "metadata": {},
     "output_type": "display_data"
    },
    {
     "data": {
      "application/vnd.jupyter.widget-view+json": {
       "model_id": "6bcdb2c780894d14a2098579ee43fb7b",
       "version_major": 2,
       "version_minor": 0
      },
      "text/plain": [
       "Files Downloaded:   0%|          | 0/1 [00:00<?, ?file/s]"
      ]
     },
     "metadata": {},
     "output_type": "display_data"
    },
    {
     "data": {
      "application/vnd.jupyter.widget-view+json": {
       "model_id": "455b14e4eb124a1db9bef229939a6864",
       "version_major": 2,
       "version_minor": 0
      },
      "text/plain": [
       "aia.lev1.193A_2013_01_02T03_05_06.84Z.image_lev1.fits:   0%|          | 0.00/12.7M [00:00<?, ?B/s]"
      ]
     },
     "metadata": {},
     "output_type": "display_data"
    },
    {
     "data": {
      "application/vnd.jupyter.widget-view+json": {
       "model_id": "43c8bcc497034d989c7232e8ac6e9646",
       "version_major": 2,
       "version_minor": 0
      },
      "text/plain": [
       "aia.lev1.193A_2013_01_02T04_05_06.84Z.image_lev1.fits:   0%|          | 0.00/12.7M [00:00<?, ?B/s]"
      ]
     },
     "metadata": {},
     "output_type": "display_data"
    },
    {
     "data": {
      "application/vnd.jupyter.widget-view+json": {
       "model_id": "f465ef19c55d45e9befe1e28a190efad",
       "version_major": 2,
       "version_minor": 0
      },
      "text/plain": [
       "Files Downloaded:   0%|          | 0/1 [00:00<?, ?file/s]"
      ]
     },
     "metadata": {},
     "output_type": "display_data"
    },
    {
     "data": {
      "application/vnd.jupyter.widget-view+json": {
       "model_id": "90477d91b6b14a158af58edc3646dcd7",
       "version_major": 2,
       "version_minor": 0
      },
      "text/plain": [
       "aia.lev1.193A_2013_01_02T05_05_06.84Z.image_lev1.fits:   0%|          | 0.00/12.7M [00:00<?, ?B/s]"
      ]
     },
     "metadata": {},
     "output_type": "display_data"
    },
    {
     "data": {
      "application/vnd.jupyter.widget-view+json": {
       "model_id": "3dc6e77670094efdb1762727dcc6e57f",
       "version_major": 2,
       "version_minor": 0
      },
      "text/plain": [
       "Files Downloaded:   0%|          | 0/1 [00:00<?, ?file/s]"
      ]
     },
     "metadata": {},
     "output_type": "display_data"
    },
    {
     "data": {
      "application/vnd.jupyter.widget-view+json": {
       "model_id": "e7d74c869ee14f029f97594bc02190e7",
       "version_major": 2,
       "version_minor": 0
      },
      "text/plain": [
       "aia.lev1.193A_2013_01_02T06_05_06.84Z.image_lev1.fits:   0%|          | 0.00/12.7M [00:00<?, ?B/s]"
      ]
     },
     "metadata": {},
     "output_type": "display_data"
    },
    {
     "data": {
      "application/vnd.jupyter.widget-view+json": {
       "model_id": "c4862c2df3a34810b458ef8f1531eb8c",
       "version_major": 2,
       "version_minor": 0
      },
      "text/plain": [
       "Files Downloaded:   0%|          | 0/1 [00:00<?, ?file/s]"
      ]
     },
     "metadata": {},
     "output_type": "display_data"
    },
    {
     "data": {
      "application/vnd.jupyter.widget-view+json": {
       "model_id": "c9ce924032ec43588345db3423c625f3",
       "version_major": 2,
       "version_minor": 0
      },
      "text/plain": [
       "Files Downloaded:   0%|          | 0/1 [00:00<?, ?file/s]"
      ]
     },
     "metadata": {},
     "output_type": "display_data"
    },
    {
     "data": {
      "application/vnd.jupyter.widget-view+json": {
       "model_id": "6d1ea3add0224708b6886a9526d28a36",
       "version_major": 2,
       "version_minor": 0
      },
      "text/plain": [
       "aia.lev1.193A_2013_01_02T08_05_06.84Z.image_lev1.fits:   0%|          | 0.00/12.7M [00:00<?, ?B/s]"
      ]
     },
     "metadata": {},
     "output_type": "display_data"
    },
    {
     "data": {
      "application/vnd.jupyter.widget-view+json": {
       "model_id": "e8aa1cbd959249228baecef86881935e",
       "version_major": 2,
       "version_minor": 0
      },
      "text/plain": [
       "aia.lev1.193A_2013_01_02T07_05_06.84Z.image_lev1.fits:   0%|          | 0.00/12.7M [00:00<?, ?B/s]"
      ]
     },
     "metadata": {},
     "output_type": "display_data"
    },
    {
     "data": {
      "application/vnd.jupyter.widget-view+json": {
       "model_id": "1030b5b3d8f342fa883fc44f9e59c7e4",
       "version_major": 2,
       "version_minor": 0
      },
      "text/plain": [
       "Files Downloaded:   0%|          | 0/1 [00:00<?, ?file/s]"
      ]
     },
     "metadata": {},
     "output_type": "display_data"
    },
    {
     "data": {
      "application/vnd.jupyter.widget-view+json": {
       "model_id": "c6278fbf205e4f6ba687365506f96385",
       "version_major": 2,
       "version_minor": 0
      },
      "text/plain": [
       "Files Downloaded:   0%|          | 0/1 [00:00<?, ?file/s]"
      ]
     },
     "metadata": {},
     "output_type": "display_data"
    },
    {
     "data": {
      "application/vnd.jupyter.widget-view+json": {
       "model_id": "0314253179fc431e8d3f4f5d9549e762",
       "version_major": 2,
       "version_minor": 0
      },
      "text/plain": [
       "aia.lev1.193A_2013_01_02T10_05_06.84Z.image_lev1.fits:   0%|          | 0.00/12.7M [00:00<?, ?B/s]"
      ]
     },
     "metadata": {},
     "output_type": "display_data"
    },
    {
     "data": {
      "application/vnd.jupyter.widget-view+json": {
       "model_id": "99c1a15a47004051b7e43047b31eb4d1",
       "version_major": 2,
       "version_minor": 0
      },
      "text/plain": [
       "aia.lev1.193A_2013_01_02T09_05_06.84Z.image_lev1.fits:   0%|          | 0.00/12.7M [00:00<?, ?B/s]"
      ]
     },
     "metadata": {},
     "output_type": "display_data"
    },
    {
     "data": {
      "application/vnd.jupyter.widget-view+json": {
       "model_id": "134070ad83274b169ab66b6f2c6b5d71",
       "version_major": 2,
       "version_minor": 0
      },
      "text/plain": [
       "Files Downloaded:   0%|          | 0/1 [00:00<?, ?file/s]"
      ]
     },
     "metadata": {},
     "output_type": "display_data"
    },
    {
     "data": {
      "application/vnd.jupyter.widget-view+json": {
       "model_id": "1d495ad8ba244f1da9dc4d44e612ff5e",
       "version_major": 2,
       "version_minor": 0
      },
      "text/plain": [
       "aia.lev1.193A_2013_01_02T11_05_06.84Z.image_lev1.fits:   0%|          | 0.00/12.7M [00:00<?, ?B/s]"
      ]
     },
     "metadata": {},
     "output_type": "display_data"
    },
    {
     "data": {
      "application/vnd.jupyter.widget-view+json": {
       "model_id": "4cdc1d17a5284f18924209da1f489221",
       "version_major": 2,
       "version_minor": 0
      },
      "text/plain": [
       "Files Downloaded:   0%|          | 0/1 [00:00<?, ?file/s]"
      ]
     },
     "metadata": {},
     "output_type": "display_data"
    },
    {
     "data": {
      "application/vnd.jupyter.widget-view+json": {
       "model_id": "8dd6dceb4a634f898f0d6c3436d65923",
       "version_major": 2,
       "version_minor": 0
      },
      "text/plain": [
       "Files Downloaded:   0%|          | 0/1 [00:00<?, ?file/s]"
      ]
     },
     "metadata": {},
     "output_type": "display_data"
    },
    {
     "data": {
      "application/vnd.jupyter.widget-view+json": {
       "model_id": "78a97e26e59e49738651a37b37cd5e32",
       "version_major": 2,
       "version_minor": 0
      },
      "text/plain": [
       "Files Downloaded:   0%|          | 0/1 [00:00<?, ?file/s]"
      ]
     },
     "metadata": {},
     "output_type": "display_data"
    },
    {
     "data": {
      "application/vnd.jupyter.widget-view+json": {
       "model_id": "9274591b28cb45ea948392a7eafa804f",
       "version_major": 2,
       "version_minor": 0
      },
      "text/plain": [
       "aia.lev1.193A_2013_01_02T12_05_06.84Z.image_lev1.fits:   0%|          | 0.00/12.7M [00:00<?, ?B/s]"
      ]
     },
     "metadata": {},
     "output_type": "display_data"
    },
    {
     "data": {
      "application/vnd.jupyter.widget-view+json": {
       "model_id": "da600d3fb2d444e78dad1772b37b6b31",
       "version_major": 2,
       "version_minor": 0
      },
      "text/plain": [
       "aia.lev1.193A_2013_01_02T13_05_06.84Z.image_lev1.fits:   0%|          | 0.00/12.7M [00:00<?, ?B/s]"
      ]
     },
     "metadata": {},
     "output_type": "display_data"
    },
    {
     "data": {
      "application/vnd.jupyter.widget-view+json": {
       "model_id": "dc03c9b8c841497a99ffe1db1b2501ba",
       "version_major": 2,
       "version_minor": 0
      },
      "text/plain": [
       "Files Downloaded:   0%|          | 0/1 [00:00<?, ?file/s]"
      ]
     },
     "metadata": {},
     "output_type": "display_data"
    },
    {
     "data": {
      "application/vnd.jupyter.widget-view+json": {
       "model_id": "770c9fa00beb40ad96b4a269a926426f",
       "version_major": 2,
       "version_minor": 0
      },
      "text/plain": [
       "aia.lev1.193A_2013_01_02T14_05_06.84Z.image_lev1.fits:   0%|          | 0.00/12.7M [00:00<?, ?B/s]"
      ]
     },
     "metadata": {},
     "output_type": "display_data"
    },
    {
     "data": {
      "application/vnd.jupyter.widget-view+json": {
       "model_id": "ff1c3a2a572b4fa592d5bd949b277630",
       "version_major": 2,
       "version_minor": 0
      },
      "text/plain": [
       "aia.lev1.193A_2013_01_02T15_05_06.84Z.image_lev1.fits:   0%|          | 0.00/12.7M [00:00<?, ?B/s]"
      ]
     },
     "metadata": {},
     "output_type": "display_data"
    },
    {
     "data": {
      "application/vnd.jupyter.widget-view+json": {
       "model_id": "5957722bcf7547aa94c6e88d4ec72879",
       "version_major": 2,
       "version_minor": 0
      },
      "text/plain": [
       "Files Downloaded:   0%|          | 0/1 [00:00<?, ?file/s]"
      ]
     },
     "metadata": {},
     "output_type": "display_data"
    },
    {
     "data": {
      "application/vnd.jupyter.widget-view+json": {
       "model_id": "52d799cfd0d24b0eb6d15790dea89c20",
       "version_major": 2,
       "version_minor": 0
      },
      "text/plain": [
       "aia.lev1.193A_2013_01_02T16_05_06.84Z.image_lev1.fits:   0%|          | 0.00/12.7M [00:00<?, ?B/s]"
      ]
     },
     "metadata": {},
     "output_type": "display_data"
    },
    {
     "data": {
      "application/vnd.jupyter.widget-view+json": {
       "model_id": "0aebabc9dccd4da7827d6f57bd5e3969",
       "version_major": 2,
       "version_minor": 0
      },
      "text/plain": [
       "Files Downloaded:   0%|          | 0/1 [00:00<?, ?file/s]"
      ]
     },
     "metadata": {},
     "output_type": "display_data"
    },
    {
     "data": {
      "application/vnd.jupyter.widget-view+json": {
       "model_id": "a925df854ef9481e98466f3c52a3ff6c",
       "version_major": 2,
       "version_minor": 0
      },
      "text/plain": [
       "Files Downloaded:   0%|          | 0/1 [00:00<?, ?file/s]"
      ]
     },
     "metadata": {},
     "output_type": "display_data"
    },
    {
     "data": {
      "application/vnd.jupyter.widget-view+json": {
       "model_id": "21a6777dcf8b48929903b0477f5fe3fa",
       "version_major": 2,
       "version_minor": 0
      },
      "text/plain": [
       "Files Downloaded:   0%|          | 0/1 [00:00<?, ?file/s]"
      ]
     },
     "metadata": {},
     "output_type": "display_data"
    },
    {
     "data": {
      "application/vnd.jupyter.widget-view+json": {
       "model_id": "83e827b4aae947e599a5ceec2cf852ba",
       "version_major": 2,
       "version_minor": 0
      },
      "text/plain": [
       "aia.lev1.193A_2013_01_02T17_05_06.84Z.image_lev1.fits:   0%|          | 0.00/12.7M [00:00<?, ?B/s]"
      ]
     },
     "metadata": {},
     "output_type": "display_data"
    },
    {
     "data": {
      "application/vnd.jupyter.widget-view+json": {
       "model_id": "4cd2e5b6ce4a4cf6830d58c7c9edbcec",
       "version_major": 2,
       "version_minor": 0
      },
      "text/plain": [
       "aia.lev1.193A_2013_01_02T18_05_06.84Z.image_lev1.fits:   0%|          | 0.00/12.7M [00:00<?, ?B/s]"
      ]
     },
     "metadata": {},
     "output_type": "display_data"
    },
    {
     "data": {
      "application/vnd.jupyter.widget-view+json": {
       "model_id": "b737d2d1f85c4b0eb849d8b405a50ff9",
       "version_major": 2,
       "version_minor": 0
      },
      "text/plain": [
       "aia.lev1.193A_2013_01_02T19_05_06.84Z.image_lev1.fits:   0%|          | 0.00/12.7M [00:00<?, ?B/s]"
      ]
     },
     "metadata": {},
     "output_type": "display_data"
    },
    {
     "data": {
      "application/vnd.jupyter.widget-view+json": {
       "model_id": "29107d29b70846228ecac7bc7c887a9c",
       "version_major": 2,
       "version_minor": 0
      },
      "text/plain": [
       "Files Downloaded:   0%|          | 0/1 [00:00<?, ?file/s]"
      ]
     },
     "metadata": {},
     "output_type": "display_data"
    },
    {
     "data": {
      "application/vnd.jupyter.widget-view+json": {
       "model_id": "3c07f5602dc845ce9a0438c5d3b9e345",
       "version_major": 2,
       "version_minor": 0
      },
      "text/plain": [
       "aia.lev1.193A_2013_01_02T20_05_05.46Z.image_lev1.fits:   0%|          | 0.00/13.1M [00:00<?, ?B/s]"
      ]
     },
     "metadata": {},
     "output_type": "display_data"
    },
    {
     "data": {
      "application/vnd.jupyter.widget-view+json": {
       "model_id": "75141f5a3bf84729a5e6ad99221c2d87",
       "version_major": 2,
       "version_minor": 0
      },
      "text/plain": [
       "Files Downloaded:   0%|          | 0/1 [00:00<?, ?file/s]"
      ]
     },
     "metadata": {},
     "output_type": "display_data"
    },
    {
     "data": {
      "application/vnd.jupyter.widget-view+json": {
       "model_id": "7def11aef2fd4ea4aab2898118f0099c",
       "version_major": 2,
       "version_minor": 0
      },
      "text/plain": [
       "aia.lev1.193A_2013_01_02T21_05_06.84Z.image_lev1.fits:   0%|          | 0.00/12.7M [00:00<?, ?B/s]"
      ]
     },
     "metadata": {},
     "output_type": "display_data"
    },
    {
     "data": {
      "application/vnd.jupyter.widget-view+json": {
       "model_id": "fb5b6a9763da48c9a6d7a727f300befc",
       "version_major": 2,
       "version_minor": 0
      },
      "text/plain": [
       "Files Downloaded:   0%|          | 0/1 [00:00<?, ?file/s]"
      ]
     },
     "metadata": {},
     "output_type": "display_data"
    },
    {
     "data": {
      "application/vnd.jupyter.widget-view+json": {
       "model_id": "a30101d6b1db455e8cace40add5c13e4",
       "version_major": 2,
       "version_minor": 0
      },
      "text/plain": [
       "Files Downloaded:   0%|          | 0/1 [00:00<?, ?file/s]"
      ]
     },
     "metadata": {},
     "output_type": "display_data"
    },
    {
     "data": {
      "application/vnd.jupyter.widget-view+json": {
       "model_id": "3c47d2e1bb784fddaa163e2143add5d3",
       "version_major": 2,
       "version_minor": 0
      },
      "text/plain": [
       "aia.lev1.193A_2013_01_02T22_05_06.84Z.image_lev1.fits:   0%|          | 0.00/12.7M [00:00<?, ?B/s]"
      ]
     },
     "metadata": {},
     "output_type": "display_data"
    },
    {
     "data": {
      "application/vnd.jupyter.widget-view+json": {
       "model_id": "7d515ba4d2334c4595b9be59d24f615f",
       "version_major": 2,
       "version_minor": 0
      },
      "text/plain": [
       "Files Downloaded:   0%|          | 0/1 [00:00<?, ?file/s]"
      ]
     },
     "metadata": {},
     "output_type": "display_data"
    },
    {
     "data": {
      "application/vnd.jupyter.widget-view+json": {
       "model_id": "e5fcc6720eb047cb891be2d69f508c21",
       "version_major": 2,
       "version_minor": 0
      },
      "text/plain": [
       "aia.lev1.193A_2013_01_02T23_05_06.84Z.image_lev1.fits:   0%|          | 0.00/12.7M [00:00<?, ?B/s]"
      ]
     },
     "metadata": {},
     "output_type": "display_data"
    },
    {
     "data": {
      "application/vnd.jupyter.widget-view+json": {
       "model_id": "5d4117c96b7c440da1c37b096987ca06",
       "version_major": 2,
       "version_minor": 0
      },
      "text/plain": [
       "aia.lev1.193A_2013_01_03T00_05_06.84Z.image_lev1.fits:   0%|          | 0.00/12.7M [00:00<?, ?B/s]"
      ]
     },
     "metadata": {},
     "output_type": "display_data"
    },
    {
     "name": "stdout",
     "output_type": "stream",
     "text": [
      "Bad quality file: C:\\Sun Data\\aia.lev1.193A_2013_01_02T20_05_05.46Z.image_lev1.fits\n",
      "Number of bad quality files: 1\n",
      "Searching for new files\n"
     ]
    },
    {
     "data": {
      "application/vnd.jupyter.widget-view+json": {
       "model_id": "2631f98b20774cee893430d9e8896a9f",
       "version_major": 2,
       "version_minor": 0
      },
      "text/plain": [
       "Fetching files:   0%|          | 0/1 [00:00<?, ?it/s]"
      ]
     },
     "metadata": {},
     "output_type": "display_data"
    },
    {
     "name": "stdout",
     "output_type": "stream",
     "text": [
      "Downloading new files\n"
     ]
    },
    {
     "data": {
      "application/vnd.jupyter.widget-view+json": {
       "model_id": "9702fe791e7b4302b9192ba1dcc022d9",
       "version_major": 2,
       "version_minor": 0
      },
      "text/plain": [
       "Downloading files:   0%|          | 0/1 [00:00<?, ?it/s]"
      ]
     },
     "metadata": {},
     "output_type": "display_data"
    },
    {
     "data": {
      "application/vnd.jupyter.widget-view+json": {
       "model_id": "7d852a266aa1445d93ebd597e4114fb0",
       "version_major": 2,
       "version_minor": 0
      },
      "text/plain": [
       "Files Downloaded:   0%|          | 0/1 [00:00<?, ?file/s]"
      ]
     },
     "metadata": {},
     "output_type": "display_data"
    },
    {
     "data": {
      "application/vnd.jupyter.widget-view+json": {
       "model_id": "beb435716d724dfb9dd00ba8cd4407e3",
       "version_major": 2,
       "version_minor": 0
      },
      "text/plain": [
       "aia.lev1.193A_2013_01_02T20_05_05.46Z.image_lev1.fits:   0%|          | 0.00/13.1M [00:00<?, ?B/s]"
      ]
     },
     "metadata": {},
     "output_type": "display_data"
    },
    {
     "name": "stdout",
     "output_type": "stream",
     "text": [
      "Newly downloaded files:\n",
      "C:\\Sun Data\\aia.lev1.193A_2013_01_02T20_05_05.46Z.image_lev1.fits\n",
      "Bad quality file: C:\\Sun Data\\aia.lev1.193A_2013_01_02T20_05_05.46Z.image_lev1.fits\n",
      "New files with bad quality:\n",
      "C:\\Sun Data\\aia.lev1.193A_2013_01_02T20_05_05.46Z.image_lev1.fits\n"
     ]
    }
   ],
   "source": [
    "\n",
    "# get list of all files, start date and end date and returns list of missing files\n",
    "def get_missing_files(aia_files, start_date, end_date):\n",
    "    # Making list of all dates of the files\n",
    "    file_dates = convert_file_list_to_datetime(aia_files)\n",
    "    \n",
    "    \n",
    "    # Making list of all expected dates\n",
    "    start_date_dt = datetime.datetime.strptime(start_date, '%Y/%m/%d %H:%M:%S')\n",
    "    end_date_dt = datetime.datetime.strptime(end_date, '%Y/%m/%d %H:%M:%S')\n",
    "\n",
    "    expected_dates = []\n",
    "    # making list of all dates from start to end with a gap of 1 hour\n",
    "    for i in range(int((end_date_dt - start_date_dt).days * 24)):\n",
    "        start_date_dt = start_date_dt + relativedelta(hours=1)\n",
    "        expected_dates.append(start_date_dt)\n",
    "\n",
    "    # get the missing dates\n",
    "    missing_dates = []\n",
    "    for date in expected_dates:\n",
    "        if date not in file_dates:\n",
    "            missing_dates.append(date)\n",
    "    \n",
    "    return missing_dates\n",
    "    \n",
    "    \n",
    "# Function to check the quality of the files and delete the bad quality files, returns list of bad quality files\n",
    "def check_file_quality(file_list, download_directory):\n",
    "    bad_quality_files = []\n",
    "    # open all files and check the quality\n",
    "    for file in file_list:\n",
    "        try:\n",
    "            with fits.open(file) as hdul:\n",
    "                header = hdul[1].header\n",
    "                # Check if the quality is bad add to the list\n",
    "                if header['QUALITY'] != 0:\n",
    "                    bad_quality_files.append(file)\n",
    "                    print(f\"Bad quality file: {file}\")\n",
    "                hdul.close()\n",
    "        except Exception as e:\n",
    "            print(f\"Failed to open {file}: {e}\")\n",
    "            continue\n",
    "    # delete all bad quality files\n",
    "    for bad_file in bad_quality_files:\n",
    "        os.remove(bad_file)\n",
    "        \n",
    "    # Save the list of bad quality files to a text file\n",
    "    bad_quality_files_file = os.path.join(download_directory, 'bad_quality_files.txt')\n",
    "    with open(bad_quality_files_file, 'w') as f:\n",
    "        for file in bad_quality_files:\n",
    "            f.write(f\"{file}\\n\")\n",
    "            \n",
    "    # return the list of bad quality files\n",
    "    return bad_quality_files\n",
    "\n",
    "# Function to get path of AIA files and converts it to list of datetime\n",
    "def convert_file_list_to_datetime(file_list):\n",
    "    file_dates = []\n",
    "    for i in range(len(file_list)):\n",
    "        # To remove path\n",
    "        bad_file_list = file_list[i].split('\\\\')\n",
    "        # Get just the file name\n",
    "        bad_file = bad_file_list[-1]\n",
    "        # Get the date and time of the bad quality file\n",
    "        year = bad_file[14:18]\n",
    "        month = bad_file[19:21]\n",
    "        day = bad_file[22:24]\n",
    "        hour = bad_file[25:27]\n",
    "        date = datetime.datetime.strptime(f'{year}/{month}/{day} {hour}', '%Y/%m/%d %H')\n",
    "        file_dates.append(date)\n",
    "    return file_dates\n",
    "\n",
    "# Function searches for the required files in parallel\n",
    "def get_results_of_files_plus5(file_list):\n",
    "    def fetch_file(bad_file):\n",
    "        year = f\"{bad_file.year:04d}\"\n",
    "        month = f\"{bad_file.month:02d}\"\n",
    "        day = f\"{bad_file.day:02d}\"\n",
    "        hour = f\"{bad_file.hour:02d}\"\n",
    "        \n",
    "        new_date = f'{year}/{month}/{day} {hour}:05:00'\n",
    "        new_date_10 = f'{year}/{month}/{day} {hour}:10:00'\n",
    "\n",
    "        new_time_range = a.Time(new_date, new_date_10)\n",
    "        new_results = Fido.search(\n",
    "            new_time_range,\n",
    "            a.Instrument.aia,\n",
    "            a.Wavelength(193 * u.angstrom),\n",
    "            a.Sample(60 * u.minute)\n",
    "        )\n",
    "        return new_results\n",
    "\n",
    "    list_of_new_files = []\n",
    "    with ThreadPoolExecutor(max_workers=10) as executor:\n",
    "        results = list(tqdm(executor.map(fetch_file, file_list), total=len(file_list), desc=\"Fetching files\"))\n",
    "        for result in results:\n",
    "            list_of_new_files.append(result)\n",
    "\n",
    "    return list_of_new_files\n",
    "\n",
    "\n",
    "# download the new files\n",
    "def download_new_files(list_of_new_files, download_directory, redownload=False):\n",
    "    def fetch_and_save(results):\n",
    "        new_downloaded_files = Fido.fetch(results, path=download_directory)\n",
    "        # Save the list of newly downloaded files to a text file\n",
    "        if redownload:\n",
    "            file_name = \"redownloaded_files.txt\"\n",
    "        else:\n",
    "            file_name = \"new_downloaded_files.txt\"\n",
    "        new_downloaded_files_file = os.path.join(download_directory, file_name)\n",
    "        with open(new_downloaded_files_file, 'a') as f:\n",
    "            for file in new_downloaded_files:\n",
    "                f.write(f\"{file}\\n\")\n",
    "\n",
    "    with ThreadPoolExecutor(max_workers=5) as executor:\n",
    "        list(tqdm(executor.map(fetch_and_save, list_of_new_files), total=len(list_of_new_files), desc=\"Downloading files\"))\n",
    "    \n",
    "\n",
    "\n",
    "# MAIN CODE\n",
    "# List all files in the download directory\n",
    "aia_files = [os.path.join(download_directory, f) for f in os.listdir(download_directory) if f.endswith('.fits')]\n",
    "\n",
    "\n",
    "# Get list of missing files\n",
    "missing_files = get_missing_files(aia_files, start_date, end_date)\n",
    "print(\"Number of missing files:\", len(missing_files))\n",
    "# Download new files for the missing files\n",
    "print(\"Search for missing files\")\n",
    "results = get_results_of_files_plus5(missing_files)\n",
    "print(\"Downloading missing Files\")\n",
    "download_new_files(results, download_directory, redownload=False)\n",
    "\n",
    "# List all files in the download directory\n",
    "aia_files = [os.path.join(download_directory, f) for f in os.listdir(download_directory) if f.endswith('.fits')]\n",
    "\n",
    "# check and delete bad quality files\n",
    "bad_quality_files = check_file_quality(aia_files, download_directory)\n",
    "print(\"Number of bad quality files:\", len(bad_quality_files))\n",
    "print(\"Searching for new files\")\n",
    "# download new files for the bad quality files\n",
    "bad_quality_files = convert_file_list_to_datetime(bad_quality_files)\n",
    "results = get_results_of_files_plus5(bad_quality_files)\n",
    "print(\"Downloading new files\")\n",
    "download_new_files(results, download_directory, redownload=True)\n",
    "\n",
    "# Open the new_downloaded_files.txt and read the contents\n",
    "new_downloaded_files_file = os.path.join(download_directory, 'redownloaded_files.txt')\n",
    "with open(new_downloaded_files_file, 'r') as f:\n",
    "    new_downloaded_files = f.readlines()\n",
    "\n",
    "# Remove the newline character from the file names\n",
    "new_downloaded_files = [file.strip() for file in new_downloaded_files]\n",
    "\n",
    "# Print the list of newly downloaded files\n",
    "print(\"Newly downloaded files:\")\n",
    "for file in new_downloaded_files:\n",
    "    print(file)\n",
    "\n",
    "# check and delete bad quality files\n",
    "bad_quality_files = check_file_quality(new_downloaded_files, download_directory)\n",
    "\n",
    "print(\"New files with bad quality:\")\n",
    "for file in bad_quality_files:\n",
    "    print(file)"
   ]
  },
  {
   "cell_type": "markdown",
   "metadata": {},
   "source": [
    "### Preprocessing "
   ]
  },
  {
   "cell_type": "markdown",
   "metadata": {},
   "source": [
    "#### Pointing correction"
   ]
  },
  {
   "cell_type": "markdown",
   "metadata": {},
   "source": [
    "#### Pointing correction can be done together with image registration "
   ]
  },
  {
   "cell_type": "code",
   "execution_count": 7,
   "metadata": {},
   "outputs": [],
   "source": [
    "\n",
    "# # List all files in the download directory\n",
    "# aia_files = [f for f in os.listdir(download_directory) if f.endswith('.fits')]\n",
    "\n",
    "# # update pointing table for all fits files in the download directory\n",
    "# for aia_file in tqdm(aia_files, desc=\"Updating pointing\"):\n",
    "#     aia_file_path = os.path.join(download_directory, aia_file)\n",
    "#     # Open the FITS file\n",
    "#     try:\n",
    "#         hdul = fits.open(aia_file_path, mode=\"update\")\n",
    "#         header = hdul[1].header\n",
    "#         data = hdul[1].data\n",
    "        \n",
    "#     except Exception as e:\n",
    "#         print(f\"FILE CORRUPTED: {aia_file_path}, Error: {e}\")\n",
    "#         continue\n",
    "#     # remove these two header keywords because they are nan and are causing errors with sunpy map\n",
    "#     header.remove('OSCNMEAN', ignore_missing=True)\n",
    "#     header.remove('OSCNRMS', ignore_missing=True)\n",
    "#     # convert to sunpy map\n",
    "#     aia_map = sunpy.map.Map((data, header))\n",
    "#     # download pointing table\n",
    "#     pointing_table = get_pointing_table(\"JSOC\", time_range=(aia_map.date - 12 * u.h, aia_map.date + 12 * u.h))\n",
    "#     # update pointing\n",
    "#     aia_map_updated_pointing = update_pointing(aia_map, pointing_table=pointing_table)\n",
    "#     hdul[1].header.update(aia_map_updated_pointing.meta)\n",
    "#     hdul.close()\n",
    "    \n",
    "    \n",
    "\n"
   ]
  },
  {
   "cell_type": "markdown",
   "metadata": {},
   "source": [
    "#### Define the list of all fits files in the directory"
   ]
  },
  {
   "cell_type": "code",
   "execution_count": 4,
   "metadata": {},
   "outputs": [],
   "source": [
    "# List all files in the download directory\n",
    "aia_files = [f for f in os.listdir(download_directory) if f.endswith('.fits')]"
   ]
  },
  {
   "cell_type": "markdown",
   "metadata": {},
   "source": [
    "#### PSF Deconvolution"
   ]
  },
  {
   "cell_type": "code",
   "execution_count": null,
   "metadata": {},
   "outputs": [],
   "source": [
    "\n",
    "def deconvolve_file(aia_file, psf=None):\n",
    "    aia_file_path = os.path.join(download_directory, aia_file)\n",
    "    try:\n",
    "        hdul = fits.open(aia_file_path, mode=\"update\")\n",
    "        header = hdul[1].header\n",
    "        data = hdul[1].data\n",
    "    except Exception as e:\n",
    "        return f\"FILE CORRUPTED: {aia_file_path}, Error: {e}\"\n",
    "\n",
    "    header.remove('OSCNMEAN', ignore_missing=True)\n",
    "    header.remove('OSCNRMS', ignore_missing=True)\n",
    "\n",
    "    aia_map = sunpy.map.Map((data, header))\n",
    "    if (psf is None):\n",
    "        psf = aiapy.psf.psf(aia_map.wavelength)\n",
    "    aia_map_deconvolved = aiapy.psf.deconvolve(aia_map, psf=psf)\n",
    "\n",
    "    hdul[1].data = aia_map_deconvolved.data\n",
    "    hdul.close()\n",
    "    return psf\n",
    "\n",
    "psf = deconvolve_file(aia_files[0])\n",
    "aia_files = aia_files[1:]\n",
    "\n",
    "with ThreadPoolExecutor(max_workers=2) as executor:\n",
    "    list(tqdm(executor.map(lambda file: deconvolve_file(file, psf=psf), aia_files), total=len(aia_files), desc=\"PSF Deconvolution\"))\n"
   ]
  },
  {
   "cell_type": "markdown",
   "metadata": {},
   "source": [
    "### Pointing Correction and Image Registration "
   ]
  },
  {
   "cell_type": "code",
   "execution_count": null,
   "metadata": {},
   "outputs": [],
   "source": [
    "def process_file(aia_file):\n",
    "    aia_file_path = os.path.join(download_directory, aia_file)\n",
    "    try:\n",
    "        hdul = fits.open(aia_file_path, mode=\"update\")\n",
    "        header = hdul[1].header\n",
    "        data = hdul[1].data\n",
    "    except Exception as e:\n",
    "        return f\"FILE CORRUPTED: {aia_file_path}, Error: {e}\"\n",
    "    header.remove('OSCNMEAN', ignore_missing=True)\n",
    "    header.remove('OSCNRMS', ignore_missing=True)\n",
    "    aia_map = sunpy.map.Map((data, header))\n",
    "    pointing_table = get_pointing_table(\"JSOC\", time_range=(aia_map.date - 12 * u.h, aia_map.date + 12 * u.h))\n",
    "    aia_map_updated_pointing = update_pointing(aia_map, pointing_table=pointing_table)\n",
    "    aia_map_registered = register(aia_map_updated_pointing)\n",
    "\n",
    "    hdul[1].data = aia_map_registered.data\n",
    "    hdul.close()\n",
    "    return None\n",
    "\n",
    "with ThreadPoolExecutor(max_workers=3) as executor:\n",
    "    list(tqdm(executor.map(process_file, aia_files), total=len(aia_files), desc=\"Pointing Correction and Image Registration\"))\n"
   ]
  },
  {
   "cell_type": "markdown",
   "metadata": {},
   "source": [
    "### Degradation Correction"
   ]
  },
  {
   "cell_type": "code",
   "execution_count": null,
   "metadata": {},
   "outputs": [],
   "source": [
    "correction_table = get_correction_table(\"JSOC\")\n",
    "print(\"Got correction table\")\n",
    "\n",
    "def correct_degradation_file(aia_file):\n",
    "    aia_file_path = os.path.join(download_directory, aia_file)\n",
    "    try:\n",
    "        hdul = fits.open(aia_file_path, mode=\"update\")\n",
    "        header = hdul[1].header\n",
    "        data = hdul[1].data\n",
    "    except Exception as e:\n",
    "        return f\"FILE CORRUPTED: {aia_file_path}, Error: {e}\"\n",
    "\n",
    "    aia_map = sunpy.map.Map((data, header))\n",
    "    aia_map_corrected = correct_degradation(aia_map, correction_table=correction_table)\n",
    "    hdul[1].data = aia_map_corrected.data\n",
    "    hdul.close()\n",
    "    return None\n",
    "\n",
    "with ThreadPoolExecutor(max_workers=3) as executor:\n",
    "    list(tqdm(executor.map(correct_degradation_file, aia_files), total=len(aia_files), desc=\"Degradation Correction\"))\n"
   ]
  },
  {
   "cell_type": "markdown",
   "metadata": {},
   "source": [
    "### Exposure Normalization"
   ]
  },
  {
   "cell_type": "code",
   "execution_count": null,
   "metadata": {},
   "outputs": [],
   "source": [
    "def normalize_by_exposure(aia_file):\n",
    "    aia_file_path = os.path.join(download_directory, aia_file)\n",
    "    try:\n",
    "        hdul = fits.open(aia_file_path, mode=\"update\")\n",
    "        header = hdul[1].header\n",
    "        data = hdul[1].data\n",
    "    except Exception as e:\n",
    "        return f\"FILE CORRUPTED: {aia_file_path}, Error: {e}\"\n",
    "    \n",
    "    aia_map = sunpy.map.Map((data, header))\n",
    "    aia_map_normalized = aia_map / aia_map.exposure_time\n",
    "    hdul[1].data = aia_map_normalized.data\n",
    "    hdul.close()\n",
    "    return None\n",
    "\n",
    "with ThreadPoolExecutor(max_workers=3) as executor:\n",
    "    list(tqdm(executor.map(normalize_by_exposure, aia_files), total=len(aia_files), desc=\"Normalizing by Exposure Time\"))\n"
   ]
  },
  {
   "cell_type": "markdown",
   "metadata": {},
   "source": [
    "#### Clipping values between 100 and 5000"
   ]
  },
  {
   "cell_type": "code",
   "execution_count": null,
   "metadata": {},
   "outputs": [],
   "source": [
    "def clip_values(aia_file):\n",
    "    aia_file_path = os.path.join(download_directory, aia_file)\n",
    "    try:\n",
    "        hdul = fits.open(aia_file_path, mode=\"update\")\n",
    "        header = hdul[1].header\n",
    "        data = hdul[1].data\n",
    "    except Exception as e:\n",
    "        return f\"FILE CORRUPTED: {aia_file_path}, Error: {e}\"\n",
    "    \n",
    "    # Clip the values between 100 and 5000\n",
    "    data_clipped = data.clip(100, 5000)\n",
    "    \n",
    "    # Save the clipped image\n",
    "    hdul[1].data = data_clipped\n",
    "    hdul.close()\n",
    "    return None\n",
    "\n",
    "with ThreadPoolExecutor(max_workers=3) as executor:\n",
    "    list(tqdm(executor.map(clip_values, aia_files), total=len(aia_files), desc=\"Clipping Values\"))"
   ]
  },
  {
   "cell_type": "markdown",
   "metadata": {},
   "source": [
    "#### Rescaling Images by Log10 (Cant do this because it causes issues while copying)"
   ]
  },
  {
   "cell_type": "code",
   "execution_count": null,
   "metadata": {},
   "outputs": [],
   "source": [
    "# for aia_file in tqdm(aia_files, desc=\"Rescaling to log10\"):\n",
    "#     aia_file_path = os.path.join(download_directory, aia_file)\n",
    "#     # Open the FITS file\n",
    "#     try:\n",
    "#         hdul = fits.open(aia_file_path, mode=\"update\")\n",
    "#         header = hdul[1].header\n",
    "#         data = hdul[1].data\n",
    "#     except Exception as e:\n",
    "#         print(f\"FILE CORRUPTED: {aia_file_path}, Error: {e}\")\n",
    "#         continue\n",
    "    \n",
    "#     # Rescale the data to log10 scale\n",
    "#     data_log10 = np.log10(data + 1)  # Adding 1 to avoid log(0)\n",
    "    \n",
    "#     # Save the rescaled image\n",
    "#     hdul[1].data = data_log10\n",
    "    \n",
    "#     hdul.close()"
   ]
  },
  {
   "cell_type": "markdown",
   "metadata": {},
   "source": [
    "#### Resizing images to 224 x 224 using pillow/opencv with bilinear interpolation"
   ]
  },
  {
   "cell_type": "code",
   "execution_count": null,
   "metadata": {},
   "outputs": [],
   "source": [
    "\n",
    "for aia_file in tqdm(aia_files, desc=\"Downscaling to 224x224\"):\n",
    "    aia_file_path = os.path.join(download_directory, aia_file)\n",
    "    # Open the FITS file\n",
    "    # Specify the new directory where you want to copy the files\n",
    "    new_directory = os.path.join(download_directory, 'non_anti_aliasing/')\n",
    "    os.makedirs(new_directory, exist_ok=True)\n",
    "\n",
    "    # Copy the file to the new directory\n",
    "    new_file_path = os.path.join(new_directory, aia_file)\n",
    "    shutil.copy2(aia_file_path, new_file_path)\n",
    "\n",
    "    # open first file\n",
    "    try:\n",
    "        hdul1 = fits.open(aia_file_path, mode=\"update\")\n",
    "        header1 = hdul1[1].header\n",
    "        data1 = hdul1[1].data\n",
    "    except Exception as e:\n",
    "        print(f\"FILE CORRUPTED: {aia_file_path}, Error: {e}\")\n",
    "        continue\n",
    "    \n",
    "    # Rescale the data to log10 scale AGAIN BECUASE FOR SOME REASON COPYING THE FILE UNDOS IT!!!\n",
    "    data_log10_1 = np.log10(data1 + 1)  # Adding 1 to avoid log(0)\n",
    "    # Using pillow or anti-aliasing\n",
    "    image_pil = Image.fromarray(data_log10_1)\n",
    "    resized_data_aa = image_pil.resize((224, 224), Image.BILINEAR)\n",
    "    resized_image_np = np.array(resized_data_aa)\n",
    "    # Save the downscaled anti-aliased image\n",
    "    hdul1[1].data = resized_image_np\n",
    "    \n",
    "    hdul1.close()\n",
    "    \n",
    "    # Open second file\n",
    "    try:\n",
    "        hdul2 = fits.open(new_file_path, mode=\"update\")\n",
    "        header2 = hdul2[1].header\n",
    "        data2 = hdul2[1].data\n",
    "    except Exception as e:\n",
    "        print(f\"FILE CORRUPTED: {new_file_path}, Error: {e}\")\n",
    "        continue\n",
    "    \n",
    "    # Rescale the data to log10 scale AGAIN BECUASE FOR SOME REASON COPYING THE FILE UNDOS IT!!!\n",
    "    data_log10_2 = np.log10(data2 + 1)  # Adding 1 to avoid log(0)\n",
    "    \n",
    "    # Using OpenCV for non-anti-aliasing\n",
    "    resized_data = cv2.resize(data_log10_2, (224, 224), interpolation=cv2.INTER_LINEAR)\n",
    "    # Save the downscaled non-anti-aliased image\n",
    "    hdul2[1].data = resized_data\n",
    "\n",
    "\n",
    "    hdul2.close()\n",
    "    \n"
   ]
  }
 ],
 "metadata": {
  "kernelspec": {
   "display_name": "sundata",
   "language": "python",
   "name": "python3"
  },
  "language_info": {
   "codemirror_mode": {
    "name": "ipython",
    "version": 3
   },
   "file_extension": ".py",
   "mimetype": "text/x-python",
   "name": "python",
   "nbconvert_exporter": "python",
   "pygments_lexer": "ipython3",
   "version": "3.10.16"
  }
 },
 "nbformat": 4,
 "nbformat_minor": 2
}
