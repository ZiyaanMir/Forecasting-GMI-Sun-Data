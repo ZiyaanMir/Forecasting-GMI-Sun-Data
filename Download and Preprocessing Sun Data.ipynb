{
 "cells": [
  {
   "cell_type": "code",
   "execution_count": 1,
   "metadata": {},
   "outputs": [],
   "source": [
    "import os\n",
    "import numpy as np\n",
    "\n",
    "from sunpy.net import Fido, attrs as a\n",
    "import astropy.units as u\n",
    "\n",
    "import sunpy.map\n",
    "from astropy.io import fits\n",
    "\n",
    "from aiapy.calibrate import register, update_pointing, correct_degradation\n",
    "from aiapy.calibrate.util import get_pointing_table, get_correction_table\n",
    "import aiapy.psf\n",
    "\n",
    "import matplotlib.pyplot as plt\n",
    "\n",
    "from tqdm.notebook import tqdm\n",
    "\n",
    "import cv2\n",
    "from PIL import Image\n",
    "\n",
    "import shutil\n",
    "\n",
    "import time\n",
    "import datetime\n",
    "from dateutil.relativedelta import relativedelta\n",
    "\n",
    "from concurrent.futures import ThreadPoolExecutor\n",
    "\n"
   ]
  },
  {
   "cell_type": "markdown",
   "metadata": {},
   "source": [
    "### Downloading the Data"
   ]
  },
  {
   "cell_type": "markdown",
   "metadata": {},
   "source": [
    "#### Set time range"
   ]
  },
  {
   "cell_type": "code",
   "execution_count": 2,
   "metadata": {},
   "outputs": [],
   "source": [
    "start_date = '2013/01/01 00:00:00'\n",
    "end_date = '2013/01/02 00:00:00'\n",
    "\n",
    "# Set Time Range\n",
    "time_range = a.Time(start_date, end_date)"
   ]
  },
  {
   "cell_type": "markdown",
   "metadata": {},
   "source": [
    "#### Download Directory"
   ]
  },
  {
   "cell_type": "code",
   "execution_count": 3,
   "metadata": {},
   "outputs": [],
   "source": [
    "# Specify the directory where you want to download the files\n",
    "download_directory = 'C:/Sun Data/'\n",
    "os.makedirs(download_directory, exist_ok=True)"
   ]
  },
  {
   "cell_type": "markdown",
   "metadata": {},
   "source": [
    "#### Search for fits on VSO"
   ]
  },
  {
   "cell_type": "code",
   "execution_count": null,
   "metadata": {},
   "outputs": [
    {
     "name": "stdout",
     "output_type": "stream",
     "text": [
      "Searching for:  <sunpy.net.attrs.Time(2013-01-01 00:00:00.000, 2013-01-02 00:00:00.000)>\n"
     ]
    },
    {
     "name": "stderr",
     "output_type": "stream",
     "text": [
      "WARNING: SunpyConnectionWarning: Connection to http://docs.virtualsolar.org/WSDL/VSOi_rpc_literal.wsdl failed with error <urlopen error timed out>. Retrying with different url and port. [sunpy.net.vso.vso]\n",
      "2025-01-29 13:53:13 - sunpy - WARNING: SunpyConnectionWarning: Connection to http://docs.virtualsolar.org/WSDL/VSOi_rpc_literal.wsdl failed with error <urlopen error timed out>. Retrying with different url and port.\n",
      "2025-01-29 13:53:17 - zeep.wsdl.bindings.soap - WARNING: Forcing soap:address location to HTTPS\n",
      "2025-01-29 13:53:21 - zeep.wsdl.bindings.soap - WARNING: Forcing soap:address location to HTTPS\n"
     ]
    },
    {
     "name": "stdout",
     "output_type": "stream",
     "text": [
      "Found 24 results\n",
      "[<sunpy.net.vso.table_response.VSOQueryResponseTable object at 0x0000022B49A1E260>\n",
      "       Start Time               End Time        Source ... Extent Type   Size  \n",
      "                                                       ...              Mibyte \n",
      "----------------------- ----------------------- ------ ... ----------- --------\n",
      "2013-01-01 00:00:06.000 2013-01-01 00:00:07.000    SDO ...    FULLDISK 64.64844\n",
      "2013-01-01 01:00:06.000 2013-01-01 01:00:07.000    SDO ...    FULLDISK 64.64844\n",
      "2013-01-01 02:00:06.000 2013-01-01 02:00:07.000    SDO ...    FULLDISK 64.64844\n",
      "2013-01-01 03:00:06.000 2013-01-01 03:00:07.000    SDO ...    FULLDISK 64.64844\n",
      "2013-01-01 04:00:06.000 2013-01-01 04:00:07.000    SDO ...    FULLDISK 64.64844\n",
      "2013-01-01 05:00:06.000 2013-01-01 05:00:07.000    SDO ...    FULLDISK 64.64844\n",
      "2013-01-01 06:00:06.000 2013-01-01 06:00:07.000    SDO ...    FULLDISK 64.64844\n",
      "2013-01-01 07:00:06.000 2013-01-01 07:00:07.000    SDO ...    FULLDISK 64.64844\n",
      "2013-01-01 08:00:06.000 2013-01-01 08:00:07.000    SDO ...    FULLDISK 64.64844\n",
      "                    ...                     ...    ... ...         ...      ...\n",
      "2013-01-01 14:00:06.000 2013-01-01 14:00:07.000    SDO ...    FULLDISK 64.64844\n",
      "2013-01-01 15:00:06.000 2013-01-01 15:00:07.000    SDO ...    FULLDISK 64.64844\n",
      "2013-01-01 16:00:06.000 2013-01-01 16:00:07.000    SDO ...    FULLDISK 64.64844\n",
      "2013-01-01 17:00:06.000 2013-01-01 17:00:07.000    SDO ...    FULLDISK 64.64844\n",
      "2013-01-01 18:00:06.000 2013-01-01 18:00:07.000    SDO ...    FULLDISK 64.64844\n",
      "2013-01-01 19:00:06.000 2013-01-01 19:00:07.000    SDO ...    FULLDISK 64.64844\n",
      "2013-01-01 20:00:06.000 2013-01-01 20:00:07.000    SDO ...    FULLDISK 64.64844\n",
      "2013-01-01 21:00:04.000 2013-01-01 21:00:05.000    SDO ...    FULLDISK 64.64844\n",
      "2013-01-01 22:00:06.000 2013-01-01 22:00:07.000    SDO ...    FULLDISK 64.64844\n",
      "2013-01-01 23:00:06.000 2013-01-01 23:00:07.000    SDO ...    FULLDISK 64.64844\n",
      "Length = 24 rows]\n"
     ]
    }
   ],
   "source": [
    "\n",
    "\n",
    "all_results = []\n",
    "\n",
    "start_date_dt = datetime.datetime.strptime(start_date, '%Y/%m/%d %H:%M:%S')\n",
    "end_date_dt = datetime.datetime.strptime(end_date, '%Y/%m/%d %H:%M:%S')\n",
    "\n",
    "current_date = start_date_dt\n",
    "\n",
    "while current_date < end_date_dt:\n",
    "    next_date = current_date + relativedelta(months=1)\n",
    "    if next_date > end_date_dt:\n",
    "        next_date = end_date_dt\n",
    "    try:\n",
    "        time_range = a.Time(current_date.strftime('%Y/%m/%d %H:%M:%S'), next_date.strftime('%Y/%m/%d %H:%M:%S'))\n",
    "        print(\"Searching for: \", time_range)\n",
    "        results = Fido.search(\n",
    "            time_range,\n",
    "            a.Instrument.aia,\n",
    "            a.Wavelength(193 * u.angstrom),\n",
    "            a.Sample(60 * u.minute)\n",
    "        )\n",
    "        print(\"Found\", results.file_num, \"results\")\n",
    "        all_results.extend(results)\n",
    "        current_date = next_date\n",
    "    except Exception as e:\n",
    "        print(\"Trying again!\")\n",
    "        continue\n",
    "\n",
    "\n",
    "print(all_results)\n"
   ]
  },
  {
   "cell_type": "markdown",
   "metadata": {},
   "source": [
    "#### Download files with error checking"
   ]
  },
  {
   "cell_type": "code",
   "execution_count": null,
   "metadata": {},
   "outputs": [
    {
     "data": {
      "application/vnd.jupyter.widget-view+json": {
       "model_id": "66361c6b312f4790b188be3656a511fd",
       "version_major": 2,
       "version_minor": 0
      },
      "text/plain": [
       "Files Downloaded:   0%|          | 0/24 [00:00<?, ?file/s]"
      ]
     },
     "metadata": {},
     "output_type": "display_data"
    },
    {
     "name": "stderr",
     "output_type": "stream",
     "text": [
      "2025-01-29 13:55:10 - parfive - INFO: http://netdrms01.nispdc.nso.edu/cgi-bin/netdrms/drms_export.cgi?series=aia__lev1;compress=rice;record=193_1136073643-1136073643 failed to download with exception\n",
      "Cannot connect to host netdrms01.nispdc.nso.edu:80 ssl:default [Connect call failed ('146.5.21.120', 80)]\n",
      "2025-01-29 13:55:10 - parfive - INFO: http://netdrms01.nispdc.nso.edu/cgi-bin/netdrms/drms_export.cgi?series=aia__lev1;compress=rice;record=193_1136077243-1136077243 failed to download with exception\n",
      "Cannot connect to host netdrms01.nispdc.nso.edu:80 ssl:default [Connect call failed ('146.5.21.120', 80)]\n",
      "2025-01-29 13:55:10 - parfive - INFO: http://netdrms01.nispdc.nso.edu/cgi-bin/netdrms/drms_export.cgi?series=aia__lev1;compress=rice;record=193_1136080843-1136080843 failed to download with exception\n",
      "Cannot connect to host netdrms01.nispdc.nso.edu:80 ssl:default [Connect call failed ('146.5.21.120', 80)]\n",
      "2025-01-29 13:55:10 - parfive - INFO: http://netdrms01.nispdc.nso.edu/cgi-bin/netdrms/drms_export.cgi?series=aia__lev1;compress=rice;record=193_1136084443-1136084443 failed to download with exception\n",
      "Cannot connect to host netdrms01.nispdc.nso.edu:80 ssl:default [Connect call failed ('146.5.21.120', 80)]\n",
      "2025-01-29 13:55:10 - parfive - INFO: http://netdrms01.nispdc.nso.edu/cgi-bin/netdrms/drms_export.cgi?series=aia__lev1;compress=rice;record=193_1136088043-1136088043 failed to download with exception\n",
      "Cannot connect to host netdrms01.nispdc.nso.edu:80 ssl:default [Connect call failed ('146.5.21.120', 80)]\n",
      "2025-01-29 13:55:10 - parfive - INFO: http://netdrms01.nispdc.nso.edu/cgi-bin/netdrms/drms_export.cgi?series=aia__lev1;compress=rice;record=193_1136091643-1136091643 failed to download with exception\n",
      "Cannot connect to host netdrms01.nispdc.nso.edu:80 ssl:default [Connect call failed ('146.5.21.120', 80)]\n",
      "2025-01-29 13:55:10 - parfive - INFO: http://netdrms01.nispdc.nso.edu/cgi-bin/netdrms/drms_export.cgi?series=aia__lev1;compress=rice;record=193_1136095243-1136095243 failed to download with exception\n",
      "Cannot connect to host netdrms01.nispdc.nso.edu:80 ssl:default [Connect call failed ('146.5.21.120', 80)]\n",
      "2025-01-29 13:55:10 - parfive - INFO: http://netdrms01.nispdc.nso.edu/cgi-bin/netdrms/drms_export.cgi?series=aia__lev1;compress=rice;record=193_1136098843-1136098843 failed to download with exception\n",
      "Cannot connect to host netdrms01.nispdc.nso.edu:80 ssl:default [Connect call failed ('146.5.21.120', 80)]\n",
      "2025-01-29 13:55:10 - parfive - INFO: http://netdrms01.nispdc.nso.edu/cgi-bin/netdrms/drms_export.cgi?series=aia__lev1;compress=rice;record=193_1136102443-1136102443 failed to download with exception\n",
      "Cannot connect to host netdrms01.nispdc.nso.edu:80 ssl:default [Connect call failed ('146.5.21.120', 80)]\n",
      "2025-01-29 13:55:10 - parfive - INFO: http://netdrms01.nispdc.nso.edu/cgi-bin/netdrms/drms_export.cgi?series=aia__lev1;compress=rice;record=193_1136106043-1136106043 failed to download with exception\n",
      "Cannot connect to host netdrms01.nispdc.nso.edu:80 ssl:default [Connect call failed ('146.5.21.120', 80)]\n",
      "2025-01-29 13:55:10 - parfive - INFO: http://netdrms01.nispdc.nso.edu/cgi-bin/netdrms/drms_export.cgi?series=aia__lev1;compress=rice;record=193_1136109643-1136109643 failed to download with exception\n",
      "Cannot connect to host netdrms01.nispdc.nso.edu:80 ssl:default [Connect call failed ('146.5.21.120', 80)]\n",
      "2025-01-29 13:55:10 - parfive - INFO: http://netdrms01.nispdc.nso.edu/cgi-bin/netdrms/drms_export.cgi?series=aia__lev1;compress=rice;record=193_1136113243-1136113243 failed to download with exception\n",
      "Cannot connect to host netdrms01.nispdc.nso.edu:80 ssl:default [Connect call failed ('146.5.21.120', 80)]\n",
      "2025-01-29 13:55:10 - parfive - INFO: http://netdrms01.nispdc.nso.edu/cgi-bin/netdrms/drms_export.cgi?series=aia__lev1;compress=rice;record=193_1136116843-1136116843 failed to download with exception\n",
      "Cannot connect to host netdrms01.nispdc.nso.edu:80 ssl:default [Connect call failed ('146.5.21.120', 80)]\n",
      "2025-01-29 13:55:10 - parfive - INFO: http://netdrms01.nispdc.nso.edu/cgi-bin/netdrms/drms_export.cgi?series=aia__lev1;compress=rice;record=193_1136120443-1136120443 failed to download with exception\n",
      "Cannot connect to host netdrms01.nispdc.nso.edu:80 ssl:default [Connect call failed ('146.5.21.120', 80)]\n",
      "2025-01-29 13:55:10 - parfive - INFO: http://netdrms01.nispdc.nso.edu/cgi-bin/netdrms/drms_export.cgi?series=aia__lev1;compress=rice;record=193_1136124043-1136124043 failed to download with exception\n",
      "Cannot connect to host netdrms01.nispdc.nso.edu:80 ssl:default [Connect call failed ('146.5.21.120', 80)]\n",
      "2025-01-29 13:55:10 - parfive - INFO: http://netdrms01.nispdc.nso.edu/cgi-bin/netdrms/drms_export.cgi?series=aia__lev1;compress=rice;record=193_1136127643-1136127643 failed to download with exception\n",
      "Cannot connect to host netdrms01.nispdc.nso.edu:80 ssl:default [Connect call failed ('146.5.21.120', 80)]\n",
      "2025-01-29 13:55:10 - parfive - INFO: http://netdrms01.nispdc.nso.edu/cgi-bin/netdrms/drms_export.cgi?series=aia__lev1;compress=rice;record=193_1136131243-1136131243 failed to download with exception\n",
      "Cannot connect to host netdrms01.nispdc.nso.edu:80 ssl:default [Connect call failed ('146.5.21.120', 80)]\n",
      "2025-01-29 13:55:10 - parfive - INFO: http://netdrms01.nispdc.nso.edu/cgi-bin/netdrms/drms_export.cgi?series=aia__lev1;compress=rice;record=193_1136134843-1136134843 failed to download with exception\n",
      "Cannot connect to host netdrms01.nispdc.nso.edu:80 ssl:default [Connect call failed ('146.5.21.120', 80)]\n",
      "2025-01-29 13:55:10 - parfive - INFO: http://netdrms01.nispdc.nso.edu/cgi-bin/netdrms/drms_export.cgi?series=aia__lev1;compress=rice;record=193_1136138443-1136138443 failed to download with exception\n",
      "Cannot connect to host netdrms01.nispdc.nso.edu:80 ssl:default [Connect call failed ('146.5.21.120', 80)]\n",
      "2025-01-29 13:55:10 - parfive - INFO: http://netdrms01.nispdc.nso.edu/cgi-bin/netdrms/drms_export.cgi?series=aia__lev1;compress=rice;record=193_1136142043-1136142043 failed to download with exception\n",
      "Cannot connect to host netdrms01.nispdc.nso.edu:80 ssl:default [Connect call failed ('146.5.21.120', 80)]\n",
      "2025-01-29 13:55:10 - parfive - INFO: http://netdrms01.nispdc.nso.edu/cgi-bin/netdrms/drms_export.cgi?series=aia__lev1;compress=rice;record=193_1136145643-1136145643 failed to download with exception\n",
      "Cannot connect to host netdrms01.nispdc.nso.edu:80 ssl:default [Connect call failed ('146.5.21.120', 80)]\n",
      "2025-01-29 13:55:10 - parfive - INFO: http://netdrms01.nispdc.nso.edu/cgi-bin/netdrms/drms_export.cgi?series=aia__lev1;compress=rice;record=193_1136149239-1136149239 failed to download with exception\n",
      "Cannot connect to host netdrms01.nispdc.nso.edu:80 ssl:default [Connect call failed ('146.5.21.120', 80)]\n",
      "2025-01-29 13:55:10 - parfive - INFO: http://netdrms01.nispdc.nso.edu/cgi-bin/netdrms/drms_export.cgi?series=aia__lev1;compress=rice;record=193_1136152843-1136152843 failed to download with exception\n",
      "Cannot connect to host netdrms01.nispdc.nso.edu:80 ssl:default [Connect call failed ('146.5.21.120', 80)]\n",
      "2025-01-29 13:55:10 - parfive - INFO: http://netdrms01.nispdc.nso.edu/cgi-bin/netdrms/drms_export.cgi?series=aia__lev1;compress=rice;record=193_1136156443-1136156443 failed to download with exception\n",
      "Cannot connect to host netdrms01.nispdc.nso.edu:80 ssl:default [Connect call failed ('146.5.21.120', 80)]\n"
     ]
    },
    {
     "name": "stdout",
     "output_type": "stream",
     "text": [
      "24/0 files failed to download. Please check `.errors` for details\n"
     ]
    },
    {
     "data": {
      "application/vnd.jupyter.widget-view+json": {
       "model_id": "bb05647792704a6fb67b1ab4ae762221",
       "version_major": 2,
       "version_minor": 0
      },
      "text/plain": [
       "Files Downloaded:   0%|          | 0/24 [00:00<?, ?file/s]"
      ]
     },
     "metadata": {},
     "output_type": "display_data"
    },
    {
     "name": "stderr",
     "output_type": "stream",
     "text": [
      "2025-01-29 13:56:58 - parfive - INFO: http://netdrms01.nispdc.nso.edu/cgi-bin/netdrms/drms_export.cgi?series=aia__lev1;compress=rice;record=193_1136073643-1136073643 failed to download with exception\n",
      "Cannot connect to host netdrms01.nispdc.nso.edu:80 ssl:default [Connect call failed ('146.5.21.120', 80)]\n",
      "2025-01-29 13:56:58 - parfive - INFO: http://netdrms01.nispdc.nso.edu/cgi-bin/netdrms/drms_export.cgi?series=aia__lev1;compress=rice;record=193_1136077243-1136077243 failed to download with exception\n",
      "Cannot connect to host netdrms01.nispdc.nso.edu:80 ssl:default [Connect call failed ('146.5.21.120', 80)]\n",
      "2025-01-29 13:56:58 - parfive - INFO: http://netdrms01.nispdc.nso.edu/cgi-bin/netdrms/drms_export.cgi?series=aia__lev1;compress=rice;record=193_1136080843-1136080843 failed to download with exception\n",
      "Cannot connect to host netdrms01.nispdc.nso.edu:80 ssl:default [Connect call failed ('146.5.21.120', 80)]\n",
      "2025-01-29 13:56:58 - parfive - INFO: http://netdrms01.nispdc.nso.edu/cgi-bin/netdrms/drms_export.cgi?series=aia__lev1;compress=rice;record=193_1136084443-1136084443 failed to download with exception\n",
      "Cannot connect to host netdrms01.nispdc.nso.edu:80 ssl:default [Connect call failed ('146.5.21.120', 80)]\n",
      "2025-01-29 13:56:58 - parfive - INFO: http://netdrms01.nispdc.nso.edu/cgi-bin/netdrms/drms_export.cgi?series=aia__lev1;compress=rice;record=193_1136088043-1136088043 failed to download with exception\n",
      "Cannot connect to host netdrms01.nispdc.nso.edu:80 ssl:default [Connect call failed ('146.5.21.120', 80)]\n",
      "2025-01-29 13:56:58 - parfive - INFO: http://netdrms01.nispdc.nso.edu/cgi-bin/netdrms/drms_export.cgi?series=aia__lev1;compress=rice;record=193_1136091643-1136091643 failed to download with exception\n",
      "Cannot connect to host netdrms01.nispdc.nso.edu:80 ssl:default [Connect call failed ('146.5.21.120', 80)]\n",
      "2025-01-29 13:56:58 - parfive - INFO: http://netdrms01.nispdc.nso.edu/cgi-bin/netdrms/drms_export.cgi?series=aia__lev1;compress=rice;record=193_1136095243-1136095243 failed to download with exception\n",
      "Cannot connect to host netdrms01.nispdc.nso.edu:80 ssl:default [Connect call failed ('146.5.21.120', 80)]\n",
      "2025-01-29 13:56:58 - parfive - INFO: http://netdrms01.nispdc.nso.edu/cgi-bin/netdrms/drms_export.cgi?series=aia__lev1;compress=rice;record=193_1136098843-1136098843 failed to download with exception\n",
      "Cannot connect to host netdrms01.nispdc.nso.edu:80 ssl:default [Connect call failed ('146.5.21.120', 80)]\n",
      "2025-01-29 13:56:58 - parfive - INFO: http://netdrms01.nispdc.nso.edu/cgi-bin/netdrms/drms_export.cgi?series=aia__lev1;compress=rice;record=193_1136102443-1136102443 failed to download with exception\n",
      "Cannot connect to host netdrms01.nispdc.nso.edu:80 ssl:default [Connect call failed ('146.5.21.120', 80)]\n",
      "2025-01-29 13:56:58 - parfive - INFO: http://netdrms01.nispdc.nso.edu/cgi-bin/netdrms/drms_export.cgi?series=aia__lev1;compress=rice;record=193_1136106043-1136106043 failed to download with exception\n",
      "Cannot connect to host netdrms01.nispdc.nso.edu:80 ssl:default [Connect call failed ('146.5.21.120', 80)]\n",
      "2025-01-29 13:56:58 - parfive - INFO: http://netdrms01.nispdc.nso.edu/cgi-bin/netdrms/drms_export.cgi?series=aia__lev1;compress=rice;record=193_1136109643-1136109643 failed to download with exception\n",
      "Cannot connect to host netdrms01.nispdc.nso.edu:80 ssl:default [Connect call failed ('146.5.21.120', 80)]\n",
      "2025-01-29 13:56:58 - parfive - INFO: http://netdrms01.nispdc.nso.edu/cgi-bin/netdrms/drms_export.cgi?series=aia__lev1;compress=rice;record=193_1136113243-1136113243 failed to download with exception\n",
      "Cannot connect to host netdrms01.nispdc.nso.edu:80 ssl:default [Connect call failed ('146.5.21.120', 80)]\n",
      "2025-01-29 13:56:58 - parfive - INFO: http://netdrms01.nispdc.nso.edu/cgi-bin/netdrms/drms_export.cgi?series=aia__lev1;compress=rice;record=193_1136116843-1136116843 failed to download with exception\n",
      "Cannot connect to host netdrms01.nispdc.nso.edu:80 ssl:default [Connect call failed ('146.5.21.120', 80)]\n",
      "2025-01-29 13:56:58 - parfive - INFO: http://netdrms01.nispdc.nso.edu/cgi-bin/netdrms/drms_export.cgi?series=aia__lev1;compress=rice;record=193_1136120443-1136120443 failed to download with exception\n",
      "Cannot connect to host netdrms01.nispdc.nso.edu:80 ssl:default [Connect call failed ('146.5.21.120', 80)]\n",
      "2025-01-29 13:56:58 - parfive - INFO: http://netdrms01.nispdc.nso.edu/cgi-bin/netdrms/drms_export.cgi?series=aia__lev1;compress=rice;record=193_1136124043-1136124043 failed to download with exception\n",
      "Cannot connect to host netdrms01.nispdc.nso.edu:80 ssl:default [Connect call failed ('146.5.21.120', 80)]\n",
      "2025-01-29 13:56:58 - parfive - INFO: http://netdrms01.nispdc.nso.edu/cgi-bin/netdrms/drms_export.cgi?series=aia__lev1;compress=rice;record=193_1136127643-1136127643 failed to download with exception\n",
      "Cannot connect to host netdrms01.nispdc.nso.edu:80 ssl:default [Connect call failed ('146.5.21.120', 80)]\n",
      "2025-01-29 13:56:58 - parfive - INFO: http://netdrms01.nispdc.nso.edu/cgi-bin/netdrms/drms_export.cgi?series=aia__lev1;compress=rice;record=193_1136131243-1136131243 failed to download with exception\n",
      "Cannot connect to host netdrms01.nispdc.nso.edu:80 ssl:default [Connect call failed ('146.5.21.120', 80)]\n",
      "2025-01-29 13:56:58 - parfive - INFO: http://netdrms01.nispdc.nso.edu/cgi-bin/netdrms/drms_export.cgi?series=aia__lev1;compress=rice;record=193_1136134843-1136134843 failed to download with exception\n",
      "Cannot connect to host netdrms01.nispdc.nso.edu:80 ssl:default [Connect call failed ('146.5.21.120', 80)]\n",
      "2025-01-29 13:56:58 - parfive - INFO: http://netdrms01.nispdc.nso.edu/cgi-bin/netdrms/drms_export.cgi?series=aia__lev1;compress=rice;record=193_1136138443-1136138443 failed to download with exception\n",
      "Cannot connect to host netdrms01.nispdc.nso.edu:80 ssl:default [Connect call failed ('146.5.21.120', 80)]\n",
      "2025-01-29 13:56:58 - parfive - INFO: http://netdrms01.nispdc.nso.edu/cgi-bin/netdrms/drms_export.cgi?series=aia__lev1;compress=rice;record=193_1136142043-1136142043 failed to download with exception\n",
      "Cannot connect to host netdrms01.nispdc.nso.edu:80 ssl:default [Connect call failed ('146.5.21.120', 80)]\n",
      "2025-01-29 13:56:58 - parfive - INFO: http://netdrms01.nispdc.nso.edu/cgi-bin/netdrms/drms_export.cgi?series=aia__lev1;compress=rice;record=193_1136145643-1136145643 failed to download with exception\n",
      "Cannot connect to host netdrms01.nispdc.nso.edu:80 ssl:default [Connect call failed ('146.5.21.120', 80)]\n",
      "2025-01-29 13:56:58 - parfive - INFO: http://netdrms01.nispdc.nso.edu/cgi-bin/netdrms/drms_export.cgi?series=aia__lev1;compress=rice;record=193_1136149239-1136149239 failed to download with exception\n",
      "Cannot connect to host netdrms01.nispdc.nso.edu:80 ssl:default [Connect call failed ('146.5.21.120', 80)]\n",
      "2025-01-29 13:56:58 - parfive - INFO: http://netdrms01.nispdc.nso.edu/cgi-bin/netdrms/drms_export.cgi?series=aia__lev1;compress=rice;record=193_1136152843-1136152843 failed to download with exception\n",
      "Cannot connect to host netdrms01.nispdc.nso.edu:80 ssl:default [Connect call failed ('146.5.21.120', 80)]\n",
      "2025-01-29 13:56:58 - parfive - INFO: http://netdrms01.nispdc.nso.edu/cgi-bin/netdrms/drms_export.cgi?series=aia__lev1;compress=rice;record=193_1136156443-1136156443 failed to download with exception\n",
      "Cannot connect to host netdrms01.nispdc.nso.edu:80 ssl:default [Connect call failed ('146.5.21.120', 80)]\n"
     ]
    },
    {
     "name": "stdout",
     "output_type": "stream",
     "text": [
      "24/0 files failed to download. Please check `.errors` for details\n"
     ]
    },
    {
     "data": {
      "application/vnd.jupyter.widget-view+json": {
       "model_id": "f4e6b93fb98948bd94cb8758da38c4c9",
       "version_major": 2,
       "version_minor": 0
      },
      "text/plain": [
       "Files Downloaded:   0%|          | 0/24 [00:00<?, ?file/s]"
      ]
     },
     "metadata": {},
     "output_type": "display_data"
    },
    {
     "data": {
      "application/vnd.jupyter.widget-view+json": {
       "model_id": "09d75b953e5f4de782bbfa08950d3a68",
       "version_major": 2,
       "version_minor": 0
      },
      "text/plain": [
       "aia.lev1.193A_2013_01_01T07_00_06.84Z.image_lev1.fits:   0%|          | 0.00/12.6M [00:00<?, ?B/s]"
      ]
     },
     "metadata": {},
     "output_type": "display_data"
    },
    {
     "data": {
      "application/vnd.jupyter.widget-view+json": {
       "model_id": "614e7bda9f3b469dbf3a3845700e73d4",
       "version_major": 2,
       "version_minor": 0
      },
      "text/plain": [
       "aia.lev1.193A_2013_01_01T12_00_06.84Z.image_lev1.fits:   0%|          | 0.00/12.6M [00:00<?, ?B/s]"
      ]
     },
     "metadata": {},
     "output_type": "display_data"
    },
    {
     "data": {
      "application/vnd.jupyter.widget-view+json": {
       "model_id": "49fbfcda3c4348cd9d10b69399af648a",
       "version_major": 2,
       "version_minor": 0
      },
      "text/plain": [
       "aia.lev1.193A_2013_01_01T17_00_06.84Z.image_lev1.fits:   0%|          | 0.00/12.7M [00:00<?, ?B/s]"
      ]
     },
     "metadata": {},
     "output_type": "display_data"
    },
    {
     "data": {
      "application/vnd.jupyter.widget-view+json": {
       "model_id": "c2d246830fda40dba07c38ee5ff4a766",
       "version_major": 2,
       "version_minor": 0
      },
      "text/plain": [
       "aia.lev1.193A_2013_01_01T19_00_06.84Z.image_lev1.fits:   0%|          | 0.00/12.7M [00:00<?, ?B/s]"
      ]
     },
     "metadata": {},
     "output_type": "display_data"
    },
    {
     "data": {
      "application/vnd.jupyter.widget-view+json": {
       "model_id": "cc21705b3fe6495ab9810a311dcb0a20",
       "version_major": 2,
       "version_minor": 0
      },
      "text/plain": [
       "aia.lev1.193A_2013_01_01T16_00_06.84Z.image_lev1.fits:   0%|          | 0.00/12.7M [00:00<?, ?B/s]"
      ]
     },
     "metadata": {},
     "output_type": "display_data"
    },
    {
     "data": {
      "application/vnd.jupyter.widget-view+json": {
       "model_id": "3e55c2b145564bbcafdacab8c97ff229",
       "version_major": 2,
       "version_minor": 0
      },
      "text/plain": [
       "aia.lev1.193A_2013_01_01T15_00_06.84Z.image_lev1.fits:   0%|          | 0.00/12.7M [00:00<?, ?B/s]"
      ]
     },
     "metadata": {},
     "output_type": "display_data"
    },
    {
     "data": {
      "application/vnd.jupyter.widget-view+json": {
       "model_id": "9cdfb119e1f14562b1aaebd19dd155fb",
       "version_major": 2,
       "version_minor": 0
      },
      "text/plain": [
       "aia.lev1.193A_2013_01_01T20_00_06.84Z.image_lev1.fits:   0%|          | 0.00/12.7M [00:00<?, ?B/s]"
      ]
     },
     "metadata": {},
     "output_type": "display_data"
    },
    {
     "name": "stderr",
     "output_type": "stream",
     "text": [
      "2025-01-29 13:59:27 - parfive - INFO: http://netdrms01.nispdc.nso.edu/cgi-bin/netdrms/drms_export.cgi?series=aia__lev1;compress=rice;record=193_1136073643-1136073643 failed to download with exception\n",
      "Cannot connect to host netdrms01.nispdc.nso.edu:80 ssl:default [Connect call failed ('146.5.21.120', 80)]\n",
      "2025-01-29 13:59:27 - parfive - INFO: http://netdrms01.nispdc.nso.edu/cgi-bin/netdrms/drms_export.cgi?series=aia__lev1;compress=rice;record=193_1136077243-1136077243 failed to download with exception\n",
      "Cannot connect to host netdrms01.nispdc.nso.edu:80 ssl:default [Connect call failed ('146.5.21.120', 80)]\n",
      "2025-01-29 13:59:27 - parfive - INFO: http://netdrms01.nispdc.nso.edu/cgi-bin/netdrms/drms_export.cgi?series=aia__lev1;compress=rice;record=193_1136080843-1136080843 failed to download with exception\n",
      "Cannot connect to host netdrms01.nispdc.nso.edu:80 ssl:default [Connect call failed ('146.5.21.120', 80)]\n",
      "2025-01-29 13:59:27 - parfive - INFO: http://netdrms01.nispdc.nso.edu/cgi-bin/netdrms/drms_export.cgi?series=aia__lev1;compress=rice;record=193_1136084443-1136084443 failed to download with exception\n",
      "Cannot connect to host netdrms01.nispdc.nso.edu:80 ssl:default [Connect call failed ('146.5.21.120', 80)]\n",
      "2025-01-29 13:59:27 - parfive - INFO: http://netdrms01.nispdc.nso.edu/cgi-bin/netdrms/drms_export.cgi?series=aia__lev1;compress=rice;record=193_1136088043-1136088043 failed to download with exception\n",
      "Cannot connect to host netdrms01.nispdc.nso.edu:80 ssl:default [Connect call failed ('146.5.21.120', 80)]\n",
      "2025-01-29 13:59:27 - parfive - INFO: http://netdrms01.nispdc.nso.edu/cgi-bin/netdrms/drms_export.cgi?series=aia__lev1;compress=rice;record=193_1136091643-1136091643 failed to download with exception\n",
      "Cannot connect to host netdrms01.nispdc.nso.edu:80 ssl:default [Connect call failed ('146.5.21.120', 80)]\n",
      "2025-01-29 13:59:27 - parfive - INFO: http://netdrms01.nispdc.nso.edu/cgi-bin/netdrms/drms_export.cgi?series=aia__lev1;compress=rice;record=193_1136095243-1136095243 failed to download with exception\n",
      "Cannot connect to host netdrms01.nispdc.nso.edu:80 ssl:default [Connect call failed ('146.5.21.120', 80)]\n",
      "2025-01-29 13:59:27 - parfive - INFO: http://netdrms01.nispdc.nso.edu/cgi-bin/netdrms/drms_export.cgi?series=aia__lev1;compress=rice;record=193_1136098843-1136098843 failed to download with exception\n",
      "Cannot connect to host netdrms01.nispdc.nso.edu:80 ssl:default [Connect call failed ('146.5.21.120', 80)]\n",
      "2025-01-29 13:59:27 - parfive - INFO: http://netdrms01.nispdc.nso.edu/cgi-bin/netdrms/drms_export.cgi?series=aia__lev1;compress=rice;record=193_1136102443-1136102443 failed to download with exception\n",
      "Cannot connect to host netdrms01.nispdc.nso.edu:80 ssl:default [Connect call failed ('146.5.21.120', 80)]\n",
      "2025-01-29 13:59:27 - parfive - INFO: http://netdrms01.nispdc.nso.edu/cgi-bin/netdrms/drms_export.cgi?series=aia__lev1;compress=rice;record=193_1136106043-1136106043 failed to download with exception\n",
      "Cannot connect to host netdrms01.nispdc.nso.edu:80 ssl:default [Connect call failed ('146.5.21.120', 80)]\n",
      "2025-01-29 13:59:27 - parfive - INFO: http://netdrms01.nispdc.nso.edu/cgi-bin/netdrms/drms_export.cgi?series=aia__lev1;compress=rice;record=193_1136109643-1136109643 failed to download with exception\n",
      "Cannot connect to host netdrms01.nispdc.nso.edu:80 ssl:default [Connect call failed ('146.5.21.120', 80)]\n",
      "2025-01-29 13:59:27 - parfive - INFO: http://netdrms01.nispdc.nso.edu/cgi-bin/netdrms/drms_export.cgi?series=aia__lev1;compress=rice;record=193_1136113243-1136113243 failed to download with exception\n",
      "Cannot connect to host netdrms01.nispdc.nso.edu:80 ssl:default [Connect call failed ('146.5.21.120', 80)]\n",
      "2025-01-29 13:59:27 - parfive - INFO: http://netdrms01.nispdc.nso.edu/cgi-bin/netdrms/drms_export.cgi?series=aia__lev1;compress=rice;record=193_1136116843-1136116843 failed to download with exception\n",
      "Cannot connect to host netdrms01.nispdc.nso.edu:80 ssl:default [Connect call failed ('146.5.21.120', 80)]\n",
      "2025-01-29 13:59:27 - parfive - INFO: http://netdrms01.nispdc.nso.edu/cgi-bin/netdrms/drms_export.cgi?series=aia__lev1;compress=rice;record=193_1136120443-1136120443 failed to download with exception\n",
      "Cannot connect to host netdrms01.nispdc.nso.edu:80 ssl:default [Connect call failed ('146.5.21.120', 80)]\n",
      "2025-01-29 13:59:27 - parfive - INFO: http://netdrms01.nispdc.nso.edu/cgi-bin/netdrms/drms_export.cgi?series=aia__lev1;compress=rice;record=193_1136124043-1136124043 failed to download with exception\n",
      "Cannot connect to host netdrms01.nispdc.nso.edu:80 ssl:default [Connect call failed ('146.5.21.120', 80)]\n",
      "2025-01-29 13:59:27 - parfive - INFO: http://netdrms01.nispdc.nso.edu/cgi-bin/netdrms/drms_export.cgi?series=aia__lev1;compress=rice;record=193_1136131243-1136131243 failed to download with exception\n",
      "Cannot connect to host netdrms01.nispdc.nso.edu:80 ssl:default [Connect call failed ('146.5.21.120', 80)]\n",
      "2025-01-29 13:59:27 - parfive - INFO: http://netdrms01.nispdc.nso.edu/cgi-bin/netdrms/drms_export.cgi?series=aia__lev1;compress=rice;record=193_1136134843-1136134843 failed to download with exception\n",
      "Cannot connect to host netdrms01.nispdc.nso.edu:80 ssl:default [Connect call failed ('146.5.21.120', 80)]\n",
      "2025-01-29 13:59:27 - parfive - INFO: http://netdrms01.nispdc.nso.edu/cgi-bin/netdrms/drms_export.cgi?series=aia__lev1;compress=rice;record=193_1136138443-1136138443 failed to download with exception\n",
      "Cannot connect to host netdrms01.nispdc.nso.edu:80 ssl:default [Connect call failed ('146.5.21.120', 80)]\n",
      "2025-01-29 13:59:27 - parfive - INFO: http://netdrms01.nispdc.nso.edu/cgi-bin/netdrms/drms_export.cgi?series=aia__lev1;compress=rice;record=193_1136145643-1136145643 failed to download with exception\n",
      "Cannot connect to host netdrms01.nispdc.nso.edu:80 ssl:default [Connect call failed ('146.5.21.120', 80)]\n",
      "2025-01-29 13:59:27 - parfive - INFO: http://netdrms01.nispdc.nso.edu/cgi-bin/netdrms/drms_export.cgi?series=aia__lev1;compress=rice;record=193_1136149239-1136149239 failed to download with exception\n",
      "Cannot connect to host netdrms01.nispdc.nso.edu:80 ssl:default [Connect call failed ('146.5.21.120', 80)]\n",
      "2025-01-29 13:59:27 - parfive - INFO: http://netdrms01.nispdc.nso.edu/cgi-bin/netdrms/drms_export.cgi?series=aia__lev1;compress=rice;record=193_1136152843-1136152843 failed to download with exception\n",
      "Cannot connect to host netdrms01.nispdc.nso.edu:80 ssl:default [Connect call failed ('146.5.21.120', 80)]\n",
      "2025-01-29 13:59:27 - parfive - INFO: http://netdrms01.nispdc.nso.edu/cgi-bin/netdrms/drms_export.cgi?series=aia__lev1;compress=rice;record=193_1136156443-1136156443 failed to download with exception\n",
      "Cannot connect to host netdrms01.nispdc.nso.edu:80 ssl:default [Connect call failed ('146.5.21.120', 80)]\n"
     ]
    },
    {
     "name": "stdout",
     "output_type": "stream",
     "text": [
      "22/0 files failed to download. Please check `.errors` for details\n"
     ]
    },
    {
     "data": {
      "application/vnd.jupyter.widget-view+json": {
       "model_id": "b0124f03efa74fe8ac53924ad1e3849a",
       "version_major": 2,
       "version_minor": 0
      },
      "text/plain": [
       "Files Downloaded:   0%|          | 0/24 [00:00<?, ?file/s]"
      ]
     },
     "metadata": {},
     "output_type": "display_data"
    },
    {
     "data": {
      "application/vnd.jupyter.widget-view+json": {
       "model_id": "4a779ae2c4e04cbfa10b8aba0f9fd0a2",
       "version_major": 2,
       "version_minor": 0
      },
      "text/plain": [
       "aia.lev1.193A_2013_01_01T07_00_06.84Z.image_lev1.fits:   0%|          | 0.00/12.6M [00:00<?, ?B/s]"
      ]
     },
     "metadata": {},
     "output_type": "display_data"
    },
    {
     "data": {
      "application/vnd.jupyter.widget-view+json": {
       "model_id": "ccaae814371849d180548f8ef2cc90e3",
       "version_major": 2,
       "version_minor": 0
      },
      "text/plain": [
       "aia.lev1.193A_2013_01_01T10_00_06.84Z.image_lev1.fits:   0%|          | 0.00/12.6M [00:00<?, ?B/s]"
      ]
     },
     "metadata": {},
     "output_type": "display_data"
    },
    {
     "data": {
      "application/vnd.jupyter.widget-view+json": {
       "model_id": "b5b6a91770934fb19fda6ac21c123e2e",
       "version_major": 2,
       "version_minor": 0
      },
      "text/plain": [
       "aia.lev1.193A_2013_01_01T13_00_06.84Z.image_lev1.fits:   0%|          | 0.00/12.6M [00:00<?, ?B/s]"
      ]
     },
     "metadata": {},
     "output_type": "display_data"
    },
    {
     "data": {
      "application/vnd.jupyter.widget-view+json": {
       "model_id": "3b16271e1a704d85b4f10306549784df",
       "version_major": 2,
       "version_minor": 0
      },
      "text/plain": [
       "aia.lev1.193A_2013_01_01T11_00_06.84Z.image_lev1.fits:   0%|          | 0.00/12.6M [00:00<?, ?B/s]"
      ]
     },
     "metadata": {},
     "output_type": "display_data"
    },
    {
     "data": {
      "application/vnd.jupyter.widget-view+json": {
       "model_id": "ba6c81464fca4b928fa4bd1fe045884b",
       "version_major": 2,
       "version_minor": 0
      },
      "text/plain": [
       "aia.lev1.193A_2013_01_01T16_00_06.84Z.image_lev1.fits:   0%|          | 0.00/12.7M [00:00<?, ?B/s]"
      ]
     },
     "metadata": {},
     "output_type": "display_data"
    },
    {
     "data": {
      "application/vnd.jupyter.widget-view+json": {
       "model_id": "56ea8c79fdfb410d9811b514e0e526c9",
       "version_major": 2,
       "version_minor": 0
      },
      "text/plain": [
       "aia.lev1.193A_2013_01_01T17_00_06.84Z.image_lev1.fits:   0%|          | 0.00/12.7M [00:00<?, ?B/s]"
      ]
     },
     "metadata": {},
     "output_type": "display_data"
    },
    {
     "data": {
      "application/vnd.jupyter.widget-view+json": {
       "model_id": "5d5ce4fa3784431aa321304ea51bde73",
       "version_major": 2,
       "version_minor": 0
      },
      "text/plain": [
       "aia.lev1.193A_2013_01_01T20_00_06.84Z.image_lev1.fits:   0%|          | 0.00/12.7M [00:00<?, ?B/s]"
      ]
     },
     "metadata": {},
     "output_type": "display_data"
    },
    {
     "data": {
      "application/vnd.jupyter.widget-view+json": {
       "model_id": "c00cf72babfc4068af313eb55dc3944b",
       "version_major": 2,
       "version_minor": 0
      },
      "text/plain": [
       "aia.lev1.193A_2013_01_01T23_00_06.84Z.image_lev1.fits:   0%|          | 0.00/12.7M [00:00<?, ?B/s]"
      ]
     },
     "metadata": {},
     "output_type": "display_data"
    },
    {
     "name": "stderr",
     "output_type": "stream",
     "text": [
      "2025-01-29 14:02:12 - parfive - INFO: http://netdrms01.nispdc.nso.edu/cgi-bin/netdrms/drms_export.cgi?series=aia__lev1;compress=rice;record=193_1136073643-1136073643 failed to download with exception\n",
      "Cannot connect to host netdrms01.nispdc.nso.edu:80 ssl:default [Connect call failed ('146.5.21.120', 80)]\n",
      "2025-01-29 14:02:12 - parfive - INFO: http://netdrms01.nispdc.nso.edu/cgi-bin/netdrms/drms_export.cgi?series=aia__lev1;compress=rice;record=193_1136077243-1136077243 failed to download with exception\n",
      "Cannot connect to host netdrms01.nispdc.nso.edu:80 ssl:default [Connect call failed ('146.5.21.120', 80)]\n",
      "2025-01-29 14:02:12 - parfive - INFO: http://netdrms01.nispdc.nso.edu/cgi-bin/netdrms/drms_export.cgi?series=aia__lev1;compress=rice;record=193_1136080843-1136080843 failed to download with exception\n",
      "Cannot connect to host netdrms01.nispdc.nso.edu:80 ssl:default [Connect call failed ('146.5.21.120', 80)]\n",
      "2025-01-29 14:02:12 - parfive - INFO: http://netdrms01.nispdc.nso.edu/cgi-bin/netdrms/drms_export.cgi?series=aia__lev1;compress=rice;record=193_1136084443-1136084443 failed to download with exception\n",
      "Cannot connect to host netdrms01.nispdc.nso.edu:80 ssl:default [Connect call failed ('146.5.21.120', 80)]\n",
      "2025-01-29 14:02:12 - parfive - INFO: http://netdrms01.nispdc.nso.edu/cgi-bin/netdrms/drms_export.cgi?series=aia__lev1;compress=rice;record=193_1136088043-1136088043 failed to download with exception\n",
      "Cannot connect to host netdrms01.nispdc.nso.edu:80 ssl:default [Connect call failed ('146.5.21.120', 80)]\n",
      "2025-01-29 14:02:12 - parfive - INFO: http://netdrms01.nispdc.nso.edu/cgi-bin/netdrms/drms_export.cgi?series=aia__lev1;compress=rice;record=193_1136091643-1136091643 failed to download with exception\n",
      "Cannot connect to host netdrms01.nispdc.nso.edu:80 ssl:default [Connect call failed ('146.5.21.120', 80)]\n",
      "2025-01-29 14:02:12 - parfive - INFO: http://netdrms01.nispdc.nso.edu/cgi-bin/netdrms/drms_export.cgi?series=aia__lev1;compress=rice;record=193_1136095243-1136095243 failed to download with exception\n",
      "Cannot connect to host netdrms01.nispdc.nso.edu:80 ssl:default [Connect call failed ('146.5.21.120', 80)]\n",
      "2025-01-29 14:02:12 - parfive - INFO: http://netdrms01.nispdc.nso.edu/cgi-bin/netdrms/drms_export.cgi?series=aia__lev1;compress=rice;record=193_1136102443-1136102443 failed to download with exception\n",
      "Cannot connect to host netdrms01.nispdc.nso.edu:80 ssl:default [Connect call failed ('146.5.21.120', 80)]\n",
      "2025-01-29 14:02:12 - parfive - INFO: http://netdrms01.nispdc.nso.edu/cgi-bin/netdrms/drms_export.cgi?series=aia__lev1;compress=rice;record=193_1136106043-1136106043 failed to download with exception\n",
      "Cannot connect to host netdrms01.nispdc.nso.edu:80 ssl:default [Connect call failed ('146.5.21.120', 80)]\n",
      "2025-01-29 14:02:12 - parfive - INFO: http://netdrms01.nispdc.nso.edu/cgi-bin/netdrms/drms_export.cgi?series=aia__lev1;compress=rice;record=193_1136113243-1136113243 failed to download with exception\n",
      "Cannot connect to host netdrms01.nispdc.nso.edu:80 ssl:default [Connect call failed ('146.5.21.120', 80)]\n",
      "2025-01-29 14:02:12 - parfive - INFO: http://netdrms01.nispdc.nso.edu/cgi-bin/netdrms/drms_export.cgi?series=aia__lev1;compress=rice;record=193_1136116843-1136116843 failed to download with exception\n",
      "Cannot connect to host netdrms01.nispdc.nso.edu:80 ssl:default [Connect call failed ('146.5.21.120', 80)]\n",
      "2025-01-29 14:02:12 - parfive - INFO: http://netdrms01.nispdc.nso.edu/cgi-bin/netdrms/drms_export.cgi?series=aia__lev1;compress=rice;record=193_1136124043-1136124043 failed to download with exception\n",
      "Cannot connect to host netdrms01.nispdc.nso.edu:80 ssl:default [Connect call failed ('146.5.21.120', 80)]\n",
      "2025-01-29 14:02:12 - parfive - INFO: http://netdrms01.nispdc.nso.edu/cgi-bin/netdrms/drms_export.cgi?series=aia__lev1;compress=rice;record=193_1136138443-1136138443 failed to download with exception\n",
      "Cannot connect to host netdrms01.nispdc.nso.edu:80 ssl:default [Connect call failed ('146.5.21.120', 80)]\n",
      "2025-01-29 14:02:12 - parfive - INFO: http://netdrms01.nispdc.nso.edu/cgi-bin/netdrms/drms_export.cgi?series=aia__lev1;compress=rice;record=193_1136142043-1136142043 failed to download with exception\n",
      "Cannot connect to host netdrms01.nispdc.nso.edu:80 ssl:default [Connect call failed ('146.5.21.120', 80)]\n",
      "2025-01-29 14:02:12 - parfive - INFO: http://netdrms01.nispdc.nso.edu/cgi-bin/netdrms/drms_export.cgi?series=aia__lev1;compress=rice;record=193_1136149239-1136149239 failed to download with exception\n",
      "Cannot connect to host netdrms01.nispdc.nso.edu:80 ssl:default [Connect call failed ('146.5.21.120', 80)]\n",
      "2025-01-29 14:02:12 - parfive - INFO: http://netdrms01.nispdc.nso.edu/cgi-bin/netdrms/drms_export.cgi?series=aia__lev1;compress=rice;record=193_1136152843-1136152843 failed to download with exception\n",
      "Cannot connect to host netdrms01.nispdc.nso.edu:80 ssl:default [Connect call failed ('146.5.21.120', 80)]\n"
     ]
    },
    {
     "name": "stdout",
     "output_type": "stream",
     "text": [
      "16/0 files failed to download. Please check `.errors` for details\n"
     ]
    },
    {
     "data": {
      "application/vnd.jupyter.widget-view+json": {
       "model_id": "a50476f01b2c4dd0b7dab95fb4af855d",
       "version_major": 2,
       "version_minor": 0
      },
      "text/plain": [
       "Files Downloaded:   0%|          | 0/24 [00:00<?, ?file/s]"
      ]
     },
     "metadata": {},
     "output_type": "display_data"
    },
    {
     "data": {
      "application/vnd.jupyter.widget-view+json": {
       "model_id": "42516b5f3b664c81996ee296067237fa",
       "version_major": 2,
       "version_minor": 0
      },
      "text/plain": [
       "aia.lev1.193A_2013_01_01T05_00_06.84Z.image_lev1.fits:   0%|          | 0.00/12.6M [00:00<?, ?B/s]"
      ]
     },
     "metadata": {},
     "output_type": "display_data"
    },
    {
     "data": {
      "application/vnd.jupyter.widget-view+json": {
       "model_id": "06b34c37fe4f4d15ad5fa25122d55714",
       "version_major": 2,
       "version_minor": 0
      },
      "text/plain": [
       "aia.lev1.193A_2013_01_01T08_00_06.84Z.image_lev1.fits:   0%|          | 0.00/12.6M [00:00<?, ?B/s]"
      ]
     },
     "metadata": {},
     "output_type": "display_data"
    },
    {
     "data": {
      "application/vnd.jupyter.widget-view+json": {
       "model_id": "d81a058bc2b04bceb814abfe3835bd41",
       "version_major": 2,
       "version_minor": 0
      },
      "text/plain": [
       "aia.lev1.193A_2013_01_01T11_00_06.84Z.image_lev1.fits:   0%|          | 0.00/12.6M [00:00<?, ?B/s]"
      ]
     },
     "metadata": {},
     "output_type": "display_data"
    },
    {
     "data": {
      "application/vnd.jupyter.widget-view+json": {
       "model_id": "6ab6c6f58a5344dc8cb7d92926f3abb4",
       "version_major": 2,
       "version_minor": 0
      },
      "text/plain": [
       "aia.lev1.193A_2013_01_01T22_00_06.84Z.image_lev1.fits:   0%|          | 0.00/12.7M [00:00<?, ?B/s]"
      ]
     },
     "metadata": {},
     "output_type": "display_data"
    },
    {
     "name": "stderr",
     "output_type": "stream",
     "text": [
      "2025-01-29 14:04:04 - parfive - INFO: http://netdrms01.nispdc.nso.edu/cgi-bin/netdrms/drms_export.cgi?series=aia__lev1;compress=rice;record=193_1136073643-1136073643 failed to download with exception\n",
      "Cannot connect to host netdrms01.nispdc.nso.edu:80 ssl:default [Connect call failed ('146.5.21.120', 80)]\n",
      "2025-01-29 14:04:04 - parfive - INFO: http://netdrms01.nispdc.nso.edu/cgi-bin/netdrms/drms_export.cgi?series=aia__lev1;compress=rice;record=193_1136077243-1136077243 failed to download with exception\n",
      "Cannot connect to host netdrms01.nispdc.nso.edu:80 ssl:default [Connect call failed ('146.5.21.120', 80)]\n",
      "2025-01-29 14:04:04 - parfive - INFO: http://netdrms01.nispdc.nso.edu/cgi-bin/netdrms/drms_export.cgi?series=aia__lev1;compress=rice;record=193_1136080843-1136080843 failed to download with exception\n",
      "Cannot connect to host netdrms01.nispdc.nso.edu:80 ssl:default [Connect call failed ('146.5.21.120', 80)]\n",
      "2025-01-29 14:04:04 - parfive - INFO: http://netdrms01.nispdc.nso.edu/cgi-bin/netdrms/drms_export.cgi?series=aia__lev1;compress=rice;record=193_1136084443-1136084443 failed to download with exception\n",
      "Cannot connect to host netdrms01.nispdc.nso.edu:80 ssl:default [Connect call failed ('146.5.21.120', 80)]\n",
      "2025-01-29 14:04:04 - parfive - INFO: http://netdrms01.nispdc.nso.edu/cgi-bin/netdrms/drms_export.cgi?series=aia__lev1;compress=rice;record=193_1136091643-1136091643 failed to download with exception\n",
      "Cannot connect to host netdrms01.nispdc.nso.edu:80 ssl:default [Connect call failed ('146.5.21.120', 80)]\n",
      "2025-01-29 14:04:04 - parfive - INFO: http://netdrms01.nispdc.nso.edu/cgi-bin/netdrms/drms_export.cgi?series=aia__lev1;compress=rice;record=193_1136095243-1136095243 failed to download with exception\n",
      "Cannot connect to host netdrms01.nispdc.nso.edu:80 ssl:default [Connect call failed ('146.5.21.120', 80)]\n",
      "2025-01-29 14:04:04 - parfive - INFO: http://netdrms01.nispdc.nso.edu/cgi-bin/netdrms/drms_export.cgi?series=aia__lev1;compress=rice;record=193_1136098843-1136098843 failed to download with exception\n",
      "Cannot connect to host netdrms01.nispdc.nso.edu:80 ssl:default [Connect call failed ('146.5.21.120', 80)]\n",
      "2025-01-29 14:04:04 - parfive - INFO: http://netdrms01.nispdc.nso.edu/cgi-bin/netdrms/drms_export.cgi?series=aia__lev1;compress=rice;record=193_1136106043-1136106043 failed to download with exception\n",
      "Cannot connect to host netdrms01.nispdc.nso.edu:80 ssl:default [Connect call failed ('146.5.21.120', 80)]\n",
      "2025-01-29 14:04:04 - parfive - INFO: http://netdrms01.nispdc.nso.edu/cgi-bin/netdrms/drms_export.cgi?series=aia__lev1;compress=rice;record=193_1136109643-1136109643 failed to download with exception\n",
      "Cannot connect to host netdrms01.nispdc.nso.edu:80 ssl:default [Connect call failed ('146.5.21.120', 80)]\n",
      "2025-01-29 14:04:04 - parfive - INFO: http://netdrms01.nispdc.nso.edu/cgi-bin/netdrms/drms_export.cgi?series=aia__lev1;compress=rice;record=193_1136116843-1136116843 failed to download with exception\n",
      "Cannot connect to host netdrms01.nispdc.nso.edu:80 ssl:default [Connect call failed ('146.5.21.120', 80)]\n",
      "2025-01-29 14:04:04 - parfive - INFO: http://netdrms01.nispdc.nso.edu/cgi-bin/netdrms/drms_export.cgi?series=aia__lev1;compress=rice;record=193_1136120443-1136120443 failed to download with exception\n",
      "Cannot connect to host netdrms01.nispdc.nso.edu:80 ssl:default [Connect call failed ('146.5.21.120', 80)]\n",
      "2025-01-29 14:04:04 - parfive - INFO: http://netdrms01.nispdc.nso.edu/cgi-bin/netdrms/drms_export.cgi?series=aia__lev1;compress=rice;record=193_1136124043-1136124043 failed to download with exception\n",
      "Cannot connect to host netdrms01.nispdc.nso.edu:80 ssl:default [Connect call failed ('146.5.21.120', 80)]\n",
      "2025-01-29 14:04:04 - parfive - INFO: http://netdrms01.nispdc.nso.edu/cgi-bin/netdrms/drms_export.cgi?series=aia__lev1;compress=rice;record=193_1136138443-1136138443 failed to download with exception\n",
      "Cannot connect to host netdrms01.nispdc.nso.edu:80 ssl:default [Connect call failed ('146.5.21.120', 80)]\n",
      "2025-01-29 14:04:04 - parfive - INFO: http://netdrms01.nispdc.nso.edu/cgi-bin/netdrms/drms_export.cgi?series=aia__lev1;compress=rice;record=193_1136142043-1136142043 failed to download with exception\n",
      "Cannot connect to host netdrms01.nispdc.nso.edu:80 ssl:default [Connect call failed ('146.5.21.120', 80)]\n",
      "2025-01-29 14:04:04 - parfive - INFO: http://netdrms01.nispdc.nso.edu/cgi-bin/netdrms/drms_export.cgi?series=aia__lev1;compress=rice;record=193_1136145643-1136145643 failed to download with exception\n",
      "Cannot connect to host netdrms01.nispdc.nso.edu:80 ssl:default [Connect call failed ('146.5.21.120', 80)]\n",
      "2025-01-29 14:04:04 - parfive - INFO: http://netdrms01.nispdc.nso.edu/cgi-bin/netdrms/drms_export.cgi?series=aia__lev1;compress=rice;record=193_1136149239-1136149239 failed to download with exception\n",
      "Cannot connect to host netdrms01.nispdc.nso.edu:80 ssl:default [Connect call failed ('146.5.21.120', 80)]\n",
      "2025-01-29 14:04:04 - parfive - INFO: http://netdrms01.nispdc.nso.edu/cgi-bin/netdrms/drms_export.cgi?series=aia__lev1;compress=rice;record=193_1136152843-1136152843 failed to download with exception\n",
      "Cannot connect to host netdrms01.nispdc.nso.edu:80 ssl:default [Connect call failed ('146.5.21.120', 80)]\n",
      "2025-01-29 14:04:04 - parfive - INFO: http://netdrms01.nispdc.nso.edu/cgi-bin/netdrms/drms_export.cgi?series=aia__lev1;compress=rice;record=193_1136156443-1136156443 failed to download with exception\n",
      "Cannot connect to host netdrms01.nispdc.nso.edu:80 ssl:default [Connect call failed ('146.5.21.120', 80)]\n"
     ]
    },
    {
     "name": "stdout",
     "output_type": "stream",
     "text": [
      "18/0 files failed to download. Please check `.errors` for details\n"
     ]
    },
    {
     "data": {
      "application/vnd.jupyter.widget-view+json": {
       "model_id": "941f07546b6641e992d5498b90f12fa8",
       "version_major": 2,
       "version_minor": 0
      },
      "text/plain": [
       "Files Downloaded:   0%|          | 0/24 [00:00<?, ?file/s]"
      ]
     },
     "metadata": {},
     "output_type": "display_data"
    },
    {
     "data": {
      "application/vnd.jupyter.widget-view+json": {
       "model_id": "41404a28af9d406e93be2d2f0413b2ba",
       "version_major": 2,
       "version_minor": 0
      },
      "text/plain": [
       "aia.lev1.193A_2013_01_01T06_00_06.84Z.image_lev1.fits:   0%|          | 0.00/12.6M [00:00<?, ?B/s]"
      ]
     },
     "metadata": {},
     "output_type": "display_data"
    },
    {
     "data": {
      "application/vnd.jupyter.widget-view+json": {
       "model_id": "ea0fa4f29bc24678bad117dd985fc5cc",
       "version_major": 2,
       "version_minor": 0
      },
      "text/plain": [
       "aia.lev1.193A_2013_01_01T18_00_06.84Z.image_lev1.fits:   0%|          | 0.00/12.7M [00:00<?, ?B/s]"
      ]
     },
     "metadata": {},
     "output_type": "display_data"
    },
    {
     "name": "stderr",
     "output_type": "stream",
     "text": [
      "2025-01-29 14:05:55 - parfive - INFO: http://netdrms01.nispdc.nso.edu/cgi-bin/netdrms/drms_export.cgi?series=aia__lev1;compress=rice;record=193_1136073643-1136073643 failed to download with exception\n",
      "Cannot connect to host netdrms01.nispdc.nso.edu:80 ssl:default [Connect call failed ('146.5.21.120', 80)]\n",
      "2025-01-29 14:05:55 - parfive - INFO: http://netdrms01.nispdc.nso.edu/cgi-bin/netdrms/drms_export.cgi?series=aia__lev1;compress=rice;record=193_1136077243-1136077243 failed to download with exception\n",
      "Cannot connect to host netdrms01.nispdc.nso.edu:80 ssl:default [Connect call failed ('146.5.21.120', 80)]\n",
      "2025-01-29 14:05:55 - parfive - INFO: http://netdrms01.nispdc.nso.edu/cgi-bin/netdrms/drms_export.cgi?series=aia__lev1;compress=rice;record=193_1136080843-1136080843 failed to download with exception\n",
      "Cannot connect to host netdrms01.nispdc.nso.edu:80 ssl:default [Connect call failed ('146.5.21.120', 80)]\n",
      "2025-01-29 14:05:55 - parfive - INFO: http://netdrms01.nispdc.nso.edu/cgi-bin/netdrms/drms_export.cgi?series=aia__lev1;compress=rice;record=193_1136084443-1136084443 failed to download with exception\n",
      "Cannot connect to host netdrms01.nispdc.nso.edu:80 ssl:default [Connect call failed ('146.5.21.120', 80)]\n",
      "2025-01-29 14:05:55 - parfive - INFO: http://netdrms01.nispdc.nso.edu/cgi-bin/netdrms/drms_export.cgi?series=aia__lev1;compress=rice;record=193_1136088043-1136088043 failed to download with exception\n",
      "Cannot connect to host netdrms01.nispdc.nso.edu:80 ssl:default [Connect call failed ('146.5.21.120', 80)]\n",
      "2025-01-29 14:05:55 - parfive - INFO: http://netdrms01.nispdc.nso.edu/cgi-bin/netdrms/drms_export.cgi?series=aia__lev1;compress=rice;record=193_1136091643-1136091643 failed to download with exception\n",
      "Cannot connect to host netdrms01.nispdc.nso.edu:80 ssl:default [Connect call failed ('146.5.21.120', 80)]\n",
      "2025-01-29 14:05:55 - parfive - INFO: http://netdrms01.nispdc.nso.edu/cgi-bin/netdrms/drms_export.cgi?series=aia__lev1;compress=rice;record=193_1136098843-1136098843 failed to download with exception\n",
      "Cannot connect to host netdrms01.nispdc.nso.edu:80 ssl:default [Connect call failed ('146.5.21.120', 80)]\n",
      "2025-01-29 14:05:55 - parfive - INFO: http://netdrms01.nispdc.nso.edu/cgi-bin/netdrms/drms_export.cgi?series=aia__lev1;compress=rice;record=193_1136102443-1136102443 failed to download with exception\n",
      "Cannot connect to host netdrms01.nispdc.nso.edu:80 ssl:default [Connect call failed ('146.5.21.120', 80)]\n",
      "2025-01-29 14:05:55 - parfive - INFO: http://netdrms01.nispdc.nso.edu/cgi-bin/netdrms/drms_export.cgi?series=aia__lev1;compress=rice;record=193_1136106043-1136106043 failed to download with exception\n",
      "Cannot connect to host netdrms01.nispdc.nso.edu:80 ssl:default [Connect call failed ('146.5.21.120', 80)]\n",
      "2025-01-29 14:05:55 - parfive - INFO: http://netdrms01.nispdc.nso.edu/cgi-bin/netdrms/drms_export.cgi?series=aia__lev1;compress=rice;record=193_1136109643-1136109643 failed to download with exception\n",
      "Cannot connect to host netdrms01.nispdc.nso.edu:80 ssl:default [Connect call failed ('146.5.21.120', 80)]\n",
      "2025-01-29 14:05:55 - parfive - INFO: http://netdrms01.nispdc.nso.edu/cgi-bin/netdrms/drms_export.cgi?series=aia__lev1;compress=rice;record=193_1136113243-1136113243 failed to download with exception\n",
      "Cannot connect to host netdrms01.nispdc.nso.edu:80 ssl:default [Connect call failed ('146.5.21.120', 80)]\n",
      "2025-01-29 14:05:55 - parfive - INFO: http://netdrms01.nispdc.nso.edu/cgi-bin/netdrms/drms_export.cgi?series=aia__lev1;compress=rice;record=193_1136116843-1136116843 failed to download with exception\n",
      "Cannot connect to host netdrms01.nispdc.nso.edu:80 ssl:default [Connect call failed ('146.5.21.120', 80)]\n",
      "2025-01-29 14:05:55 - parfive - INFO: http://netdrms01.nispdc.nso.edu/cgi-bin/netdrms/drms_export.cgi?series=aia__lev1;compress=rice;record=193_1136120443-1136120443 failed to download with exception\n",
      "Cannot connect to host netdrms01.nispdc.nso.edu:80 ssl:default [Connect call failed ('146.5.21.120', 80)]\n",
      "2025-01-29 14:05:55 - parfive - INFO: http://netdrms01.nispdc.nso.edu/cgi-bin/netdrms/drms_export.cgi?series=aia__lev1;compress=rice;record=193_1136124043-1136124043 failed to download with exception\n",
      "Cannot connect to host netdrms01.nispdc.nso.edu:80 ssl:default [Connect call failed ('146.5.21.120', 80)]\n",
      "2025-01-29 14:05:55 - parfive - INFO: http://netdrms01.nispdc.nso.edu/cgi-bin/netdrms/drms_export.cgi?series=aia__lev1;compress=rice;record=193_1136127643-1136127643 failed to download with exception\n",
      "Cannot connect to host netdrms01.nispdc.nso.edu:80 ssl:default [Connect call failed ('146.5.21.120', 80)]\n",
      "2025-01-29 14:05:55 - parfive - INFO: http://netdrms01.nispdc.nso.edu/cgi-bin/netdrms/drms_export.cgi?series=aia__lev1;compress=rice;record=193_1136131243-1136131243 failed to download with exception\n",
      "Cannot connect to host netdrms01.nispdc.nso.edu:80 ssl:default [Connect call failed ('146.5.21.120', 80)]\n",
      "2025-01-29 14:05:55 - parfive - INFO: http://netdrms01.nispdc.nso.edu/cgi-bin/netdrms/drms_export.cgi?series=aia__lev1;compress=rice;record=193_1136134843-1136134843 failed to download with exception\n",
      "Cannot connect to host netdrms01.nispdc.nso.edu:80 ssl:default [Connect call failed ('146.5.21.120', 80)]\n",
      "2025-01-29 14:05:55 - parfive - INFO: http://netdrms01.nispdc.nso.edu/cgi-bin/netdrms/drms_export.cgi?series=aia__lev1;compress=rice;record=193_1136142043-1136142043 failed to download with exception\n",
      "Cannot connect to host netdrms01.nispdc.nso.edu:80 ssl:default [Connect call failed ('146.5.21.120', 80)]\n",
      "2025-01-29 14:05:55 - parfive - INFO: http://netdrms01.nispdc.nso.edu/cgi-bin/netdrms/drms_export.cgi?series=aia__lev1;compress=rice;record=193_1136145643-1136145643 failed to download with exception\n",
      "Cannot connect to host netdrms01.nispdc.nso.edu:80 ssl:default [Connect call failed ('146.5.21.120', 80)]\n",
      "2025-01-29 14:05:55 - parfive - INFO: http://netdrms01.nispdc.nso.edu/cgi-bin/netdrms/drms_export.cgi?series=aia__lev1;compress=rice;record=193_1136149239-1136149239 failed to download with exception\n",
      "Cannot connect to host netdrms01.nispdc.nso.edu:80 ssl:default [Connect call failed ('146.5.21.120', 80)]\n",
      "2025-01-29 14:05:55 - parfive - INFO: http://netdrms01.nispdc.nso.edu/cgi-bin/netdrms/drms_export.cgi?series=aia__lev1;compress=rice;record=193_1136152843-1136152843 failed to download with exception\n",
      "Cannot connect to host netdrms01.nispdc.nso.edu:80 ssl:default [Connect call failed ('146.5.21.120', 80)]\n"
     ]
    },
    {
     "name": "stdout",
     "output_type": "stream",
     "text": [
      "21/0 files failed to download. Please check `.errors` for details\n"
     ]
    },
    {
     "data": {
      "application/vnd.jupyter.widget-view+json": {
       "model_id": "66bb0432b1034c52be4852847661383c",
       "version_major": 2,
       "version_minor": 0
      },
      "text/plain": [
       "Files Downloaded:   0%|          | 0/24 [00:00<?, ?file/s]"
      ]
     },
     "metadata": {},
     "output_type": "display_data"
    },
    {
     "data": {
      "application/vnd.jupyter.widget-view+json": {
       "model_id": "50ee241c13c245e588673b5d08d396ca",
       "version_major": 2,
       "version_minor": 0
      },
      "text/plain": [
       "aia.lev1.193A_2013_01_01T12_00_06.84Z.image_lev1.fits:   0%|          | 0.00/12.6M [00:00<?, ?B/s]"
      ]
     },
     "metadata": {},
     "output_type": "display_data"
    },
    {
     "name": "stderr",
     "output_type": "stream",
     "text": [
      "2025-01-29 14:07:43 - parfive - INFO: http://netdrms01.nispdc.nso.edu/cgi-bin/netdrms/drms_export.cgi?series=aia__lev1;compress=rice;record=193_1136073643-1136073643 failed to download with exception\n",
      "Cannot connect to host netdrms01.nispdc.nso.edu:80 ssl:default [Connect call failed ('146.5.21.120', 80)]\n",
      "2025-01-29 14:07:43 - parfive - INFO: http://netdrms01.nispdc.nso.edu/cgi-bin/netdrms/drms_export.cgi?series=aia__lev1;compress=rice;record=193_1136080843-1136080843 failed to download with exception\n",
      "Cannot connect to host netdrms01.nispdc.nso.edu:80 ssl:default [Connect call failed ('146.5.21.120', 80)]\n",
      "2025-01-29 14:07:43 - parfive - INFO: http://netdrms01.nispdc.nso.edu/cgi-bin/netdrms/drms_export.cgi?series=aia__lev1;compress=rice;record=193_1136084443-1136084443 failed to download with exception\n",
      "Cannot connect to host netdrms01.nispdc.nso.edu:80 ssl:default [Connect call failed ('146.5.21.120', 80)]\n",
      "2025-01-29 14:07:43 - parfive - INFO: http://netdrms01.nispdc.nso.edu/cgi-bin/netdrms/drms_export.cgi?series=aia__lev1;compress=rice;record=193_1136091643-1136091643 failed to download with exception\n",
      "Cannot connect to host netdrms01.nispdc.nso.edu:80 ssl:default [Connect call failed ('146.5.21.120', 80)]\n",
      "2025-01-29 14:07:43 - parfive - INFO: http://netdrms01.nispdc.nso.edu/cgi-bin/netdrms/drms_export.cgi?series=aia__lev1;compress=rice;record=193_1136095243-1136095243 failed to download with exception\n",
      "Cannot connect to host netdrms01.nispdc.nso.edu:80 ssl:default [Connect call failed ('146.5.21.120', 80)]\n",
      "2025-01-29 14:07:43 - parfive - INFO: http://netdrms01.nispdc.nso.edu/cgi-bin/netdrms/drms_export.cgi?series=aia__lev1;compress=rice;record=193_1136098843-1136098843 failed to download with exception\n",
      "Cannot connect to host netdrms01.nispdc.nso.edu:80 ssl:default [Connect call failed ('146.5.21.120', 80)]\n",
      "2025-01-29 14:07:43 - parfive - INFO: http://netdrms01.nispdc.nso.edu/cgi-bin/netdrms/drms_export.cgi?series=aia__lev1;compress=rice;record=193_1136102443-1136102443 failed to download with exception\n",
      "Cannot connect to host netdrms01.nispdc.nso.edu:80 ssl:default [Connect call failed ('146.5.21.120', 80)]\n",
      "2025-01-29 14:07:43 - parfive - INFO: http://netdrms01.nispdc.nso.edu/cgi-bin/netdrms/drms_export.cgi?series=aia__lev1;compress=rice;record=193_1136106043-1136106043 failed to download with exception\n",
      "Cannot connect to host netdrms01.nispdc.nso.edu:80 ssl:default [Connect call failed ('146.5.21.120', 80)]\n",
      "2025-01-29 14:07:43 - parfive - INFO: http://netdrms01.nispdc.nso.edu/cgi-bin/netdrms/drms_export.cgi?series=aia__lev1;compress=rice;record=193_1136109643-1136109643 failed to download with exception\n",
      "Cannot connect to host netdrms01.nispdc.nso.edu:80 ssl:default [Connect call failed ('146.5.21.120', 80)]\n",
      "2025-01-29 14:07:43 - parfive - INFO: http://netdrms01.nispdc.nso.edu/cgi-bin/netdrms/drms_export.cgi?series=aia__lev1;compress=rice;record=193_1136113243-1136113243 failed to download with exception\n",
      "Cannot connect to host netdrms01.nispdc.nso.edu:80 ssl:default [Connect call failed ('146.5.21.120', 80)]\n",
      "2025-01-29 14:07:43 - parfive - INFO: http://netdrms01.nispdc.nso.edu/cgi-bin/netdrms/drms_export.cgi?series=aia__lev1;compress=rice;record=193_1136116843-1136116843 failed to download with exception\n",
      "Cannot connect to host netdrms01.nispdc.nso.edu:80 ssl:default [Connect call failed ('146.5.21.120', 80)]\n",
      "2025-01-29 14:07:43 - parfive - INFO: http://netdrms01.nispdc.nso.edu/cgi-bin/netdrms/drms_export.cgi?series=aia__lev1;compress=rice;record=193_1136124043-1136124043 failed to download with exception\n",
      "Cannot connect to host netdrms01.nispdc.nso.edu:80 ssl:default [Connect call failed ('146.5.21.120', 80)]\n",
      "2025-01-29 14:07:43 - parfive - INFO: http://netdrms01.nispdc.nso.edu/cgi-bin/netdrms/drms_export.cgi?series=aia__lev1;compress=rice;record=193_1136127643-1136127643 failed to download with exception\n",
      "Cannot connect to host netdrms01.nispdc.nso.edu:80 ssl:default [Connect call failed ('146.5.21.120', 80)]\n",
      "2025-01-29 14:07:43 - parfive - INFO: http://netdrms01.nispdc.nso.edu/cgi-bin/netdrms/drms_export.cgi?series=aia__lev1;compress=rice;record=193_1136131243-1136131243 failed to download with exception\n",
      "Cannot connect to host netdrms01.nispdc.nso.edu:80 ssl:default [Connect call failed ('146.5.21.120', 80)]\n",
      "2025-01-29 14:07:43 - parfive - INFO: http://netdrms01.nispdc.nso.edu/cgi-bin/netdrms/drms_export.cgi?series=aia__lev1;compress=rice;record=193_1136134843-1136134843 failed to download with exception\n",
      "Cannot connect to host netdrms01.nispdc.nso.edu:80 ssl:default [Connect call failed ('146.5.21.120', 80)]\n",
      "2025-01-29 14:07:43 - parfive - INFO: http://netdrms01.nispdc.nso.edu/cgi-bin/netdrms/drms_export.cgi?series=aia__lev1;compress=rice;record=193_1136138443-1136138443 failed to download with exception\n",
      "Cannot connect to host netdrms01.nispdc.nso.edu:80 ssl:default [Connect call failed ('146.5.21.120', 80)]\n",
      "2025-01-29 14:07:43 - parfive - INFO: http://netdrms01.nispdc.nso.edu/cgi-bin/netdrms/drms_export.cgi?series=aia__lev1;compress=rice;record=193_1136142043-1136142043 failed to download with exception\n",
      "Cannot connect to host netdrms01.nispdc.nso.edu:80 ssl:default [Connect call failed ('146.5.21.120', 80)]\n",
      "2025-01-29 14:07:43 - parfive - INFO: http://netdrms01.nispdc.nso.edu/cgi-bin/netdrms/drms_export.cgi?series=aia__lev1;compress=rice;record=193_1136145643-1136145643 failed to download with exception\n",
      "Cannot connect to host netdrms01.nispdc.nso.edu:80 ssl:default [Connect call failed ('146.5.21.120', 80)]\n",
      "2025-01-29 14:07:43 - parfive - INFO: http://netdrms01.nispdc.nso.edu/cgi-bin/netdrms/drms_export.cgi?series=aia__lev1;compress=rice;record=193_1136149239-1136149239 failed to download with exception\n",
      "Cannot connect to host netdrms01.nispdc.nso.edu:80 ssl:default [Connect call failed ('146.5.21.120', 80)]\n",
      "2025-01-29 14:07:43 - parfive - INFO: http://netdrms01.nispdc.nso.edu/cgi-bin/netdrms/drms_export.cgi?series=aia__lev1;compress=rice;record=193_1136152843-1136152843 failed to download with exception\n",
      "Cannot connect to host netdrms01.nispdc.nso.edu:80 ssl:default [Connect call failed ('146.5.21.120', 80)]\n",
      "2025-01-29 14:07:43 - parfive - INFO: http://netdrms01.nispdc.nso.edu/cgi-bin/netdrms/drms_export.cgi?series=aia__lev1;compress=rice;record=193_1136156443-1136156443 failed to download with exception\n",
      "Cannot connect to host netdrms01.nispdc.nso.edu:80 ssl:default [Connect call failed ('146.5.21.120', 80)]\n"
     ]
    },
    {
     "name": "stdout",
     "output_type": "stream",
     "text": [
      "21/0 files failed to download. Please check `.errors` for details\n"
     ]
    },
    {
     "data": {
      "application/vnd.jupyter.widget-view+json": {
       "model_id": "e38f7fa4acc24f5ab3bff3892ebd3d1d",
       "version_major": 2,
       "version_minor": 0
      },
      "text/plain": [
       "Files Downloaded:   0%|          | 0/24 [00:00<?, ?file/s]"
      ]
     },
     "metadata": {},
     "output_type": "display_data"
    },
    {
     "data": {
      "application/vnd.jupyter.widget-view+json": {
       "model_id": "aff1d4c51a564e73ab2c52a18bd55e3c",
       "version_major": 2,
       "version_minor": 0
      },
      "text/plain": [
       "aia.lev1.193A_2013_01_01T12_00_06.84Z.image_lev1.fits:   0%|          | 0.00/12.6M [00:00<?, ?B/s]"
      ]
     },
     "metadata": {},
     "output_type": "display_data"
    },
    {
     "name": "stderr",
     "output_type": "stream",
     "text": [
      "2025-01-29 14:11:24 - parfive - INFO: http://netdrms01.nispdc.nso.edu/cgi-bin/netdrms/drms_export.cgi?series=aia__lev1;compress=rice;record=193_1136073643-1136073643 failed to download with exception\n",
      "Cannot connect to host netdrms01.nispdc.nso.edu:80 ssl:default [Connect call failed ('146.5.21.120', 80)]\n",
      "2025-01-29 14:11:24 - parfive - INFO: http://netdrms01.nispdc.nso.edu/cgi-bin/netdrms/drms_export.cgi?series=aia__lev1;compress=rice;record=193_1136077243-1136077243 failed to download with exception\n",
      "Cannot connect to host netdrms01.nispdc.nso.edu:80 ssl:default [Connect call failed ('146.5.21.120', 80)]\n",
      "2025-01-29 14:11:24 - parfive - INFO: http://netdrms01.nispdc.nso.edu/cgi-bin/netdrms/drms_export.cgi?series=aia__lev1;compress=rice;record=193_1136080843-1136080843 failed to download with exception\n",
      "Cannot connect to host netdrms01.nispdc.nso.edu:80 ssl:default [Connect call failed ('146.5.21.120', 80)]\n",
      "2025-01-29 14:11:24 - parfive - INFO: http://netdrms01.nispdc.nso.edu/cgi-bin/netdrms/drms_export.cgi?series=aia__lev1;compress=rice;record=193_1136084443-1136084443 failed to download with exception\n",
      "Cannot connect to host netdrms01.nispdc.nso.edu:80 ssl:default [Connect call failed ('146.5.21.120', 80)]\n",
      "2025-01-29 14:11:24 - parfive - INFO: http://netdrms01.nispdc.nso.edu/cgi-bin/netdrms/drms_export.cgi?series=aia__lev1;compress=rice;record=193_1136088043-1136088043 failed to download with exception\n",
      "Cannot connect to host netdrms01.nispdc.nso.edu:80 ssl:default [Connect call failed ('146.5.21.120', 80)]\n",
      "2025-01-29 14:11:24 - parfive - INFO: http://netdrms01.nispdc.nso.edu/cgi-bin/netdrms/drms_export.cgi?series=aia__lev1;compress=rice;record=193_1136091643-1136091643 failed to download with exception\n",
      "Cannot connect to host netdrms01.nispdc.nso.edu:80 ssl:default [Connect call failed ('146.5.21.120', 80)]\n",
      "2025-01-29 14:11:24 - parfive - INFO: http://netdrms01.nispdc.nso.edu/cgi-bin/netdrms/drms_export.cgi?series=aia__lev1;compress=rice;record=193_1136095243-1136095243 failed to download with exception\n",
      "Cannot connect to host netdrms01.nispdc.nso.edu:80 ssl:default [Connect call failed ('146.5.21.120', 80)]\n",
      "2025-01-29 14:11:24 - parfive - INFO: http://netdrms01.nispdc.nso.edu/cgi-bin/netdrms/drms_export.cgi?series=aia__lev1;compress=rice;record=193_1136098843-1136098843 failed to download with exception\n",
      "Cannot connect to host netdrms01.nispdc.nso.edu:80 ssl:default [Connect call failed ('146.5.21.120', 80)]\n",
      "2025-01-29 14:11:24 - parfive - INFO: http://netdrms01.nispdc.nso.edu/cgi-bin/netdrms/drms_export.cgi?series=aia__lev1;compress=rice;record=193_1136102443-1136102443 failed to download with exception\n",
      "Cannot connect to host netdrms01.nispdc.nso.edu:80 ssl:default [Connect call failed ('146.5.21.120', 80)]\n",
      "2025-01-29 14:11:24 - parfive - INFO: http://netdrms01.nispdc.nso.edu/cgi-bin/netdrms/drms_export.cgi?series=aia__lev1;compress=rice;record=193_1136106043-1136106043 failed to download with exception\n",
      "Cannot connect to host netdrms01.nispdc.nso.edu:80 ssl:default [Connect call failed ('146.5.21.120', 80)]\n",
      "2025-01-29 14:11:24 - parfive - INFO: http://netdrms01.nispdc.nso.edu/cgi-bin/netdrms/drms_export.cgi?series=aia__lev1;compress=rice;record=193_1136109643-1136109643 failed to download with exception\n",
      "Cannot connect to host netdrms01.nispdc.nso.edu:80 ssl:default [Connect call failed ('146.5.21.120', 80)]\n",
      "2025-01-29 14:11:24 - parfive - INFO: http://netdrms01.nispdc.nso.edu/cgi-bin/netdrms/drms_export.cgi?series=aia__lev1;compress=rice;record=193_1136113243-1136113243 failed to download with exception\n",
      "Cannot connect to host netdrms01.nispdc.nso.edu:80 ssl:default [Connect call failed ('146.5.21.120', 80)]\n",
      "2025-01-29 14:11:24 - parfive - INFO: http://netdrms01.nispdc.nso.edu/cgi-bin/netdrms/drms_export.cgi?series=aia__lev1;compress=rice;record=193_1136116843-1136116843 failed to download with exception\n",
      "Timeout on reading data from socket\n",
      "2025-01-29 14:11:24 - parfive - INFO: http://netdrms01.nispdc.nso.edu/cgi-bin/netdrms/drms_export.cgi?series=aia__lev1;compress=rice;record=193_1136120443-1136120443 failed to download with exception\n",
      "Cannot connect to host netdrms01.nispdc.nso.edu:80 ssl:default [Connect call failed ('146.5.21.120', 80)]\n",
      "2025-01-29 14:11:24 - parfive - INFO: http://netdrms01.nispdc.nso.edu/cgi-bin/netdrms/drms_export.cgi?series=aia__lev1;compress=rice;record=193_1136124043-1136124043 failed to download with exception\n",
      "Cannot connect to host netdrms01.nispdc.nso.edu:80 ssl:default [Connect call failed ('146.5.21.120', 80)]\n",
      "2025-01-29 14:11:24 - parfive - INFO: http://netdrms01.nispdc.nso.edu/cgi-bin/netdrms/drms_export.cgi?series=aia__lev1;compress=rice;record=193_1136127643-1136127643 failed to download with exception\n",
      "Cannot connect to host netdrms01.nispdc.nso.edu:80 ssl:default [Connect call failed ('146.5.21.120', 80)]\n",
      "2025-01-29 14:11:24 - parfive - INFO: http://netdrms01.nispdc.nso.edu/cgi-bin/netdrms/drms_export.cgi?series=aia__lev1;compress=rice;record=193_1136131243-1136131243 failed to download with exception\n",
      "Cannot connect to host netdrms01.nispdc.nso.edu:80 ssl:default [Connect call failed ('146.5.21.120', 80)]\n",
      "2025-01-29 14:11:24 - parfive - INFO: http://netdrms01.nispdc.nso.edu/cgi-bin/netdrms/drms_export.cgi?series=aia__lev1;compress=rice;record=193_1136134843-1136134843 failed to download with exception\n",
      "Cannot connect to host netdrms01.nispdc.nso.edu:80 ssl:default [Connect call failed ('146.5.21.120', 80)]\n",
      "2025-01-29 14:11:24 - parfive - INFO: http://netdrms01.nispdc.nso.edu/cgi-bin/netdrms/drms_export.cgi?series=aia__lev1;compress=rice;record=193_1136138443-1136138443 failed to download with exception\n",
      "Cannot connect to host netdrms01.nispdc.nso.edu:80 ssl:default [Connect call failed ('146.5.21.120', 80)]\n",
      "2025-01-29 14:11:24 - parfive - INFO: http://netdrms01.nispdc.nso.edu/cgi-bin/netdrms/drms_export.cgi?series=aia__lev1;compress=rice;record=193_1136142043-1136142043 failed to download with exception\n",
      "Cannot connect to host netdrms01.nispdc.nso.edu:80 ssl:default [Connect call failed ('146.5.21.120', 80)]\n",
      "2025-01-29 14:11:24 - parfive - INFO: http://netdrms01.nispdc.nso.edu/cgi-bin/netdrms/drms_export.cgi?series=aia__lev1;compress=rice;record=193_1136145643-1136145643 failed to download with exception\n",
      "Cannot connect to host netdrms01.nispdc.nso.edu:80 ssl:default [Connect call failed ('146.5.21.120', 80)]\n",
      "2025-01-29 14:11:24 - parfive - INFO: http://netdrms01.nispdc.nso.edu/cgi-bin/netdrms/drms_export.cgi?series=aia__lev1;compress=rice;record=193_1136149239-1136149239 failed to download with exception\n",
      "Cannot connect to host netdrms01.nispdc.nso.edu:80 ssl:default [Connect call failed ('146.5.21.120', 80)]\n",
      "2025-01-29 14:11:24 - parfive - INFO: http://netdrms01.nispdc.nso.edu/cgi-bin/netdrms/drms_export.cgi?series=aia__lev1;compress=rice;record=193_1136152843-1136152843 failed to download with exception\n",
      "Cannot connect to host netdrms01.nispdc.nso.edu:80 ssl:default [Connect call failed ('146.5.21.120', 80)]\n",
      "2025-01-29 14:11:24 - parfive - INFO: http://netdrms01.nispdc.nso.edu/cgi-bin/netdrms/drms_export.cgi?series=aia__lev1;compress=rice;record=193_1136156443-1136156443 failed to download with exception\n",
      "Cannot connect to host netdrms01.nispdc.nso.edu:80 ssl:default [Connect call failed ('146.5.21.120', 80)]\n"
     ]
    },
    {
     "name": "stdout",
     "output_type": "stream",
     "text": [
      "24/0 files failed to download. Please check `.errors` for details\n"
     ]
    },
    {
     "data": {
      "application/vnd.jupyter.widget-view+json": {
       "model_id": "dd7de0a9a1f348a992d88c1a268bf97e",
       "version_major": 2,
       "version_minor": 0
      },
      "text/plain": [
       "Files Downloaded:   0%|          | 0/24 [00:00<?, ?file/s]"
      ]
     },
     "metadata": {},
     "output_type": "display_data"
    },
    {
     "name": "stderr",
     "output_type": "stream",
     "text": [
      "2025-01-29 14:13:12 - parfive - INFO: http://netdrms01.nispdc.nso.edu/cgi-bin/netdrms/drms_export.cgi?series=aia__lev1;compress=rice;record=193_1136073643-1136073643 failed to download with exception\n",
      "Cannot connect to host netdrms01.nispdc.nso.edu:80 ssl:default [Connect call failed ('146.5.21.120', 80)]\n",
      "2025-01-29 14:13:12 - parfive - INFO: http://netdrms01.nispdc.nso.edu/cgi-bin/netdrms/drms_export.cgi?series=aia__lev1;compress=rice;record=193_1136077243-1136077243 failed to download with exception\n",
      "Cannot connect to host netdrms01.nispdc.nso.edu:80 ssl:default [Connect call failed ('146.5.21.120', 80)]\n",
      "2025-01-29 14:13:12 - parfive - INFO: http://netdrms01.nispdc.nso.edu/cgi-bin/netdrms/drms_export.cgi?series=aia__lev1;compress=rice;record=193_1136080843-1136080843 failed to download with exception\n",
      "Cannot connect to host netdrms01.nispdc.nso.edu:80 ssl:default [Connect call failed ('146.5.21.120', 80)]\n",
      "2025-01-29 14:13:12 - parfive - INFO: http://netdrms01.nispdc.nso.edu/cgi-bin/netdrms/drms_export.cgi?series=aia__lev1;compress=rice;record=193_1136084443-1136084443 failed to download with exception\n",
      "Cannot connect to host netdrms01.nispdc.nso.edu:80 ssl:default [Connect call failed ('146.5.21.120', 80)]\n",
      "2025-01-29 14:13:12 - parfive - INFO: http://netdrms01.nispdc.nso.edu/cgi-bin/netdrms/drms_export.cgi?series=aia__lev1;compress=rice;record=193_1136088043-1136088043 failed to download with exception\n",
      "Cannot connect to host netdrms01.nispdc.nso.edu:80 ssl:default [Connect call failed ('146.5.21.120', 80)]\n",
      "2025-01-29 14:13:12 - parfive - INFO: http://netdrms01.nispdc.nso.edu/cgi-bin/netdrms/drms_export.cgi?series=aia__lev1;compress=rice;record=193_1136091643-1136091643 failed to download with exception\n",
      "Cannot connect to host netdrms01.nispdc.nso.edu:80 ssl:default [Connect call failed ('146.5.21.120', 80)]\n",
      "2025-01-29 14:13:12 - parfive - INFO: http://netdrms01.nispdc.nso.edu/cgi-bin/netdrms/drms_export.cgi?series=aia__lev1;compress=rice;record=193_1136095243-1136095243 failed to download with exception\n",
      "Cannot connect to host netdrms01.nispdc.nso.edu:80 ssl:default [Connect call failed ('146.5.21.120', 80)]\n",
      "2025-01-29 14:13:12 - parfive - INFO: http://netdrms01.nispdc.nso.edu/cgi-bin/netdrms/drms_export.cgi?series=aia__lev1;compress=rice;record=193_1136098843-1136098843 failed to download with exception\n",
      "Cannot connect to host netdrms01.nispdc.nso.edu:80 ssl:default [Connect call failed ('146.5.21.120', 80)]\n",
      "2025-01-29 14:13:12 - parfive - INFO: http://netdrms01.nispdc.nso.edu/cgi-bin/netdrms/drms_export.cgi?series=aia__lev1;compress=rice;record=193_1136102443-1136102443 failed to download with exception\n",
      "Cannot connect to host netdrms01.nispdc.nso.edu:80 ssl:default [Connect call failed ('146.5.21.120', 80)]\n",
      "2025-01-29 14:13:12 - parfive - INFO: http://netdrms01.nispdc.nso.edu/cgi-bin/netdrms/drms_export.cgi?series=aia__lev1;compress=rice;record=193_1136106043-1136106043 failed to download with exception\n",
      "Cannot connect to host netdrms01.nispdc.nso.edu:80 ssl:default [Connect call failed ('146.5.21.120', 80)]\n",
      "2025-01-29 14:13:12 - parfive - INFO: http://netdrms01.nispdc.nso.edu/cgi-bin/netdrms/drms_export.cgi?series=aia__lev1;compress=rice;record=193_1136109643-1136109643 failed to download with exception\n",
      "Cannot connect to host netdrms01.nispdc.nso.edu:80 ssl:default [Connect call failed ('146.5.21.120', 80)]\n",
      "2025-01-29 14:13:12 - parfive - INFO: http://netdrms01.nispdc.nso.edu/cgi-bin/netdrms/drms_export.cgi?series=aia__lev1;compress=rice;record=193_1136113243-1136113243 failed to download with exception\n",
      "Cannot connect to host netdrms01.nispdc.nso.edu:80 ssl:default [Connect call failed ('146.5.21.120', 80)]\n",
      "2025-01-29 14:13:12 - parfive - INFO: http://netdrms01.nispdc.nso.edu/cgi-bin/netdrms/drms_export.cgi?series=aia__lev1;compress=rice;record=193_1136116843-1136116843 failed to download with exception\n",
      "Cannot connect to host netdrms01.nispdc.nso.edu:80 ssl:default [Connect call failed ('146.5.21.120', 80)]\n",
      "2025-01-29 14:13:12 - parfive - INFO: http://netdrms01.nispdc.nso.edu/cgi-bin/netdrms/drms_export.cgi?series=aia__lev1;compress=rice;record=193_1136120443-1136120443 failed to download with exception\n",
      "Cannot connect to host netdrms01.nispdc.nso.edu:80 ssl:default [Connect call failed ('146.5.21.120', 80)]\n",
      "2025-01-29 14:13:12 - parfive - INFO: http://netdrms01.nispdc.nso.edu/cgi-bin/netdrms/drms_export.cgi?series=aia__lev1;compress=rice;record=193_1136124043-1136124043 failed to download with exception\n",
      "Cannot connect to host netdrms01.nispdc.nso.edu:80 ssl:default [Connect call failed ('146.5.21.120', 80)]\n",
      "2025-01-29 14:13:12 - parfive - INFO: http://netdrms01.nispdc.nso.edu/cgi-bin/netdrms/drms_export.cgi?series=aia__lev1;compress=rice;record=193_1136127643-1136127643 failed to download with exception\n",
      "Cannot connect to host netdrms01.nispdc.nso.edu:80 ssl:default [Connect call failed ('146.5.21.120', 80)]\n",
      "2025-01-29 14:13:12 - parfive - INFO: http://netdrms01.nispdc.nso.edu/cgi-bin/netdrms/drms_export.cgi?series=aia__lev1;compress=rice;record=193_1136131243-1136131243 failed to download with exception\n",
      "Cannot connect to host netdrms01.nispdc.nso.edu:80 ssl:default [Connect call failed ('146.5.21.120', 80)]\n",
      "2025-01-29 14:13:12 - parfive - INFO: http://netdrms01.nispdc.nso.edu/cgi-bin/netdrms/drms_export.cgi?series=aia__lev1;compress=rice;record=193_1136138443-1136138443 failed to download with exception\n",
      "Cannot connect to host netdrms01.nispdc.nso.edu:80 ssl:default [Connect call failed ('146.5.21.120', 80)]\n",
      "2025-01-29 14:13:12 - parfive - INFO: http://netdrms01.nispdc.nso.edu/cgi-bin/netdrms/drms_export.cgi?series=aia__lev1;compress=rice;record=193_1136142043-1136142043 failed to download with exception\n",
      "Cannot connect to host netdrms01.nispdc.nso.edu:80 ssl:default [Connect call failed ('146.5.21.120', 80)]\n",
      "2025-01-29 14:13:12 - parfive - INFO: http://netdrms01.nispdc.nso.edu/cgi-bin/netdrms/drms_export.cgi?series=aia__lev1;compress=rice;record=193_1136145643-1136145643 failed to download with exception\n",
      "Cannot connect to host netdrms01.nispdc.nso.edu:80 ssl:default [Connect call failed ('146.5.21.120', 80)]\n",
      "2025-01-29 14:13:12 - parfive - INFO: http://netdrms01.nispdc.nso.edu/cgi-bin/netdrms/drms_export.cgi?series=aia__lev1;compress=rice;record=193_1136149239-1136149239 failed to download with exception\n",
      "Cannot connect to host netdrms01.nispdc.nso.edu:80 ssl:default [Connect call failed ('146.5.21.120', 80)]\n",
      "2025-01-29 14:13:12 - parfive - INFO: http://netdrms01.nispdc.nso.edu/cgi-bin/netdrms/drms_export.cgi?series=aia__lev1;compress=rice;record=193_1136152843-1136152843 failed to download with exception\n",
      "Cannot connect to host netdrms01.nispdc.nso.edu:80 ssl:default [Connect call failed ('146.5.21.120', 80)]\n",
      "2025-01-29 14:13:12 - parfive - INFO: http://netdrms01.nispdc.nso.edu/cgi-bin/netdrms/drms_export.cgi?series=aia__lev1;compress=rice;record=193_1136156443-1136156443 failed to download with exception\n",
      "Cannot connect to host netdrms01.nispdc.nso.edu:80 ssl:default [Connect call failed ('146.5.21.120', 80)]\n"
     ]
    },
    {
     "name": "stdout",
     "output_type": "stream",
     "text": [
      "23/0 files failed to download. Please check `.errors` for details\n"
     ]
    },
    {
     "data": {
      "application/vnd.jupyter.widget-view+json": {
       "model_id": "b5cf17dc36bd43adb84239ed6841a223",
       "version_major": 2,
       "version_minor": 0
      },
      "text/plain": [
       "Files Downloaded:   0%|          | 0/24 [00:00<?, ?file/s]"
      ]
     },
     "metadata": {},
     "output_type": "display_data"
    },
    {
     "data": {
      "application/vnd.jupyter.widget-view+json": {
       "model_id": "e8d676e90804441bac9d2477cea349c1",
       "version_major": 2,
       "version_minor": 0
      },
      "text/plain": [
       "aia.lev1.193A_2013_01_01T05_00_06.84Z.image_lev1.fits:   0%|          | 0.00/12.6M [00:00<?, ?B/s]"
      ]
     },
     "metadata": {},
     "output_type": "display_data"
    },
    {
     "data": {
      "application/vnd.jupyter.widget-view+json": {
       "model_id": "3c35f8664da64259b9ef80aad884b6e9",
       "version_major": 2,
       "version_minor": 0
      },
      "text/plain": [
       "aia.lev1.193A_2013_01_01T14_00_06.84Z.image_lev1.fits:   0%|          | 0.00/12.6M [00:00<?, ?B/s]"
      ]
     },
     "metadata": {},
     "output_type": "display_data"
    },
    {
     "name": "stderr",
     "output_type": "stream",
     "text": [
      "2025-01-29 14:44:54 - parfive - INFO: http://netdrms01.nispdc.nso.edu/cgi-bin/netdrms/drms_export.cgi?series=aia__lev1;compress=rice;record=193_1136073643-1136073643 failed to download with exception\n",
      "Cannot connect to host netdrms01.nispdc.nso.edu:80 ssl:default [Connect call failed ('146.5.21.120', 80)]\n",
      "2025-01-29 14:44:54 - parfive - INFO: http://netdrms01.nispdc.nso.edu/cgi-bin/netdrms/drms_export.cgi?series=aia__lev1;compress=rice;record=193_1136077243-1136077243 failed to download with exception\n",
      "Cannot connect to host netdrms01.nispdc.nso.edu:80 ssl:default [Connect call failed ('146.5.21.120', 80)]\n",
      "2025-01-29 14:44:54 - parfive - INFO: http://netdrms01.nispdc.nso.edu/cgi-bin/netdrms/drms_export.cgi?series=aia__lev1;compress=rice;record=193_1136080843-1136080843 failed to download with exception\n",
      "Cannot connect to host netdrms01.nispdc.nso.edu:80 ssl:default [Connect call failed ('146.5.21.120', 80)]\n",
      "2025-01-29 14:44:54 - parfive - INFO: http://netdrms01.nispdc.nso.edu/cgi-bin/netdrms/drms_export.cgi?series=aia__lev1;compress=rice;record=193_1136088043-1136088043 failed to download with exception\n",
      "Cannot connect to host netdrms01.nispdc.nso.edu:80 ssl:default [Connect call failed ('146.5.21.120', 80)]\n",
      "2025-01-29 14:44:54 - parfive - INFO: http://netdrms01.nispdc.nso.edu/cgi-bin/netdrms/drms_export.cgi?series=aia__lev1;compress=rice;record=193_1136095243-1136095243 failed to download with exception\n",
      "Cannot connect to host netdrms01.nispdc.nso.edu:80 ssl:default [Connect call failed ('146.5.21.120', 80)]\n",
      "2025-01-29 14:44:54 - parfive - INFO: http://netdrms01.nispdc.nso.edu/cgi-bin/netdrms/drms_export.cgi?series=aia__lev1;compress=rice;record=193_1136098843-1136098843 failed to download with exception\n",
      "Cannot connect to host netdrms01.nispdc.nso.edu:80 ssl:default [Connect call failed ('146.5.21.120', 80)]\n",
      "2025-01-29 14:44:54 - parfive - INFO: http://netdrms01.nispdc.nso.edu/cgi-bin/netdrms/drms_export.cgi?series=aia__lev1;compress=rice;record=193_1136102443-1136102443 failed to download with exception\n",
      "Cannot connect to host netdrms01.nispdc.nso.edu:80 ssl:default [Connect call failed ('146.5.21.120', 80)]\n",
      "2025-01-29 14:44:54 - parfive - INFO: http://netdrms01.nispdc.nso.edu/cgi-bin/netdrms/drms_export.cgi?series=aia__lev1;compress=rice;record=193_1136106043-1136106043 failed to download with exception\n",
      "Cannot connect to host netdrms01.nispdc.nso.edu:80 ssl:default [Connect call failed ('146.5.21.120', 80)]\n",
      "2025-01-29 14:44:54 - parfive - INFO: http://netdrms01.nispdc.nso.edu/cgi-bin/netdrms/drms_export.cgi?series=aia__lev1;compress=rice;record=193_1136113243-1136113243 failed to download with exception\n",
      "Cannot connect to host netdrms01.nispdc.nso.edu:80 ssl:default [Connect call failed ('146.5.21.120', 80)]\n",
      "2025-01-29 14:44:54 - parfive - INFO: http://netdrms01.nispdc.nso.edu/cgi-bin/netdrms/drms_export.cgi?series=aia__lev1;compress=rice;record=193_1136116843-1136116843 failed to download with exception\n",
      "Cannot connect to host netdrms01.nispdc.nso.edu:80 ssl:default [Connect call failed ('146.5.21.120', 80)]\n",
      "2025-01-29 14:44:54 - parfive - INFO: http://netdrms01.nispdc.nso.edu/cgi-bin/netdrms/drms_export.cgi?series=aia__lev1;compress=rice;record=193_1136124043-1136124043 failed to download with exception\n",
      "Timeout on reading data from socket\n",
      "2025-01-29 14:44:54 - parfive - INFO: http://netdrms01.nispdc.nso.edu/cgi-bin/netdrms/drms_export.cgi?series=aia__lev1;compress=rice;record=193_1136134843-1136134843 failed to download with exception\n",
      "Cannot connect to host netdrms01.nispdc.nso.edu:80 ssl:default [Connect call failed ('146.5.21.120', 80)]\n",
      "2025-01-29 14:44:54 - parfive - INFO: http://netdrms01.nispdc.nso.edu/cgi-bin/netdrms/drms_export.cgi?series=aia__lev1;compress=rice;record=193_1136138443-1136138443 failed to download with exception\n",
      "Cannot connect to host netdrms01.nispdc.nso.edu:80 ssl:default [Connect call failed ('146.5.21.120', 80)]\n",
      "2025-01-29 14:44:54 - parfive - INFO: http://netdrms01.nispdc.nso.edu/cgi-bin/netdrms/drms_export.cgi?series=aia__lev1;compress=rice;record=193_1136149239-1136149239 failed to download with exception\n",
      "Cannot connect to host netdrms01.nispdc.nso.edu:80 ssl:default [Connect call failed ('146.5.21.120', 80)]\n",
      "2025-01-29 14:44:54 - parfive - INFO: http://netdrms01.nispdc.nso.edu/cgi-bin/netdrms/drms_export.cgi?series=aia__lev1;compress=rice;record=193_1136152843-1136152843 failed to download with exception\n",
      "Cannot connect to host netdrms01.nispdc.nso.edu:80 ssl:default [Connect call failed ('146.5.21.120', 80)]\n",
      "2025-01-29 14:44:54 - parfive - INFO: http://netdrms01.nispdc.nso.edu/cgi-bin/netdrms/drms_export.cgi?series=aia__lev1;compress=rice;record=193_1136156443-1136156443 failed to download with exception\n",
      "Cannot connect to host netdrms01.nispdc.nso.edu:80 ssl:default [Connect call failed ('146.5.21.120', 80)]\n"
     ]
    },
    {
     "name": "stdout",
     "output_type": "stream",
     "text": [
      "16/0 files failed to download. Please check `.errors` for details\n"
     ]
    },
    {
     "data": {
      "application/vnd.jupyter.widget-view+json": {
       "model_id": "3b9af6e515cc4500bfaa42a1a73beaa7",
       "version_major": 2,
       "version_minor": 0
      },
      "text/plain": [
       "Files Downloaded:   0%|          | 0/24 [00:00<?, ?file/s]"
      ]
     },
     "metadata": {},
     "output_type": "display_data"
    },
    {
     "name": "stderr",
     "output_type": "stream",
     "text": [
      "2025-01-29 14:46:47 - parfive - INFO: http://netdrms01.nispdc.nso.edu/cgi-bin/netdrms/drms_export.cgi?series=aia__lev1;compress=rice;record=193_1136073643-1136073643 failed to download with exception\n",
      "Cannot connect to host netdrms01.nispdc.nso.edu:80 ssl:default [Connect call failed ('146.5.21.120', 80)]\n",
      "2025-01-29 14:46:47 - parfive - INFO: http://netdrms01.nispdc.nso.edu/cgi-bin/netdrms/drms_export.cgi?series=aia__lev1;compress=rice;record=193_1136077243-1136077243 failed to download with exception\n",
      "Cannot connect to host netdrms01.nispdc.nso.edu:80 ssl:default [Connect call failed ('146.5.21.120', 80)]\n",
      "2025-01-29 14:46:47 - parfive - INFO: http://netdrms01.nispdc.nso.edu/cgi-bin/netdrms/drms_export.cgi?series=aia__lev1;compress=rice;record=193_1136080843-1136080843 failed to download with exception\n",
      "Cannot connect to host netdrms01.nispdc.nso.edu:80 ssl:default [Connect call failed ('146.5.21.120', 80)]\n",
      "2025-01-29 14:46:47 - parfive - INFO: http://netdrms01.nispdc.nso.edu/cgi-bin/netdrms/drms_export.cgi?series=aia__lev1;compress=rice;record=193_1136084443-1136084443 failed to download with exception\n",
      "Cannot connect to host netdrms01.nispdc.nso.edu:80 ssl:default [Connect call failed ('146.5.21.120', 80)]\n",
      "2025-01-29 14:46:47 - parfive - INFO: http://netdrms01.nispdc.nso.edu/cgi-bin/netdrms/drms_export.cgi?series=aia__lev1;compress=rice;record=193_1136088043-1136088043 failed to download with exception\n",
      "Cannot connect to host netdrms01.nispdc.nso.edu:80 ssl:default [Connect call failed ('146.5.21.120', 80)]\n",
      "2025-01-29 14:46:47 - parfive - INFO: http://netdrms01.nispdc.nso.edu/cgi-bin/netdrms/drms_export.cgi?series=aia__lev1;compress=rice;record=193_1136091643-1136091643 failed to download with exception\n",
      "Cannot connect to host netdrms01.nispdc.nso.edu:80 ssl:default [Connect call failed ('146.5.21.120', 80)]\n",
      "2025-01-29 14:46:47 - parfive - INFO: http://netdrms01.nispdc.nso.edu/cgi-bin/netdrms/drms_export.cgi?series=aia__lev1;compress=rice;record=193_1136095243-1136095243 failed to download with exception\n",
      "Cannot connect to host netdrms01.nispdc.nso.edu:80 ssl:default [Connect call failed ('146.5.21.120', 80)]\n",
      "2025-01-29 14:46:47 - parfive - INFO: http://netdrms01.nispdc.nso.edu/cgi-bin/netdrms/drms_export.cgi?series=aia__lev1;compress=rice;record=193_1136098843-1136098843 failed to download with exception\n",
      "Cannot connect to host netdrms01.nispdc.nso.edu:80 ssl:default [Connect call failed ('146.5.21.120', 80)]\n",
      "2025-01-29 14:46:47 - parfive - INFO: http://netdrms01.nispdc.nso.edu/cgi-bin/netdrms/drms_export.cgi?series=aia__lev1;compress=rice;record=193_1136102443-1136102443 failed to download with exception\n",
      "Cannot connect to host netdrms01.nispdc.nso.edu:80 ssl:default [Connect call failed ('146.5.21.120', 80)]\n",
      "2025-01-29 14:46:47 - parfive - INFO: http://netdrms01.nispdc.nso.edu/cgi-bin/netdrms/drms_export.cgi?series=aia__lev1;compress=rice;record=193_1136106043-1136106043 failed to download with exception\n",
      "Cannot connect to host netdrms01.nispdc.nso.edu:80 ssl:default [Connect call failed ('146.5.21.120', 80)]\n",
      "2025-01-29 14:46:47 - parfive - INFO: http://netdrms01.nispdc.nso.edu/cgi-bin/netdrms/drms_export.cgi?series=aia__lev1;compress=rice;record=193_1136109643-1136109643 failed to download with exception\n",
      "Cannot connect to host netdrms01.nispdc.nso.edu:80 ssl:default [Connect call failed ('146.5.21.120', 80)]\n",
      "2025-01-29 14:46:47 - parfive - INFO: http://netdrms01.nispdc.nso.edu/cgi-bin/netdrms/drms_export.cgi?series=aia__lev1;compress=rice;record=193_1136113243-1136113243 failed to download with exception\n",
      "Cannot connect to host netdrms01.nispdc.nso.edu:80 ssl:default [Connect call failed ('146.5.21.120', 80)]\n",
      "2025-01-29 14:46:47 - parfive - INFO: http://netdrms01.nispdc.nso.edu/cgi-bin/netdrms/drms_export.cgi?series=aia__lev1;compress=rice;record=193_1136116843-1136116843 failed to download with exception\n",
      "Cannot connect to host netdrms01.nispdc.nso.edu:80 ssl:default [Connect call failed ('146.5.21.120', 80)]\n",
      "2025-01-29 14:46:47 - parfive - INFO: http://netdrms01.nispdc.nso.edu/cgi-bin/netdrms/drms_export.cgi?series=aia__lev1;compress=rice;record=193_1136120443-1136120443 failed to download with exception\n",
      "Cannot connect to host netdrms01.nispdc.nso.edu:80 ssl:default [Connect call failed ('146.5.21.120', 80)]\n",
      "2025-01-29 14:46:47 - parfive - INFO: http://netdrms01.nispdc.nso.edu/cgi-bin/netdrms/drms_export.cgi?series=aia__lev1;compress=rice;record=193_1136124043-1136124043 failed to download with exception\n",
      "Cannot connect to host netdrms01.nispdc.nso.edu:80 ssl:default [Connect call failed ('146.5.21.120', 80)]\n",
      "2025-01-29 14:46:47 - parfive - INFO: http://netdrms01.nispdc.nso.edu/cgi-bin/netdrms/drms_export.cgi?series=aia__lev1;compress=rice;record=193_1136127643-1136127643 failed to download with exception\n",
      "Cannot connect to host netdrms01.nispdc.nso.edu:80 ssl:default [Connect call failed ('146.5.21.120', 80)]\n",
      "2025-01-29 14:46:47 - parfive - INFO: http://netdrms01.nispdc.nso.edu/cgi-bin/netdrms/drms_export.cgi?series=aia__lev1;compress=rice;record=193_1136131243-1136131243 failed to download with exception\n",
      "Cannot connect to host netdrms01.nispdc.nso.edu:80 ssl:default [Connect call failed ('146.5.21.120', 80)]\n",
      "2025-01-29 14:46:47 - parfive - INFO: http://netdrms01.nispdc.nso.edu/cgi-bin/netdrms/drms_export.cgi?series=aia__lev1;compress=rice;record=193_1136134843-1136134843 failed to download with exception\n",
      "Cannot connect to host netdrms01.nispdc.nso.edu:80 ssl:default [Connect call failed ('146.5.21.120', 80)]\n",
      "2025-01-29 14:46:47 - parfive - INFO: http://netdrms01.nispdc.nso.edu/cgi-bin/netdrms/drms_export.cgi?series=aia__lev1;compress=rice;record=193_1136138443-1136138443 failed to download with exception\n",
      "Cannot connect to host netdrms01.nispdc.nso.edu:80 ssl:default [Connect call failed ('146.5.21.120', 80)]\n",
      "2025-01-29 14:46:47 - parfive - INFO: http://netdrms01.nispdc.nso.edu/cgi-bin/netdrms/drms_export.cgi?series=aia__lev1;compress=rice;record=193_1136142043-1136142043 failed to download with exception\n",
      "Cannot connect to host netdrms01.nispdc.nso.edu:80 ssl:default [Connect call failed ('146.5.21.120', 80)]\n",
      "2025-01-29 14:46:47 - parfive - INFO: http://netdrms01.nispdc.nso.edu/cgi-bin/netdrms/drms_export.cgi?series=aia__lev1;compress=rice;record=193_1136149239-1136149239 failed to download with exception\n",
      "Cannot connect to host netdrms01.nispdc.nso.edu:80 ssl:default [Connect call failed ('146.5.21.120', 80)]\n",
      "2025-01-29 14:46:47 - parfive - INFO: http://netdrms01.nispdc.nso.edu/cgi-bin/netdrms/drms_export.cgi?series=aia__lev1;compress=rice;record=193_1136152843-1136152843 failed to download with exception\n",
      "Cannot connect to host netdrms01.nispdc.nso.edu:80 ssl:default [Connect call failed ('146.5.21.120', 80)]\n",
      "2025-01-29 14:46:47 - parfive - INFO: http://netdrms01.nispdc.nso.edu/cgi-bin/netdrms/drms_export.cgi?series=aia__lev1;compress=rice;record=193_1136156443-1136156443 failed to download with exception\n",
      "Cannot connect to host netdrms01.nispdc.nso.edu:80 ssl:default [Connect call failed ('146.5.21.120', 80)]\n"
     ]
    },
    {
     "name": "stdout",
     "output_type": "stream",
     "text": [
      "23/0 files failed to download. Please check `.errors` for details\n"
     ]
    },
    {
     "data": {
      "application/vnd.jupyter.widget-view+json": {
       "model_id": "434ec1f865ca46daafdb6e8d080bc592",
       "version_major": 2,
       "version_minor": 0
      },
      "text/plain": [
       "Files Downloaded:   0%|          | 0/24 [00:00<?, ?file/s]"
      ]
     },
     "metadata": {},
     "output_type": "display_data"
    },
    {
     "data": {
      "application/vnd.jupyter.widget-view+json": {
       "model_id": "f2cc630d09534dd5874a5e70ef314f48",
       "version_major": 2,
       "version_minor": 0
      },
      "text/plain": [
       "aia.lev1.193A_2013_01_01T12_00_06.84Z.image_lev1.fits:   0%|          | 0.00/12.6M [00:00<?, ?B/s]"
      ]
     },
     "metadata": {},
     "output_type": "display_data"
    },
    {
     "data": {
      "application/vnd.jupyter.widget-view+json": {
       "model_id": "e9fd433aeb864ceea99229ff5f483d4e",
       "version_major": 2,
       "version_minor": 0
      },
      "text/plain": [
       "aia.lev1.193A_2013_01_01T22_00_06.84Z.image_lev1.fits:   0%|          | 0.00/12.7M [00:00<?, ?B/s]"
      ]
     },
     "metadata": {},
     "output_type": "display_data"
    },
    {
     "name": "stderr",
     "output_type": "stream",
     "text": [
      "2025-01-29 14:53:11 - parfive - INFO: http://netdrms01.nispdc.nso.edu/cgi-bin/netdrms/drms_export.cgi?series=aia__lev1;compress=rice;record=193_1136073643-1136073643 failed to download with exception\n",
      "Cannot connect to host netdrms01.nispdc.nso.edu:80 ssl:default [Connect call failed ('146.5.21.120', 80)]\n",
      "2025-01-29 14:53:11 - parfive - INFO: http://netdrms01.nispdc.nso.edu/cgi-bin/netdrms/drms_export.cgi?series=aia__lev1;compress=rice;record=193_1136077243-1136077243 failed to download with exception\n",
      "Cannot connect to host netdrms01.nispdc.nso.edu:80 ssl:default [Connect call failed ('146.5.21.120', 80)]\n",
      "2025-01-29 14:53:11 - parfive - INFO: http://netdrms01.nispdc.nso.edu/cgi-bin/netdrms/drms_export.cgi?series=aia__lev1;compress=rice;record=193_1136084443-1136084443 failed to download with exception\n",
      "Cannot connect to host netdrms01.nispdc.nso.edu:80 ssl:default [Connect call failed ('146.5.21.120', 80)]\n",
      "2025-01-29 14:53:11 - parfive - INFO: http://netdrms01.nispdc.nso.edu/cgi-bin/netdrms/drms_export.cgi?series=aia__lev1;compress=rice;record=193_1136088043-1136088043 failed to download with exception\n",
      "Cannot connect to host netdrms01.nispdc.nso.edu:80 ssl:default [Connect call failed ('146.5.21.120', 80)]\n",
      "2025-01-29 14:53:11 - parfive - INFO: http://netdrms01.nispdc.nso.edu/cgi-bin/netdrms/drms_export.cgi?series=aia__lev1;compress=rice;record=193_1136091643-1136091643 failed to download with exception\n",
      "Cannot connect to host netdrms01.nispdc.nso.edu:80 ssl:default [Connect call failed ('146.5.21.120', 80)]\n",
      "2025-01-29 14:53:11 - parfive - INFO: http://netdrms01.nispdc.nso.edu/cgi-bin/netdrms/drms_export.cgi?series=aia__lev1;compress=rice;record=193_1136095243-1136095243 failed to download with exception\n",
      "Cannot connect to host netdrms01.nispdc.nso.edu:80 ssl:default [Connect call failed ('146.5.21.120', 80)]\n",
      "2025-01-29 14:53:11 - parfive - INFO: http://netdrms01.nispdc.nso.edu/cgi-bin/netdrms/drms_export.cgi?series=aia__lev1;compress=rice;record=193_1136098843-1136098843 failed to download with exception\n",
      "Cannot connect to host netdrms01.nispdc.nso.edu:80 ssl:default [Connect call failed ('146.5.21.120', 80)]\n",
      "2025-01-29 14:53:11 - parfive - INFO: http://netdrms01.nispdc.nso.edu/cgi-bin/netdrms/drms_export.cgi?series=aia__lev1;compress=rice;record=193_1136102443-1136102443 failed to download with exception\n",
      "Cannot connect to host netdrms01.nispdc.nso.edu:80 ssl:default [Connect call failed ('146.5.21.120', 80)]\n",
      "2025-01-29 14:53:11 - parfive - INFO: http://netdrms01.nispdc.nso.edu/cgi-bin/netdrms/drms_export.cgi?series=aia__lev1;compress=rice;record=193_1136106043-1136106043 failed to download with exception\n",
      "Cannot connect to host netdrms01.nispdc.nso.edu:80 ssl:default [Connect call failed ('146.5.21.120', 80)]\n",
      "2025-01-29 14:53:11 - parfive - INFO: http://netdrms01.nispdc.nso.edu/cgi-bin/netdrms/drms_export.cgi?series=aia__lev1;compress=rice;record=193_1136109643-1136109643 failed to download with exception\n",
      "Cannot connect to host netdrms01.nispdc.nso.edu:80 ssl:default [Connect call failed ('146.5.21.120', 80)]\n",
      "2025-01-29 14:53:11 - parfive - INFO: http://netdrms01.nispdc.nso.edu/cgi-bin/netdrms/drms_export.cgi?series=aia__lev1;compress=rice;record=193_1136113243-1136113243 failed to download with exception\n",
      "Cannot connect to host netdrms01.nispdc.nso.edu:80 ssl:default [Connect call failed ('146.5.21.120', 80)]\n",
      "2025-01-29 14:53:11 - parfive - INFO: http://netdrms01.nispdc.nso.edu/cgi-bin/netdrms/drms_export.cgi?series=aia__lev1;compress=rice;record=193_1136120443-1136120443 failed to download with exception\n",
      "Cannot connect to host netdrms01.nispdc.nso.edu:80 ssl:default [Connect call failed ('146.5.21.120', 80)]\n",
      "2025-01-29 14:53:11 - parfive - INFO: http://netdrms01.nispdc.nso.edu/cgi-bin/netdrms/drms_export.cgi?series=aia__lev1;compress=rice;record=193_1136124043-1136124043 failed to download with exception\n",
      "Cannot connect to host netdrms01.nispdc.nso.edu:80 ssl:default [Connect call failed ('146.5.21.120', 80)]\n",
      "2025-01-29 14:53:11 - parfive - INFO: http://netdrms01.nispdc.nso.edu/cgi-bin/netdrms/drms_export.cgi?series=aia__lev1;compress=rice;record=193_1136138443-1136138443 failed to download with exception\n",
      "Cannot connect to host netdrms01.nispdc.nso.edu:80 ssl:default [Connect call failed ('146.5.21.120', 80)]\n",
      "2025-01-29 14:53:11 - parfive - INFO: http://netdrms01.nispdc.nso.edu/cgi-bin/netdrms/drms_export.cgi?series=aia__lev1;compress=rice;record=193_1136142043-1136142043 failed to download with exception\n",
      "Cannot connect to host netdrms01.nispdc.nso.edu:80 ssl:default [Connect call failed ('146.5.21.120', 80)]\n",
      "2025-01-29 14:53:11 - parfive - INFO: http://netdrms01.nispdc.nso.edu/cgi-bin/netdrms/drms_export.cgi?series=aia__lev1;compress=rice;record=193_1136145643-1136145643 failed to download with exception\n",
      "Cannot connect to host netdrms01.nispdc.nso.edu:80 ssl:default [Connect call failed ('146.5.21.120', 80)]\n",
      "2025-01-29 14:53:11 - parfive - INFO: http://netdrms01.nispdc.nso.edu/cgi-bin/netdrms/drms_export.cgi?series=aia__lev1;compress=rice;record=193_1136149239-1136149239 failed to download with exception\n",
      "Cannot connect to host netdrms01.nispdc.nso.edu:80 ssl:default [Connect call failed ('146.5.21.120', 80)]\n",
      "2025-01-29 14:53:11 - parfive - INFO: http://netdrms01.nispdc.nso.edu/cgi-bin/netdrms/drms_export.cgi?series=aia__lev1;compress=rice;record=193_1136152843-1136152843 failed to download with exception\n",
      "Timeout on reading data from socket\n"
     ]
    },
    {
     "name": "stdout",
     "output_type": "stream",
     "text": [
      "18/0 files failed to download. Please check `.errors` for details\n"
     ]
    },
    {
     "data": {
      "application/vnd.jupyter.widget-view+json": {
       "model_id": "4bd614870abe4b25bdac3b1486a4d38b",
       "version_major": 2,
       "version_minor": 0
      },
      "text/plain": [
       "Files Downloaded:   0%|          | 0/24 [00:00<?, ?file/s]"
      ]
     },
     "metadata": {},
     "output_type": "display_data"
    },
    {
     "data": {
      "application/vnd.jupyter.widget-view+json": {
       "model_id": "97041bcdd62d41eb80d09002376696a5",
       "version_major": 2,
       "version_minor": 0
      },
      "text/plain": [
       "aia.lev1.193A_2013_01_01T21_00_04.00Z.image_lev1.fits:   0%|          | 0.00/6.97M [00:00<?, ?B/s]"
      ]
     },
     "metadata": {},
     "output_type": "display_data"
    },
    {
     "data": {
      "application/vnd.jupyter.widget-view+json": {
       "model_id": "34a869c989d44716b38edbcb18584e21",
       "version_major": 2,
       "version_minor": 0
      },
      "text/plain": [
       "aia.lev1.193A_2013_01_01T22_00_06.84Z.image_lev1.fits:   0%|          | 0.00/12.7M [00:00<?, ?B/s]"
      ]
     },
     "metadata": {},
     "output_type": "display_data"
    },
    {
     "name": "stderr",
     "output_type": "stream",
     "text": [
      "2025-01-29 14:54:58 - parfive - INFO: http://netdrms01.nispdc.nso.edu/cgi-bin/netdrms/drms_export.cgi?series=aia__lev1;compress=rice;record=193_1136073643-1136073643 failed to download with exception\n",
      "Cannot connect to host netdrms01.nispdc.nso.edu:80 ssl:default [Connect call failed ('146.5.21.120', 80)]\n",
      "2025-01-29 14:54:58 - parfive - INFO: http://netdrms01.nispdc.nso.edu/cgi-bin/netdrms/drms_export.cgi?series=aia__lev1;compress=rice;record=193_1136077243-1136077243 failed to download with exception\n",
      "Cannot connect to host netdrms01.nispdc.nso.edu:80 ssl:default [Connect call failed ('146.5.21.120', 80)]\n",
      "2025-01-29 14:54:58 - parfive - INFO: http://netdrms01.nispdc.nso.edu/cgi-bin/netdrms/drms_export.cgi?series=aia__lev1;compress=rice;record=193_1136084443-1136084443 failed to download with exception\n",
      "Cannot connect to host netdrms01.nispdc.nso.edu:80 ssl:default [Connect call failed ('146.5.21.120', 80)]\n",
      "2025-01-29 14:54:58 - parfive - INFO: http://netdrms01.nispdc.nso.edu/cgi-bin/netdrms/drms_export.cgi?series=aia__lev1;compress=rice;record=193_1136091643-1136091643 failed to download with exception\n",
      "Cannot connect to host netdrms01.nispdc.nso.edu:80 ssl:default [Connect call failed ('146.5.21.120', 80)]\n",
      "2025-01-29 14:54:58 - parfive - INFO: http://netdrms01.nispdc.nso.edu/cgi-bin/netdrms/drms_export.cgi?series=aia__lev1;compress=rice;record=193_1136098843-1136098843 failed to download with exception\n",
      "Cannot connect to host netdrms01.nispdc.nso.edu:80 ssl:default [Connect call failed ('146.5.21.120', 80)]\n",
      "2025-01-29 14:54:58 - parfive - INFO: http://netdrms01.nispdc.nso.edu/cgi-bin/netdrms/drms_export.cgi?series=aia__lev1;compress=rice;record=193_1136102443-1136102443 failed to download with exception\n",
      "Cannot connect to host netdrms01.nispdc.nso.edu:80 ssl:default [Connect call failed ('146.5.21.120', 80)]\n",
      "2025-01-29 14:54:58 - parfive - INFO: http://netdrms01.nispdc.nso.edu/cgi-bin/netdrms/drms_export.cgi?series=aia__lev1;compress=rice;record=193_1136106043-1136106043 failed to download with exception\n",
      "Cannot connect to host netdrms01.nispdc.nso.edu:80 ssl:default [Connect call failed ('146.5.21.120', 80)]\n",
      "2025-01-29 14:54:58 - parfive - INFO: http://netdrms01.nispdc.nso.edu/cgi-bin/netdrms/drms_export.cgi?series=aia__lev1;compress=rice;record=193_1136116843-1136116843 failed to download with exception\n",
      "Cannot connect to host netdrms01.nispdc.nso.edu:80 ssl:default [Connect call failed ('146.5.21.120', 80)]\n",
      "2025-01-29 14:54:58 - parfive - INFO: http://netdrms01.nispdc.nso.edu/cgi-bin/netdrms/drms_export.cgi?series=aia__lev1;compress=rice;record=193_1136124043-1136124043 failed to download with exception\n",
      "Cannot connect to host netdrms01.nispdc.nso.edu:80 ssl:default [Connect call failed ('146.5.21.120', 80)]\n",
      "2025-01-29 14:54:58 - parfive - INFO: http://netdrms01.nispdc.nso.edu/cgi-bin/netdrms/drms_export.cgi?series=aia__lev1;compress=rice;record=193_1136127643-1136127643 failed to download with exception\n",
      "Cannot connect to host netdrms01.nispdc.nso.edu:80 ssl:default [Connect call failed ('146.5.21.120', 80)]\n",
      "2025-01-29 14:54:58 - parfive - INFO: http://netdrms01.nispdc.nso.edu/cgi-bin/netdrms/drms_export.cgi?series=aia__lev1;compress=rice;record=193_1136138443-1136138443 failed to download with exception\n",
      "Cannot connect to host netdrms01.nispdc.nso.edu:80 ssl:default [Connect call failed ('146.5.21.120', 80)]\n",
      "2025-01-29 14:54:58 - parfive - INFO: http://netdrms01.nispdc.nso.edu/cgi-bin/netdrms/drms_export.cgi?series=aia__lev1;compress=rice;record=193_1136156443-1136156443 failed to download with exception\n",
      "Cannot connect to host netdrms01.nispdc.nso.edu:80 ssl:default [Connect call failed ('146.5.21.120', 80)]\n"
     ]
    },
    {
     "name": "stdout",
     "output_type": "stream",
     "text": [
      "12/0 files failed to download. Please check `.errors` for details\n"
     ]
    },
    {
     "data": {
      "application/vnd.jupyter.widget-view+json": {
       "model_id": "97b438d12ac84d5f8e76894049dd1b4f",
       "version_major": 2,
       "version_minor": 0
      },
      "text/plain": [
       "Files Downloaded:   0%|          | 0/24 [00:00<?, ?file/s]"
      ]
     },
     "metadata": {},
     "output_type": "display_data"
    },
    {
     "name": "stderr",
     "output_type": "stream",
     "text": [
      "2025-01-29 14:56:24 - parfive - INFO: http://netdrms01.nispdc.nso.edu/cgi-bin/netdrms/drms_export.cgi?series=aia__lev1;compress=rice;record=193_1136073643-1136073643 failed to download with exception\n",
      "Cannot connect to host netdrms01.nispdc.nso.edu:80 ssl:default [Connect call failed ('146.5.21.120', 80)]\n",
      "2025-01-29 14:56:24 - parfive - INFO: http://netdrms01.nispdc.nso.edu/cgi-bin/netdrms/drms_export.cgi?series=aia__lev1;compress=rice;record=193_1136077243-1136077243 failed to download with exception\n",
      "Cannot connect to host netdrms01.nispdc.nso.edu:80 ssl:default [Connect call failed ('146.5.21.120', 80)]\n",
      "2025-01-29 14:56:24 - parfive - INFO: http://netdrms01.nispdc.nso.edu/cgi-bin/netdrms/drms_export.cgi?series=aia__lev1;compress=rice;record=193_1136080843-1136080843 failed to download with exception\n",
      "Cannot connect to host netdrms01.nispdc.nso.edu:80 ssl:default [Connect call failed ('146.5.21.120', 80)]\n",
      "2025-01-29 14:56:24 - parfive - INFO: http://netdrms01.nispdc.nso.edu/cgi-bin/netdrms/drms_export.cgi?series=aia__lev1;compress=rice;record=193_1136088043-1136088043 failed to download with exception\n",
      "Cannot connect to host netdrms01.nispdc.nso.edu:80 ssl:default [Connect call failed ('146.5.21.120', 80)]\n",
      "2025-01-29 14:56:24 - parfive - INFO: http://netdrms01.nispdc.nso.edu/cgi-bin/netdrms/drms_export.cgi?series=aia__lev1;compress=rice;record=193_1136098843-1136098843 failed to download with exception\n",
      "Cannot connect to host netdrms01.nispdc.nso.edu:80 ssl:default [Connect call failed ('146.5.21.120', 80)]\n",
      "2025-01-29 14:56:24 - parfive - INFO: http://netdrms01.nispdc.nso.edu/cgi-bin/netdrms/drms_export.cgi?series=aia__lev1;compress=rice;record=193_1136102443-1136102443 failed to download with exception\n",
      "Cannot connect to host netdrms01.nispdc.nso.edu:80 ssl:default [Connect call failed ('146.5.21.120', 80)]\n",
      "2025-01-29 14:56:24 - parfive - INFO: http://netdrms01.nispdc.nso.edu/cgi-bin/netdrms/drms_export.cgi?series=aia__lev1;compress=rice;record=193_1136106043-1136106043 failed to download with exception\n",
      "Cannot connect to host netdrms01.nispdc.nso.edu:80 ssl:default [Connect call failed ('146.5.21.120', 80)]\n",
      "2025-01-29 14:56:24 - parfive - INFO: http://netdrms01.nispdc.nso.edu/cgi-bin/netdrms/drms_export.cgi?series=aia__lev1;compress=rice;record=193_1136109643-1136109643 failed to download with exception\n",
      "Cannot connect to host netdrms01.nispdc.nso.edu:80 ssl:default [Connect call failed ('146.5.21.120', 80)]\n",
      "2025-01-29 14:56:24 - parfive - INFO: http://netdrms01.nispdc.nso.edu/cgi-bin/netdrms/drms_export.cgi?series=aia__lev1;compress=rice;record=193_1136113243-1136113243 failed to download with exception\n",
      "Cannot connect to host netdrms01.nispdc.nso.edu:80 ssl:default [Connect call failed ('146.5.21.120', 80)]\n",
      "2025-01-29 14:56:24 - parfive - INFO: http://netdrms01.nispdc.nso.edu/cgi-bin/netdrms/drms_export.cgi?series=aia__lev1;compress=rice;record=193_1136116843-1136116843 failed to download with exception\n",
      "Cannot connect to host netdrms01.nispdc.nso.edu:80 ssl:default [Connect call failed ('146.5.21.120', 80)]\n",
      "2025-01-29 14:56:24 - parfive - INFO: http://netdrms01.nispdc.nso.edu/cgi-bin/netdrms/drms_export.cgi?series=aia__lev1;compress=rice;record=193_1136124043-1136124043 failed to download with exception\n",
      "Cannot connect to host netdrms01.nispdc.nso.edu:80 ssl:default [Connect call failed ('146.5.21.120', 80)]\n",
      "2025-01-29 14:56:24 - parfive - INFO: http://netdrms01.nispdc.nso.edu/cgi-bin/netdrms/drms_export.cgi?series=aia__lev1;compress=rice;record=193_1136127643-1136127643 failed to download with exception\n",
      "Cannot connect to host netdrms01.nispdc.nso.edu:80 ssl:default [Connect call failed ('146.5.21.120', 80)]\n",
      "2025-01-29 14:56:24 - parfive - INFO: http://netdrms01.nispdc.nso.edu/cgi-bin/netdrms/drms_export.cgi?series=aia__lev1;compress=rice;record=193_1136131243-1136131243 failed to download with exception\n",
      "Cannot connect to host netdrms01.nispdc.nso.edu:80 ssl:default [Connect call failed ('146.5.21.120', 80)]\n",
      "2025-01-29 14:56:24 - parfive - INFO: http://netdrms01.nispdc.nso.edu/cgi-bin/netdrms/drms_export.cgi?series=aia__lev1;compress=rice;record=193_1136142043-1136142043 failed to download with exception\n",
      "Cannot connect to host netdrms01.nispdc.nso.edu:80 ssl:default [Connect call failed ('146.5.21.120', 80)]\n",
      "2025-01-29 14:56:24 - parfive - INFO: http://netdrms01.nispdc.nso.edu/cgi-bin/netdrms/drms_export.cgi?series=aia__lev1;compress=rice;record=193_1136149239-1136149239 failed to download with exception\n",
      "Cannot connect to host netdrms01.nispdc.nso.edu:80 ssl:default [Connect call failed ('146.5.21.120', 80)]\n",
      "2025-01-29 14:56:24 - parfive - INFO: http://netdrms01.nispdc.nso.edu/cgi-bin/netdrms/drms_export.cgi?series=aia__lev1;compress=rice;record=193_1136152843-1136152843 failed to download with exception\n",
      "Cannot connect to host netdrms01.nispdc.nso.edu:80 ssl:default [Connect call failed ('146.5.21.120', 80)]\n",
      "2025-01-29 14:56:24 - parfive - INFO: http://netdrms01.nispdc.nso.edu/cgi-bin/netdrms/drms_export.cgi?series=aia__lev1;compress=rice;record=193_1136156443-1136156443 failed to download with exception\n",
      "Cannot connect to host netdrms01.nispdc.nso.edu:80 ssl:default [Connect call failed ('146.5.21.120', 80)]\n"
     ]
    },
    {
     "name": "stdout",
     "output_type": "stream",
     "text": [
      "17/0 files failed to download. Please check `.errors` for details\n"
     ]
    },
    {
     "data": {
      "application/vnd.jupyter.widget-view+json": {
       "model_id": "87c2882b1967464292555ebbdb117665",
       "version_major": 2,
       "version_minor": 0
      },
      "text/plain": [
       "Files Downloaded:   0%|          | 0/24 [00:00<?, ?file/s]"
      ]
     },
     "metadata": {},
     "output_type": "display_data"
    },
    {
     "data": {
      "application/vnd.jupyter.widget-view+json": {
       "model_id": "02a8b607b61a4df09a352bfb56a69d20",
       "version_major": 2,
       "version_minor": 0
      },
      "text/plain": [
       "aia.lev1.193A_2013_01_01T14_00_06.84Z.image_lev1.fits:   0%|          | 0.00/12.6M [00:00<?, ?B/s]"
      ]
     },
     "metadata": {},
     "output_type": "display_data"
    },
    {
     "name": "stderr",
     "output_type": "stream",
     "text": [
      "2025-01-29 14:57:48 - parfive - INFO: http://netdrms01.nispdc.nso.edu/cgi-bin/netdrms/drms_export.cgi?series=aia__lev1;compress=rice;record=193_1136073643-1136073643 failed to download with exception\n",
      "Cannot connect to host netdrms01.nispdc.nso.edu:80 ssl:default [Connect call failed ('146.5.21.120', 80)]\n",
      "2025-01-29 14:57:48 - parfive - INFO: http://netdrms01.nispdc.nso.edu/cgi-bin/netdrms/drms_export.cgi?series=aia__lev1;compress=rice;record=193_1136077243-1136077243 failed to download with exception\n",
      "Cannot connect to host netdrms01.nispdc.nso.edu:80 ssl:default [Connect call failed ('146.5.21.120', 80)]\n",
      "2025-01-29 14:57:48 - parfive - INFO: http://netdrms01.nispdc.nso.edu/cgi-bin/netdrms/drms_export.cgi?series=aia__lev1;compress=rice;record=193_1136080843-1136080843 failed to download with exception\n",
      "Cannot connect to host netdrms01.nispdc.nso.edu:80 ssl:default [Connect call failed ('146.5.21.120', 80)]\n",
      "2025-01-29 14:57:48 - parfive - INFO: http://netdrms01.nispdc.nso.edu/cgi-bin/netdrms/drms_export.cgi?series=aia__lev1;compress=rice;record=193_1136084443-1136084443 failed to download with exception\n",
      "Cannot connect to host netdrms01.nispdc.nso.edu:80 ssl:default [Connect call failed ('146.5.21.120', 80)]\n",
      "2025-01-29 14:57:48 - parfive - INFO: http://netdrms01.nispdc.nso.edu/cgi-bin/netdrms/drms_export.cgi?series=aia__lev1;compress=rice;record=193_1136098843-1136098843 failed to download with exception\n",
      "Cannot connect to host netdrms01.nispdc.nso.edu:80 ssl:default [Connect call failed ('146.5.21.120', 80)]\n",
      "2025-01-29 14:57:48 - parfive - INFO: http://netdrms01.nispdc.nso.edu/cgi-bin/netdrms/drms_export.cgi?series=aia__lev1;compress=rice;record=193_1136102443-1136102443 failed to download with exception\n",
      "Cannot connect to host netdrms01.nispdc.nso.edu:80 ssl:default [Connect call failed ('146.5.21.120', 80)]\n",
      "2025-01-29 14:57:48 - parfive - INFO: http://netdrms01.nispdc.nso.edu/cgi-bin/netdrms/drms_export.cgi?series=aia__lev1;compress=rice;record=193_1136106043-1136106043 failed to download with exception\n",
      "Cannot connect to host netdrms01.nispdc.nso.edu:80 ssl:default [Connect call failed ('146.5.21.120', 80)]\n",
      "2025-01-29 14:57:48 - parfive - INFO: http://netdrms01.nispdc.nso.edu/cgi-bin/netdrms/drms_export.cgi?series=aia__lev1;compress=rice;record=193_1136109643-1136109643 failed to download with exception\n",
      "Cannot connect to host netdrms01.nispdc.nso.edu:80 ssl:default [Connect call failed ('146.5.21.120', 80)]\n",
      "2025-01-29 14:57:48 - parfive - INFO: http://netdrms01.nispdc.nso.edu/cgi-bin/netdrms/drms_export.cgi?series=aia__lev1;compress=rice;record=193_1136113243-1136113243 failed to download with exception\n",
      "Cannot connect to host netdrms01.nispdc.nso.edu:80 ssl:default [Connect call failed ('146.5.21.120', 80)]\n",
      "2025-01-29 14:57:48 - parfive - INFO: http://netdrms01.nispdc.nso.edu/cgi-bin/netdrms/drms_export.cgi?series=aia__lev1;compress=rice;record=193_1136116843-1136116843 failed to download with exception\n",
      "Cannot connect to host netdrms01.nispdc.nso.edu:80 ssl:default [Connect call failed ('146.5.21.120', 80)]\n",
      "2025-01-29 14:57:48 - parfive - INFO: http://netdrms01.nispdc.nso.edu/cgi-bin/netdrms/drms_export.cgi?series=aia__lev1;compress=rice;record=193_1136134843-1136134843 failed to download with exception\n",
      "Cannot connect to host netdrms01.nispdc.nso.edu:80 ssl:default [Connect call failed ('146.5.21.120', 80)]\n",
      "2025-01-29 14:57:48 - parfive - INFO: http://netdrms01.nispdc.nso.edu/cgi-bin/netdrms/drms_export.cgi?series=aia__lev1;compress=rice;record=193_1136138443-1136138443 failed to download with exception\n",
      "Cannot connect to host netdrms01.nispdc.nso.edu:80 ssl:default [Connect call failed ('146.5.21.120', 80)]\n",
      "2025-01-29 14:57:48 - parfive - INFO: http://netdrms01.nispdc.nso.edu/cgi-bin/netdrms/drms_export.cgi?series=aia__lev1;compress=rice;record=193_1136142043-1136142043 failed to download with exception\n",
      "Cannot connect to host netdrms01.nispdc.nso.edu:80 ssl:default [Connect call failed ('146.5.21.120', 80)]\n",
      "2025-01-29 14:57:48 - parfive - INFO: http://netdrms01.nispdc.nso.edu/cgi-bin/netdrms/drms_export.cgi?series=aia__lev1;compress=rice;record=193_1136149239-1136149239 failed to download with exception\n",
      "Cannot connect to host netdrms01.nispdc.nso.edu:80 ssl:default [Connect call failed ('146.5.21.120', 80)]\n"
     ]
    },
    {
     "name": "stdout",
     "output_type": "stream",
     "text": [
      "14/0 files failed to download. Please check `.errors` for details\n"
     ]
    },
    {
     "data": {
      "application/vnd.jupyter.widget-view+json": {
       "model_id": "16440240dbb949739819a0270e5bcfbb",
       "version_major": 2,
       "version_minor": 0
      },
      "text/plain": [
       "Files Downloaded:   0%|          | 0/24 [00:00<?, ?file/s]"
      ]
     },
     "metadata": {},
     "output_type": "display_data"
    },
    {
     "data": {
      "application/vnd.jupyter.widget-view+json": {
       "model_id": "c1c3e114e895447db8d79c0086c0a12d",
       "version_major": 2,
       "version_minor": 0
      },
      "text/plain": [
       "aia.lev1.193A_2013_01_01T09_00_06.84Z.image_lev1.fits:   0%|          | 0.00/12.6M [00:00<?, ?B/s]"
      ]
     },
     "metadata": {},
     "output_type": "display_data"
    },
    {
     "name": "stderr",
     "output_type": "stream",
     "text": [
      "2025-01-29 14:58:37 - parfive - INFO: http://netdrms01.nispdc.nso.edu/cgi-bin/netdrms/drms_export.cgi?series=aia__lev1;compress=rice;record=193_1136073643-1136073643 failed to download with exception\n",
      "Cannot connect to host netdrms01.nispdc.nso.edu:80 ssl:default [Connect call failed ('146.5.21.120', 80)]\n",
      "2025-01-29 14:58:37 - parfive - INFO: http://netdrms01.nispdc.nso.edu/cgi-bin/netdrms/drms_export.cgi?series=aia__lev1;compress=rice;record=193_1136077243-1136077243 failed to download with exception\n",
      "Cannot connect to host netdrms01.nispdc.nso.edu:80 ssl:default [Connect call failed ('146.5.21.120', 80)]\n",
      "2025-01-29 14:58:37 - parfive - INFO: http://netdrms01.nispdc.nso.edu/cgi-bin/netdrms/drms_export.cgi?series=aia__lev1;compress=rice;record=193_1136106043-1136106043 failed to download with exception\n",
      "Cannot connect to host netdrms01.nispdc.nso.edu:80 ssl:default [Connect call failed ('146.5.21.120', 80)]\n"
     ]
    },
    {
     "name": "stdout",
     "output_type": "stream",
     "text": [
      "3/0 files failed to download. Please check `.errors` for details\n"
     ]
    },
    {
     "data": {
      "application/vnd.jupyter.widget-view+json": {
       "model_id": "c1f2156a87f14a3aa12744430e49b0de",
       "version_major": 2,
       "version_minor": 0
      },
      "text/plain": [
       "Files Downloaded:   0%|          | 0/24 [00:00<?, ?file/s]"
      ]
     },
     "metadata": {},
     "output_type": "display_data"
    },
    {
     "name": "stderr",
     "output_type": "stream",
     "text": [
      "2025-01-29 15:00:24 - parfive - INFO: http://netdrms01.nispdc.nso.edu/cgi-bin/netdrms/drms_export.cgi?series=aia__lev1;compress=rice;record=193_1136073643-1136073643 failed to download with exception\n",
      "Cannot connect to host netdrms01.nispdc.nso.edu:80 ssl:default [Connect call failed ('146.5.21.120', 80)]\n",
      "2025-01-29 15:00:24 - parfive - INFO: http://netdrms01.nispdc.nso.edu/cgi-bin/netdrms/drms_export.cgi?series=aia__lev1;compress=rice;record=193_1136077243-1136077243 failed to download with exception\n",
      "Cannot connect to host netdrms01.nispdc.nso.edu:80 ssl:default [Connect call failed ('146.5.21.120', 80)]\n",
      "2025-01-29 15:00:24 - parfive - INFO: http://netdrms01.nispdc.nso.edu/cgi-bin/netdrms/drms_export.cgi?series=aia__lev1;compress=rice;record=193_1136080843-1136080843 failed to download with exception\n",
      "Cannot connect to host netdrms01.nispdc.nso.edu:80 ssl:default [Connect call failed ('146.5.21.120', 80)]\n",
      "2025-01-29 15:00:24 - parfive - INFO: http://netdrms01.nispdc.nso.edu/cgi-bin/netdrms/drms_export.cgi?series=aia__lev1;compress=rice;record=193_1136084443-1136084443 failed to download with exception\n",
      "Cannot connect to host netdrms01.nispdc.nso.edu:80 ssl:default [Connect call failed ('146.5.21.120', 80)]\n",
      "2025-01-29 15:00:24 - parfive - INFO: http://netdrms01.nispdc.nso.edu/cgi-bin/netdrms/drms_export.cgi?series=aia__lev1;compress=rice;record=193_1136088043-1136088043 failed to download with exception\n",
      "Cannot connect to host netdrms01.nispdc.nso.edu:80 ssl:default [Connect call failed ('146.5.21.120', 80)]\n",
      "2025-01-29 15:00:24 - parfive - INFO: http://netdrms01.nispdc.nso.edu/cgi-bin/netdrms/drms_export.cgi?series=aia__lev1;compress=rice;record=193_1136091643-1136091643 failed to download with exception\n",
      "Cannot connect to host netdrms01.nispdc.nso.edu:80 ssl:default [Connect call failed ('146.5.21.120', 80)]\n",
      "2025-01-29 15:00:24 - parfive - INFO: http://netdrms01.nispdc.nso.edu/cgi-bin/netdrms/drms_export.cgi?series=aia__lev1;compress=rice;record=193_1136095243-1136095243 failed to download with exception\n",
      "Cannot connect to host netdrms01.nispdc.nso.edu:80 ssl:default [Connect call failed ('146.5.21.120', 80)]\n",
      "2025-01-29 15:00:24 - parfive - INFO: http://netdrms01.nispdc.nso.edu/cgi-bin/netdrms/drms_export.cgi?series=aia__lev1;compress=rice;record=193_1136102443-1136102443 failed to download with exception\n",
      "Cannot connect to host netdrms01.nispdc.nso.edu:80 ssl:default [Connect call failed ('146.5.21.120', 80)]\n",
      "2025-01-29 15:00:24 - parfive - INFO: http://netdrms01.nispdc.nso.edu/cgi-bin/netdrms/drms_export.cgi?series=aia__lev1;compress=rice;record=193_1136106043-1136106043 failed to download with exception\n",
      "Cannot connect to host netdrms01.nispdc.nso.edu:80 ssl:default [Connect call failed ('146.5.21.120', 80)]\n",
      "2025-01-29 15:00:24 - parfive - INFO: http://netdrms01.nispdc.nso.edu/cgi-bin/netdrms/drms_export.cgi?series=aia__lev1;compress=rice;record=193_1136109643-1136109643 failed to download with exception\n",
      "Cannot connect to host netdrms01.nispdc.nso.edu:80 ssl:default [Connect call failed ('146.5.21.120', 80)]\n",
      "2025-01-29 15:00:24 - parfive - INFO: http://netdrms01.nispdc.nso.edu/cgi-bin/netdrms/drms_export.cgi?series=aia__lev1;compress=rice;record=193_1136113243-1136113243 failed to download with exception\n",
      "Cannot connect to host netdrms01.nispdc.nso.edu:80 ssl:default [Connect call failed ('146.5.21.120', 80)]\n",
      "2025-01-29 15:00:24 - parfive - INFO: http://netdrms01.nispdc.nso.edu/cgi-bin/netdrms/drms_export.cgi?series=aia__lev1;compress=rice;record=193_1136116843-1136116843 failed to download with exception\n",
      "Cannot connect to host netdrms01.nispdc.nso.edu:80 ssl:default [Connect call failed ('146.5.21.120', 80)]\n",
      "2025-01-29 15:00:24 - parfive - INFO: http://netdrms01.nispdc.nso.edu/cgi-bin/netdrms/drms_export.cgi?series=aia__lev1;compress=rice;record=193_1136120443-1136120443 failed to download with exception\n",
      "Cannot connect to host netdrms01.nispdc.nso.edu:80 ssl:default [Connect call failed ('146.5.21.120', 80)]\n",
      "2025-01-29 15:00:24 - parfive - INFO: http://netdrms01.nispdc.nso.edu/cgi-bin/netdrms/drms_export.cgi?series=aia__lev1;compress=rice;record=193_1136124043-1136124043 failed to download with exception\n",
      "Cannot connect to host netdrms01.nispdc.nso.edu:80 ssl:default [Connect call failed ('146.5.21.120', 80)]\n",
      "2025-01-29 15:00:24 - parfive - INFO: http://netdrms01.nispdc.nso.edu/cgi-bin/netdrms/drms_export.cgi?series=aia__lev1;compress=rice;record=193_1136131243-1136131243 failed to download with exception\n",
      "Cannot connect to host netdrms01.nispdc.nso.edu:80 ssl:default [Connect call failed ('146.5.21.120', 80)]\n",
      "2025-01-29 15:00:24 - parfive - INFO: http://netdrms01.nispdc.nso.edu/cgi-bin/netdrms/drms_export.cgi?series=aia__lev1;compress=rice;record=193_1136134843-1136134843 failed to download with exception\n",
      "Cannot connect to host netdrms01.nispdc.nso.edu:80 ssl:default [Connect call failed ('146.5.21.120', 80)]\n",
      "2025-01-29 15:00:24 - parfive - INFO: http://netdrms01.nispdc.nso.edu/cgi-bin/netdrms/drms_export.cgi?series=aia__lev1;compress=rice;record=193_1136138443-1136138443 failed to download with exception\n",
      "Cannot connect to host netdrms01.nispdc.nso.edu:80 ssl:default [Connect call failed ('146.5.21.120', 80)]\n",
      "2025-01-29 15:00:24 - parfive - INFO: http://netdrms01.nispdc.nso.edu/cgi-bin/netdrms/drms_export.cgi?series=aia__lev1;compress=rice;record=193_1136142043-1136142043 failed to download with exception\n",
      "Cannot connect to host netdrms01.nispdc.nso.edu:80 ssl:default [Connect call failed ('146.5.21.120', 80)]\n",
      "2025-01-29 15:00:24 - parfive - INFO: http://netdrms01.nispdc.nso.edu/cgi-bin/netdrms/drms_export.cgi?series=aia__lev1;compress=rice;record=193_1136145643-1136145643 failed to download with exception\n",
      "Cannot connect to host netdrms01.nispdc.nso.edu:80 ssl:default [Connect call failed ('146.5.21.120', 80)]\n",
      "2025-01-29 15:00:24 - parfive - INFO: http://netdrms01.nispdc.nso.edu/cgi-bin/netdrms/drms_export.cgi?series=aia__lev1;compress=rice;record=193_1136149239-1136149239 failed to download with exception\n",
      "Cannot connect to host netdrms01.nispdc.nso.edu:80 ssl:default [Connect call failed ('146.5.21.120', 80)]\n",
      "2025-01-29 15:00:24 - parfive - INFO: http://netdrms01.nispdc.nso.edu/cgi-bin/netdrms/drms_export.cgi?series=aia__lev1;compress=rice;record=193_1136152843-1136152843 failed to download with exception\n",
      "Cannot connect to host netdrms01.nispdc.nso.edu:80 ssl:default [Connect call failed ('146.5.21.120', 80)]\n",
      "2025-01-29 15:00:24 - parfive - INFO: http://netdrms01.nispdc.nso.edu/cgi-bin/netdrms/drms_export.cgi?series=aia__lev1;compress=rice;record=193_1136156443-1136156443 failed to download with exception\n",
      "Cannot connect to host netdrms01.nispdc.nso.edu:80 ssl:default [Connect call failed ('146.5.21.120', 80)]\n"
     ]
    },
    {
     "name": "stdout",
     "output_type": "stream",
     "text": [
      "22/0 files failed to download. Please check `.errors` for details\n"
     ]
    },
    {
     "data": {
      "application/vnd.jupyter.widget-view+json": {
       "model_id": "059daee201734d6797957f0a66b07a92",
       "version_major": 2,
       "version_minor": 0
      },
      "text/plain": [
       "Files Downloaded:   0%|          | 0/24 [00:00<?, ?file/s]"
      ]
     },
     "metadata": {},
     "output_type": "display_data"
    },
    {
     "name": "stderr",
     "output_type": "stream",
     "text": [
      "2025-01-29 15:01:51 - parfive - INFO: http://netdrms01.nispdc.nso.edu/cgi-bin/netdrms/drms_export.cgi?series=aia__lev1;compress=rice;record=193_1136073643-1136073643 failed to download with exception\n",
      "Cannot connect to host netdrms01.nispdc.nso.edu:80 ssl:default [Connect call failed ('146.5.21.120', 80)]\n",
      "2025-01-29 15:01:51 - parfive - INFO: http://netdrms01.nispdc.nso.edu/cgi-bin/netdrms/drms_export.cgi?series=aia__lev1;compress=rice;record=193_1136077243-1136077243 failed to download with exception\n",
      "Cannot connect to host netdrms01.nispdc.nso.edu:80 ssl:default [Connect call failed ('146.5.21.120', 80)]\n",
      "2025-01-29 15:01:51 - parfive - INFO: http://netdrms01.nispdc.nso.edu/cgi-bin/netdrms/drms_export.cgi?series=aia__lev1;compress=rice;record=193_1136080843-1136080843 failed to download with exception\n",
      "Cannot connect to host netdrms01.nispdc.nso.edu:80 ssl:default [Connect call failed ('146.5.21.120', 80)]\n",
      "2025-01-29 15:01:51 - parfive - INFO: http://netdrms01.nispdc.nso.edu/cgi-bin/netdrms/drms_export.cgi?series=aia__lev1;compress=rice;record=193_1136084443-1136084443 failed to download with exception\n",
      "Cannot connect to host netdrms01.nispdc.nso.edu:80 ssl:default [Connect call failed ('146.5.21.120', 80)]\n",
      "2025-01-29 15:01:51 - parfive - INFO: http://netdrms01.nispdc.nso.edu/cgi-bin/netdrms/drms_export.cgi?series=aia__lev1;compress=rice;record=193_1136088043-1136088043 failed to download with exception\n",
      "Cannot connect to host netdrms01.nispdc.nso.edu:80 ssl:default [Connect call failed ('146.5.21.120', 80)]\n",
      "2025-01-29 15:01:51 - parfive - INFO: http://netdrms01.nispdc.nso.edu/cgi-bin/netdrms/drms_export.cgi?series=aia__lev1;compress=rice;record=193_1136091643-1136091643 failed to download with exception\n",
      "Cannot connect to host netdrms01.nispdc.nso.edu:80 ssl:default [Connect call failed ('146.5.21.120', 80)]\n",
      "2025-01-29 15:01:51 - parfive - INFO: http://netdrms01.nispdc.nso.edu/cgi-bin/netdrms/drms_export.cgi?series=aia__lev1;compress=rice;record=193_1136095243-1136095243 failed to download with exception\n",
      "Cannot connect to host netdrms01.nispdc.nso.edu:80 ssl:default [Connect call failed ('146.5.21.120', 80)]\n",
      "2025-01-29 15:01:51 - parfive - INFO: http://netdrms01.nispdc.nso.edu/cgi-bin/netdrms/drms_export.cgi?series=aia__lev1;compress=rice;record=193_1136098843-1136098843 failed to download with exception\n",
      "Cannot connect to host netdrms01.nispdc.nso.edu:80 ssl:default [Connect call failed ('146.5.21.120', 80)]\n",
      "2025-01-29 15:01:51 - parfive - INFO: http://netdrms01.nispdc.nso.edu/cgi-bin/netdrms/drms_export.cgi?series=aia__lev1;compress=rice;record=193_1136102443-1136102443 failed to download with exception\n",
      "Cannot connect to host netdrms01.nispdc.nso.edu:80 ssl:default [Connect call failed ('146.5.21.120', 80)]\n",
      "2025-01-29 15:01:51 - parfive - INFO: http://netdrms01.nispdc.nso.edu/cgi-bin/netdrms/drms_export.cgi?series=aia__lev1;compress=rice;record=193_1136106043-1136106043 failed to download with exception\n",
      "Cannot connect to host netdrms01.nispdc.nso.edu:80 ssl:default [Connect call failed ('146.5.21.120', 80)]\n",
      "2025-01-29 15:01:51 - parfive - INFO: http://netdrms01.nispdc.nso.edu/cgi-bin/netdrms/drms_export.cgi?series=aia__lev1;compress=rice;record=193_1136109643-1136109643 failed to download with exception\n",
      "Cannot connect to host netdrms01.nispdc.nso.edu:80 ssl:default [Connect call failed ('146.5.21.120', 80)]\n",
      "2025-01-29 15:01:51 - parfive - INFO: http://netdrms01.nispdc.nso.edu/cgi-bin/netdrms/drms_export.cgi?series=aia__lev1;compress=rice;record=193_1136113243-1136113243 failed to download with exception\n",
      "Cannot connect to host netdrms01.nispdc.nso.edu:80 ssl:default [Connect call failed ('146.5.21.120', 80)]\n",
      "2025-01-29 15:01:51 - parfive - INFO: http://netdrms01.nispdc.nso.edu/cgi-bin/netdrms/drms_export.cgi?series=aia__lev1;compress=rice;record=193_1136116843-1136116843 failed to download with exception\n",
      "Cannot connect to host netdrms01.nispdc.nso.edu:80 ssl:default [Connect call failed ('146.5.21.120', 80)]\n",
      "2025-01-29 15:01:51 - parfive - INFO: http://netdrms01.nispdc.nso.edu/cgi-bin/netdrms/drms_export.cgi?series=aia__lev1;compress=rice;record=193_1136120443-1136120443 failed to download with exception\n",
      "Cannot connect to host netdrms01.nispdc.nso.edu:80 ssl:default [Connect call failed ('146.5.21.120', 80)]\n",
      "2025-01-29 15:01:51 - parfive - INFO: http://netdrms01.nispdc.nso.edu/cgi-bin/netdrms/drms_export.cgi?series=aia__lev1;compress=rice;record=193_1136124043-1136124043 failed to download with exception\n",
      "Cannot connect to host netdrms01.nispdc.nso.edu:80 ssl:default [Connect call failed ('146.5.21.120', 80)]\n",
      "2025-01-29 15:01:51 - parfive - INFO: http://netdrms01.nispdc.nso.edu/cgi-bin/netdrms/drms_export.cgi?series=aia__lev1;compress=rice;record=193_1136134843-1136134843 failed to download with exception\n",
      "Cannot connect to host netdrms01.nispdc.nso.edu:80 ssl:default [Connect call failed ('146.5.21.120', 80)]\n",
      "2025-01-29 15:01:51 - parfive - INFO: http://netdrms01.nispdc.nso.edu/cgi-bin/netdrms/drms_export.cgi?series=aia__lev1;compress=rice;record=193_1136138443-1136138443 failed to download with exception\n",
      "Cannot connect to host netdrms01.nispdc.nso.edu:80 ssl:default [Connect call failed ('146.5.21.120', 80)]\n",
      "2025-01-29 15:01:51 - parfive - INFO: http://netdrms01.nispdc.nso.edu/cgi-bin/netdrms/drms_export.cgi?series=aia__lev1;compress=rice;record=193_1136142043-1136142043 failed to download with exception\n",
      "Cannot connect to host netdrms01.nispdc.nso.edu:80 ssl:default [Connect call failed ('146.5.21.120', 80)]\n"
     ]
    },
    {
     "name": "stdout",
     "output_type": "stream",
     "text": [
      "18/0 files failed to download. Please check `.errors` for details\n"
     ]
    },
    {
     "data": {
      "application/vnd.jupyter.widget-view+json": {
       "model_id": "fb5a1b9e3f354c038e9cc2468bd0fa30",
       "version_major": 2,
       "version_minor": 0
      },
      "text/plain": [
       "Files Downloaded:   0%|          | 0/24 [00:00<?, ?file/s]"
      ]
     },
     "metadata": {},
     "output_type": "display_data"
    }
   ],
   "source": [
    "for results in all_results:\n",
    "    downloaded_files = []\n",
    "    attempts = 10\n",
    "    while len(results) != len(downloaded_files) and attempts > 0:\n",
    "        try:\n",
    "            downloaded_files = Fido.fetch(\n",
    "                results, path=download_directory)\n",
    "        except Exception as e:\n",
    "            print(\n",
    "                f\"Failed to download files. Retrying...\")\n",
    "            continue\n",
    "        attempts -= 1\n",
    "\n",
    "# Output the list of downloaded files\n",
    "print(f\"Downloaded {len(downloaded_files)} files.\")"
   ]
  },
  {
   "cell_type": "markdown",
   "metadata": {},
   "source": [
    "### Quality checking and Re-downloading"
   ]
  },
  {
   "cell_type": "markdown",
   "metadata": {},
   "source": [
    "#### First we check quality of all files, if the quality is less than 0 we delete the file and save the date and time in an array.\n",
    "#### Then we redownload files 5 minutes after those files \n",
    "#### Then we re-check the quality of those newly downloaded files\n",
    "#### Then we delete all the bad quality files"
   ]
  },
  {
   "cell_type": "code",
   "execution_count": 7,
   "metadata": {},
   "outputs": [
    {
     "ename": "NameError",
     "evalue": "name 'downloaded_files' is not defined",
     "output_type": "error",
     "traceback": [
      "\u001b[1;31m---------------------------------------------------------------------------\u001b[0m",
      "\u001b[1;31mNameError\u001b[0m                                 Traceback (most recent call last)",
      "Cell \u001b[1;32mIn[7], line 68\u001b[0m\n\u001b[0;32m     63\u001b[0m                 f\u001b[38;5;241m.\u001b[39mwrite(\u001b[38;5;124mf\u001b[39m\u001b[38;5;124m\"\u001b[39m\u001b[38;5;132;01m{\u001b[39;00mfile\u001b[38;5;132;01m}\u001b[39;00m\u001b[38;5;130;01m\\n\u001b[39;00m\u001b[38;5;124m\"\u001b[39m)\n\u001b[0;32m     67\u001b[0m \u001b[38;5;66;03m# check and delete bad quality files\u001b[39;00m\n\u001b[1;32m---> 68\u001b[0m bad_quality_files \u001b[38;5;241m=\u001b[39m check_file_quality(\u001b[43mdownloaded_files\u001b[49m, download_directory)\n\u001b[0;32m     69\u001b[0m \u001b[38;5;66;03m# download new files for the bad quality files\u001b[39;00m\n\u001b[0;32m     70\u001b[0m download_list_of_files(bad_quality_files, download_directory)\n",
      "\u001b[1;31mNameError\u001b[0m: name 'downloaded_files' is not defined"
     ]
    }
   ],
   "source": [
    "\n",
    "def check_file_quality(file_list, download_directory):\n",
    "    bad_quality_files = []\n",
    "    # open all files and check the quality\n",
    "    for file in file_list:\n",
    "        try:\n",
    "            with fits.open(file) as hdul:\n",
    "                header = hdul[1].header\n",
    "                # Check if the quality is bad add to the list\n",
    "                if header['QUALITY'] != 0:\n",
    "                    bad_quality_files.append(file)\n",
    "                    print(f\"Bad quality file: {file}\")\n",
    "                hdul.close()\n",
    "        except Exception as e:\n",
    "            print(f\"Failed to open {file}: {e}\")\n",
    "            continue\n",
    "    # delete all bad quality files\n",
    "    for bad_file in bad_quality_files:\n",
    "        os.remove(bad_file)\n",
    "        \n",
    "    # Save the list of bad quality files to a text file\n",
    "    bad_quality_files_file = os.path.join(download_directory, 'bad_quality_files.txt')\n",
    "    with open(bad_quality_files_file, 'w') as f:\n",
    "        for file in bad_quality_files:\n",
    "            f.write(f\"{file}\\n\")\n",
    "            \n",
    "    # return the list of bad quality files\n",
    "    return bad_quality_files\n",
    "\n",
    "def download_list_of_files(file_list, download_directory):\n",
    "    for bad_file in file_list:\n",
    "        # To remove path\n",
    "        bad_file_list = bad_file.split('\\\\')\n",
    "        # Get just the file name\n",
    "        bad_file = bad_file_list[-1]\n",
    "        # Get the date and time of the bad quality file\n",
    "        year = bad_file[14:18]\n",
    "        month = bad_file[19:21]\n",
    "        day = bad_file[22:24]\n",
    "        hour = bad_file[25:27]\n",
    "        \n",
    "        # Create a new date with the same date but 5 minutes later\n",
    "        new_date = f'{year}/{month}/{day} {hour}:05:00'\n",
    "        new_date_10 = f'{year}/{month}/{day} {hour}:10:00'\n",
    "\n",
    "        # Download the new file for the bad quality file\n",
    "        new_time_range = a.Time(new_date, new_date_10)\n",
    "        new_results = Fido.search(\n",
    "            new_time_range,\n",
    "            a.Instrument.aia,\n",
    "            a.Wavelength(193 * u.angstrom),\n",
    "            a.Sample(60 * u.minute)\n",
    "        )\n",
    "\n",
    "        # print(new_results)\n",
    "\n",
    "        # Download the new data\n",
    "        new_downloaded_files = Fido.fetch(new_results, path=download_directory)\n",
    "\n",
    "        # Save the list of newly downloaded files to a text file\n",
    "        new_downloaded_files_file = os.path.join(download_directory, 'new_downloaded_files.txt')\n",
    "        with open(new_downloaded_files_file, 'a') as f:\n",
    "            for file in new_downloaded_files:\n",
    "                f.write(f\"{file}\\n\")\n",
    "        \n",
    "\n",
    "\n",
    "# check and delete bad quality files\n",
    "bad_quality_files = check_file_quality(downloaded_files, download_directory)\n",
    "# download new files for the bad quality files\n",
    "download_list_of_files(bad_quality_files, download_directory)\n",
    "\n",
    "# Open the new_downloaded_files.txt and read the contents\n",
    "new_downloaded_files_file = os.path.join(download_directory, 'new_downloaded_files.txt')\n",
    "with open(new_downloaded_files_file, 'r') as f:\n",
    "    new_downloaded_files = f.readlines()\n",
    "\n",
    "# Remove the newline character from the file names\n",
    "new_downloaded_files = [file.strip() for file in new_downloaded_files]\n",
    "\n",
    "# Print the list of newly downloaded files\n",
    "print(\"Newly downloaded files:\")\n",
    "for file in new_downloaded_files:\n",
    "    print(file)\n",
    "\n",
    "# check and delete bad quality files\n",
    "bad_quality_files = check_file_quality(new_downloaded_files, download_directory)\n",
    "\n",
    "print(\"New files with bad quality:\")\n",
    "for file in bad_quality_files:\n",
    "    print(file)"
   ]
  },
  {
   "cell_type": "markdown",
   "metadata": {},
   "source": [
    "### Preprocessing "
   ]
  },
  {
   "cell_type": "markdown",
   "metadata": {},
   "source": [
    "#### Pointing correction"
   ]
  },
  {
   "cell_type": "markdown",
   "metadata": {},
   "source": [
    "#### Pointing correction can be done together with image registration "
   ]
  },
  {
   "cell_type": "code",
   "execution_count": 7,
   "metadata": {},
   "outputs": [],
   "source": [
    "\n",
    "# # List all files in the download directory\n",
    "# aia_files = [f for f in os.listdir(download_directory) if f.endswith('.fits')]\n",
    "\n",
    "# # update pointing table for all fits files in the download directory\n",
    "# for aia_file in tqdm(aia_files, desc=\"Updating pointing\"):\n",
    "#     aia_file_path = os.path.join(download_directory, aia_file)\n",
    "#     # Open the FITS file\n",
    "#     try:\n",
    "#         hdul = fits.open(aia_file_path, mode=\"update\")\n",
    "#         header = hdul[1].header\n",
    "#         data = hdul[1].data\n",
    "        \n",
    "#     except Exception as e:\n",
    "#         print(f\"FILE CORRUPTED: {aia_file_path}, Error: {e}\")\n",
    "#         continue\n",
    "#     # remove these two header keywords because they are nan and are causing errors with sunpy map\n",
    "#     header.remove('OSCNMEAN', ignore_missing=True)\n",
    "#     header.remove('OSCNRMS', ignore_missing=True)\n",
    "#     # convert to sunpy map\n",
    "#     aia_map = sunpy.map.Map((data, header))\n",
    "#     # download pointing table\n",
    "#     pointing_table = get_pointing_table(\"JSOC\", time_range=(aia_map.date - 12 * u.h, aia_map.date + 12 * u.h))\n",
    "#     # update pointing\n",
    "#     aia_map_updated_pointing = update_pointing(aia_map, pointing_table=pointing_table)\n",
    "#     hdul[1].header.update(aia_map_updated_pointing.meta)\n",
    "#     hdul.close()\n",
    "    \n",
    "    \n",
    "\n"
   ]
  },
  {
   "cell_type": "markdown",
   "metadata": {},
   "source": [
    "#### Define the list of all fits files in the directory"
   ]
  },
  {
   "cell_type": "code",
   "execution_count": 4,
   "metadata": {},
   "outputs": [],
   "source": [
    "# List all files in the download directory\n",
    "aia_files = [f for f in os.listdir(download_directory) if f.endswith('.fits')]"
   ]
  },
  {
   "cell_type": "markdown",
   "metadata": {},
   "source": [
    "#### PSF Deconvolution"
   ]
  },
  {
   "cell_type": "code",
   "execution_count": null,
   "metadata": {},
   "outputs": [
    {
     "data": {
      "application/vnd.jupyter.widget-view+json": {
       "model_id": "7f7edbc10f864c4e9dca15fc9524383a",
       "version_major": 2,
       "version_minor": 0
      },
      "text/plain": [
       "PSF Deconvolution:   0%|          | 0/24 [00:00<?, ?it/s]"
      ]
     },
     "metadata": {},
     "output_type": "display_data"
    }
   ],
   "source": [
    "\n",
    "def deconvolve_file(aia_file):\n",
    "    aia_file_path = os.path.join(download_directory, aia_file)\n",
    "    try:\n",
    "        hdul = fits.open(aia_file_path, mode=\"update\")\n",
    "        header = hdul[1].header\n",
    "        data = hdul[1].data\n",
    "    except Exception as e:\n",
    "        return f\"FILE CORRUPTED: {aia_file_path}, Error: {e}\"\n",
    "\n",
    "    header.remove('OSCNMEAN', ignore_missing=True)\n",
    "    header.remove('OSCNRMS', ignore_missing=True)\n",
    "\n",
    "    aia_map = sunpy.map.Map((data, header))\n",
    "    psf = aiapy.psf.psf(aia_map.wavelength)\n",
    "    aia_map_deconvolved = aiapy.psf.deconvolve(aia_map, psf=psf)\n",
    "\n",
    "    hdul[1].data = aia_map_deconvolved.data\n",
    "    hdul.close()\n",
    "    return None\n",
    "\n",
    "with ThreadPoolExecutor(max_workers=3) as executor:\n",
    "    list(tqdm(executor.map(deconvolve_file, aia_files), total=len(aia_files), desc=\"PSF Deconvolution\"))\n"
   ]
  },
  {
   "cell_type": "markdown",
   "metadata": {},
   "source": [
    "### Pointing Correction and Image Registration "
   ]
  },
  {
   "cell_type": "code",
   "execution_count": 5,
   "metadata": {},
   "outputs": [
    {
     "data": {
      "application/vnd.jupyter.widget-view+json": {
       "model_id": "b441a41f6eae4d7d9ddf336a23babcc9",
       "version_major": 2,
       "version_minor": 0
      },
      "text/plain": [
       "Pointing Correction and Image Registration:   0%|          | 0/24 [00:00<?, ?it/s]"
      ]
     },
     "metadata": {},
     "output_type": "display_data"
    }
   ],
   "source": [
    "def process_file(aia_file):\n",
    "    aia_file_path = os.path.join(download_directory, aia_file)\n",
    "    try:\n",
    "        hdul = fits.open(aia_file_path, mode=\"update\")\n",
    "        header = hdul[1].header\n",
    "        data = hdul[1].data\n",
    "    except Exception as e:\n",
    "        return f\"FILE CORRUPTED: {aia_file_path}, Error: {e}\"\n",
    "    header.remove('OSCNMEAN', ignore_missing=True)\n",
    "    header.remove('OSCNRMS', ignore_missing=True)\n",
    "    aia_map = sunpy.map.Map((data, header))\n",
    "    pointing_table = get_pointing_table(\"JSOC\", time_range=(aia_map.date - 12 * u.h, aia_map.date + 12 * u.h))\n",
    "    aia_map_updated_pointing = update_pointing(aia_map, pointing_table=pointing_table)\n",
    "    aia_map_registered = register(aia_map_updated_pointing)\n",
    "\n",
    "    hdul[1].data = aia_map_registered.data\n",
    "    hdul.close()\n",
    "    return None\n",
    "\n",
    "with ThreadPoolExecutor(max_workers=3) as executor:\n",
    "    list(tqdm(executor.map(process_file, aia_files), total=len(aia_files), desc=\"Pointing Correction and Image Registration\"))\n"
   ]
  },
  {
   "cell_type": "markdown",
   "metadata": {},
   "source": [
    "### Degradation Correction"
   ]
  },
  {
   "cell_type": "code",
   "execution_count": 6,
   "metadata": {},
   "outputs": [
    {
     "name": "stdout",
     "output_type": "stream",
     "text": [
      "Got correction table\n"
     ]
    },
    {
     "data": {
      "application/vnd.jupyter.widget-view+json": {
       "model_id": "c16397db731348748d2dc5e52170aa22",
       "version_major": 2,
       "version_minor": 0
      },
      "text/plain": [
       "Degradation Correction:   0%|          | 0/24 [00:00<?, ?it/s]"
      ]
     },
     "metadata": {},
     "output_type": "display_data"
    }
   ],
   "source": [
    "correction_table = get_correction_table(\"JSOC\")\n",
    "print(\"Got correction table\")\n",
    "\n",
    "def correct_degradation_file(aia_file):\n",
    "    aia_file_path = os.path.join(download_directory, aia_file)\n",
    "    try:\n",
    "        hdul = fits.open(aia_file_path, mode=\"update\")\n",
    "        header = hdul[1].header\n",
    "        data = hdul[1].data\n",
    "    except Exception as e:\n",
    "        return f\"FILE CORRUPTED: {aia_file_path}, Error: {e}\"\n",
    "\n",
    "    aia_map = sunpy.map.Map((data, header))\n",
    "    aia_map_corrected = correct_degradation(aia_map, correction_table=correction_table)\n",
    "    hdul[1].data = aia_map_corrected.data\n",
    "    hdul.close()\n",
    "    return None\n",
    "\n",
    "with ThreadPoolExecutor(max_workers=3) as executor:\n",
    "    list(tqdm(executor.map(correct_degradation_file, aia_files), total=len(aia_files), desc=\"Degradation Correction\"))\n"
   ]
  },
  {
   "cell_type": "markdown",
   "metadata": {},
   "source": [
    "### Exposure Normalization"
   ]
  },
  {
   "cell_type": "code",
   "execution_count": 7,
   "metadata": {},
   "outputs": [
    {
     "data": {
      "application/vnd.jupyter.widget-view+json": {
       "model_id": "139d789aec794836b78e07eb69e9ff52",
       "version_major": 2,
       "version_minor": 0
      },
      "text/plain": [
       "Normalizing by Exposure Time:   0%|          | 0/24 [00:00<?, ?it/s]"
      ]
     },
     "metadata": {},
     "output_type": "display_data"
    },
    {
     "name": "stderr",
     "output_type": "stream",
     "text": [
      "c:\\Users\\mirzi\\miniconda3\\envs\\sundata\\lib\\site-packages\\astropy\\units\\quantity.py:671: RuntimeWarning: divide by zero encountered in divide\n",
      "  result = super().__array_ufunc__(function, method, *arrays, **kwargs)\n",
      "c:\\Users\\mirzi\\miniconda3\\envs\\sundata\\lib\\site-packages\\astropy\\units\\quantity.py:671: RuntimeWarning: invalid value encountered in multiply\n",
      "  result = super().__array_ufunc__(function, method, *arrays, **kwargs)\n"
     ]
    }
   ],
   "source": [
    "def normalize_by_exposure(aia_file):\n",
    "    aia_file_path = os.path.join(download_directory, aia_file)\n",
    "    try:\n",
    "        hdul = fits.open(aia_file_path, mode=\"update\")\n",
    "        header = hdul[1].header\n",
    "        data = hdul[1].data\n",
    "    except Exception as e:\n",
    "        return f\"FILE CORRUPTED: {aia_file_path}, Error: {e}\"\n",
    "    \n",
    "    aia_map = sunpy.map.Map((data, header))\n",
    "    aia_map_normalized = aia_map / aia_map.exposure_time\n",
    "    hdul[1].data = aia_map_normalized.data\n",
    "    hdul.close()\n",
    "    return None\n",
    "\n",
    "with ThreadPoolExecutor(max_workers=3) as executor:\n",
    "    list(tqdm(executor.map(normalize_by_exposure, aia_files), total=len(aia_files), desc=\"Normalizing by Exposure Time\"))\n"
   ]
  },
  {
   "cell_type": "markdown",
   "metadata": {},
   "source": [
    "#### Clipping values between 100 and 5000"
   ]
  },
  {
   "cell_type": "code",
   "execution_count": 8,
   "metadata": {},
   "outputs": [
    {
     "data": {
      "application/vnd.jupyter.widget-view+json": {
       "model_id": "6b75fe8d91b141a295c0a38612e61f57",
       "version_major": 2,
       "version_minor": 0
      },
      "text/plain": [
       "Clipping Values:   0%|          | 0/24 [00:00<?, ?it/s]"
      ]
     },
     "metadata": {},
     "output_type": "display_data"
    }
   ],
   "source": [
    "def clip_values(aia_file):\n",
    "    aia_file_path = os.path.join(download_directory, aia_file)\n",
    "    try:\n",
    "        hdul = fits.open(aia_file_path, mode=\"update\")\n",
    "        header = hdul[1].header\n",
    "        data = hdul[1].data\n",
    "    except Exception as e:\n",
    "        return f\"FILE CORRUPTED: {aia_file_path}, Error: {e}\"\n",
    "    \n",
    "    # Clip the values between 100 and 5000\n",
    "    data_clipped = data.clip(100, 5000)\n",
    "    \n",
    "    # Save the clipped image\n",
    "    hdul[1].data = data_clipped\n",
    "    hdul.close()\n",
    "    return None\n",
    "\n",
    "with ThreadPoolExecutor(max_workers=3) as executor:\n",
    "    list(tqdm(executor.map(clip_values, aia_files), total=len(aia_files), desc=\"Clipping Values\"))"
   ]
  },
  {
   "cell_type": "markdown",
   "metadata": {},
   "source": [
    "#### Rescaling Images by Log10 (Cant do this because it causes issues while copying)"
   ]
  },
  {
   "cell_type": "code",
   "execution_count": null,
   "metadata": {},
   "outputs": [],
   "source": [
    "# for aia_file in tqdm(aia_files, desc=\"Rescaling to log10\"):\n",
    "#     aia_file_path = os.path.join(download_directory, aia_file)\n",
    "#     # Open the FITS file\n",
    "#     try:\n",
    "#         hdul = fits.open(aia_file_path, mode=\"update\")\n",
    "#         header = hdul[1].header\n",
    "#         data = hdul[1].data\n",
    "#     except Exception as e:\n",
    "#         print(f\"FILE CORRUPTED: {aia_file_path}, Error: {e}\")\n",
    "#         continue\n",
    "    \n",
    "#     # Rescale the data to log10 scale\n",
    "#     data_log10 = np.log10(data + 1)  # Adding 1 to avoid log(0)\n",
    "    \n",
    "#     # Save the rescaled image\n",
    "#     hdul[1].data = data_log10\n",
    "    \n",
    "#     hdul.close()"
   ]
  },
  {
   "cell_type": "markdown",
   "metadata": {},
   "source": [
    "#### Resizing images to 224 x 224 using pillow/opencv with bilinear interpolation"
   ]
  },
  {
   "cell_type": "code",
   "execution_count": 9,
   "metadata": {},
   "outputs": [
    {
     "data": {
      "application/vnd.jupyter.widget-view+json": {
       "model_id": "963814409032472fa5b715412c6328ce",
       "version_major": 2,
       "version_minor": 0
      },
      "text/plain": [
       "Downscaling to 224x224:   0%|          | 0/24 [00:00<?, ?it/s]"
      ]
     },
     "metadata": {},
     "output_type": "display_data"
    }
   ],
   "source": [
    "\n",
    "for aia_file in tqdm(aia_files, desc=\"Downscaling to 224x224\"):\n",
    "    aia_file_path = os.path.join(download_directory, aia_file)\n",
    "    # Open the FITS file\n",
    "    # Specify the new directory where you want to copy the files\n",
    "    new_directory = os.path.join(download_directory, 'non_anti_aliasing/')\n",
    "    os.makedirs(new_directory, exist_ok=True)\n",
    "\n",
    "    # Copy the file to the new directory\n",
    "    new_file_path = os.path.join(new_directory, aia_file)\n",
    "    shutil.copy2(aia_file_path, new_file_path)\n",
    "\n",
    "    # open first file\n",
    "    try:\n",
    "        hdul1 = fits.open(aia_file_path, mode=\"update\")\n",
    "        header1 = hdul1[1].header\n",
    "        data1 = hdul1[1].data\n",
    "    except Exception as e:\n",
    "        print(f\"FILE CORRUPTED: {aia_file_path}, Error: {e}\")\n",
    "        continue\n",
    "    \n",
    "    # Rescale the data to log10 scale AGAIN BECUASE FOR SOME REASON COPYING THE FILE UNDOS IT!!!\n",
    "    data_log10_1 = np.log10(data1 + 1)  # Adding 1 to avoid log(0)\n",
    "    # Using pillow or anti-aliasing\n",
    "    image_pil = Image.fromarray(data_log10_1)\n",
    "    resized_data_aa = image_pil.resize((224, 224), Image.BILINEAR)\n",
    "    resized_image_np = np.array(resized_data_aa)\n",
    "    # Save the downscaled anti-aliased image\n",
    "    hdul1[1].data = resized_image_np\n",
    "    \n",
    "    hdul1.close()\n",
    "    \n",
    "    # Open second file\n",
    "    try:\n",
    "        hdul2 = fits.open(new_file_path, mode=\"update\")\n",
    "        header2 = hdul2[1].header\n",
    "        data2 = hdul2[1].data\n",
    "    except Exception as e:\n",
    "        print(f\"FILE CORRUPTED: {new_file_path}, Error: {e}\")\n",
    "        continue\n",
    "    \n",
    "    # Rescale the data to log10 scale AGAIN BECUASE FOR SOME REASON COPYING THE FILE UNDOS IT!!!\n",
    "    data_log10_2 = np.log10(data2 + 1)  # Adding 1 to avoid log(0)\n",
    "    \n",
    "    # Using OpenCV for non-anti-aliasing\n",
    "    resized_data = cv2.resize(data_log10_2, (224, 224), interpolation=cv2.INTER_LINEAR)\n",
    "    # Save the downscaled non-anti-aliased image\n",
    "    hdul2[1].data = resized_data\n",
    "\n",
    "\n",
    "    hdul2.close()\n",
    "    \n"
   ]
  }
 ],
 "metadata": {
  "kernelspec": {
   "display_name": "sundata",
   "language": "python",
   "name": "python3"
  },
  "language_info": {
   "codemirror_mode": {
    "name": "ipython",
    "version": 3
   },
   "file_extension": ".py",
   "mimetype": "text/x-python",
   "name": "python",
   "nbconvert_exporter": "python",
   "pygments_lexer": "ipython3",
   "version": "3.10.16"
  }
 },
 "nbformat": 4,
 "nbformat_minor": 2
}
